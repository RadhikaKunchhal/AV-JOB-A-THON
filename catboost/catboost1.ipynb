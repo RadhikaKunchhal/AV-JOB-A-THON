{
 "metadata": {
  "language_info": {
   "codemirror_mode": {
    "name": "ipython",
    "version": 3
   },
   "file_extension": ".py",
   "mimetype": "text/x-python",
   "name": "python",
   "nbconvert_exporter": "python",
   "pygments_lexer": "ipython3",
   "version": "3.8.5-final"
  },
  "orig_nbformat": 2,
  "kernelspec": {
   "name": "python3",
   "display_name": "Python 3.8.5 64-bit",
   "metadata": {
    "interpreter": {
     "hash": "006cf0146e1b2adb9befef93c4f4a0b3f5d6dd1fbbffdd8b2f06cde5fad86e4a"
    }
   }
  }
 },
 "nbformat": 4,
 "nbformat_minor": 2,
 "cells": [
  {
   "cell_type": "code",
   "execution_count": 24,
   "metadata": {},
   "outputs": [],
   "source": [
    "import pandas as pd\n",
    "import numpy as np\n",
    "import matplotlib.pyplot as plt\n",
    "import seaborn as sns\n",
    "from datetime import date, timedelta\n",
    "import os\n"
   ]
  },
  {
   "cell_type": "code",
   "execution_count": 25,
   "metadata": {},
   "outputs": [],
   "source": [
    "X_train= pd.read_csv('X_train.csv',index_col =None)\n",
    "y_train = pd.read_csv('y_train.csv',index_col =None)\n",
    "\n",
    "X_val = pd.read_csv('X_val.csv',index_col =None)\n",
    "y_val = pd.read_csv('y_val.csv',index_col =None)\n",
    "\n",
    "df_test= pd.read_csv('df_test.csv',index_col =None)\n",
    "\n"
   ]
  },
  {
   "cell_type": "code",
   "execution_count": 26,
   "metadata": {},
   "outputs": [
    {
     "output_type": "execute_result",
     "data": {
      "text/plain": [
       "      City_Code  Region_Code Accomodation_Type Reco_Insurance_Type Is_Spouse  \\\n",
       "0            C1          631             Owned          Individual        No   \n",
       "1           C19         1947             Owned          Individual        No   \n",
       "2            C8          350             Owned          Individual        No   \n",
       "3            C1         1159            Rented          Individual        No   \n",
       "4           C28         3716            Rented          Individual        No   \n",
       "...         ...          ...               ...                 ...       ...   \n",
       "12716        C1         2535             Owned               Joint       Yes   \n",
       "12717        C2         3241            Rented          Individual        No   \n",
       "12718        C1         5258             Owned          Individual        No   \n",
       "12719        C4         4117             Owned          Individual        No   \n",
       "12720        C1           15             Owned          Individual        No   \n",
       "\n",
       "      Health Indicator  Holding_Policy_Duration  Holding_Policy_Type  \\\n",
       "0                   X2                     14.0                  4.0   \n",
       "1                   X3                      1.0                  1.0   \n",
       "2                    X                     14.0                  1.0   \n",
       "3                   X6                     14.0                  4.0   \n",
       "4                   X0                      0.0                  0.0   \n",
       "...                ...                      ...                  ...   \n",
       "12716               X3                     14.0                  5.0   \n",
       "12717               X2                     14.0                  5.0   \n",
       "12718               X1                     14.0                  1.0   \n",
       "12719               X4                     13.0                  3.0   \n",
       "12720               X1                     14.0                  4.0   \n",
       "\n",
       "       Reco_Policy_Cat  Reco_Policy_Premium  new_user  Top_tier_cities  \\\n",
       "0                   22                21352         0                1   \n",
       "1                    2                11280         0                0   \n",
       "2                   22                14400         0                1   \n",
       "3                   21                13040         0                1   \n",
       "4                   15                 8722         1                0   \n",
       "...                ...                  ...       ...              ...   \n",
       "12716               18                21696         0                1   \n",
       "12717               22                14498         0                1   \n",
       "12718               19                17080         0                1   \n",
       "12719               18                13772         0                1   \n",
       "12720               17                18656         0                1   \n",
       "\n",
       "       Age_Bracket  AgeBin  \n",
       "0                0       5  \n",
       "1                0       4  \n",
       "2                0       5  \n",
       "3                0       2  \n",
       "4                0       1  \n",
       "...            ...     ...  \n",
       "12716            4       4  \n",
       "12717            0       4  \n",
       "12718            0       5  \n",
       "12719            0       4  \n",
       "12720            0       5  \n",
       "\n",
       "[12721 rows x 14 columns]"
      ],
      "text/html": "<div>\n<style scoped>\n    .dataframe tbody tr th:only-of-type {\n        vertical-align: middle;\n    }\n\n    .dataframe tbody tr th {\n        vertical-align: top;\n    }\n\n    .dataframe thead th {\n        text-align: right;\n    }\n</style>\n<table border=\"1\" class=\"dataframe\">\n  <thead>\n    <tr style=\"text-align: right;\">\n      <th></th>\n      <th>City_Code</th>\n      <th>Region_Code</th>\n      <th>Accomodation_Type</th>\n      <th>Reco_Insurance_Type</th>\n      <th>Is_Spouse</th>\n      <th>Health Indicator</th>\n      <th>Holding_Policy_Duration</th>\n      <th>Holding_Policy_Type</th>\n      <th>Reco_Policy_Cat</th>\n      <th>Reco_Policy_Premium</th>\n      <th>new_user</th>\n      <th>Top_tier_cities</th>\n      <th>Age_Bracket</th>\n      <th>AgeBin</th>\n    </tr>\n  </thead>\n  <tbody>\n    <tr>\n      <th>0</th>\n      <td>C1</td>\n      <td>631</td>\n      <td>Owned</td>\n      <td>Individual</td>\n      <td>No</td>\n      <td>X2</td>\n      <td>14.0</td>\n      <td>4.0</td>\n      <td>22</td>\n      <td>21352</td>\n      <td>0</td>\n      <td>1</td>\n      <td>0</td>\n      <td>5</td>\n    </tr>\n    <tr>\n      <th>1</th>\n      <td>C19</td>\n      <td>1947</td>\n      <td>Owned</td>\n      <td>Individual</td>\n      <td>No</td>\n      <td>X3</td>\n      <td>1.0</td>\n      <td>1.0</td>\n      <td>2</td>\n      <td>11280</td>\n      <td>0</td>\n      <td>0</td>\n      <td>0</td>\n      <td>4</td>\n    </tr>\n    <tr>\n      <th>2</th>\n      <td>C8</td>\n      <td>350</td>\n      <td>Owned</td>\n      <td>Individual</td>\n      <td>No</td>\n      <td>X</td>\n      <td>14.0</td>\n      <td>1.0</td>\n      <td>22</td>\n      <td>14400</td>\n      <td>0</td>\n      <td>1</td>\n      <td>0</td>\n      <td>5</td>\n    </tr>\n    <tr>\n      <th>3</th>\n      <td>C1</td>\n      <td>1159</td>\n      <td>Rented</td>\n      <td>Individual</td>\n      <td>No</td>\n      <td>X6</td>\n      <td>14.0</td>\n      <td>4.0</td>\n      <td>21</td>\n      <td>13040</td>\n      <td>0</td>\n      <td>1</td>\n      <td>0</td>\n      <td>2</td>\n    </tr>\n    <tr>\n      <th>4</th>\n      <td>C28</td>\n      <td>3716</td>\n      <td>Rented</td>\n      <td>Individual</td>\n      <td>No</td>\n      <td>X0</td>\n      <td>0.0</td>\n      <td>0.0</td>\n      <td>15</td>\n      <td>8722</td>\n      <td>1</td>\n      <td>0</td>\n      <td>0</td>\n      <td>1</td>\n    </tr>\n    <tr>\n      <th>...</th>\n      <td>...</td>\n      <td>...</td>\n      <td>...</td>\n      <td>...</td>\n      <td>...</td>\n      <td>...</td>\n      <td>...</td>\n      <td>...</td>\n      <td>...</td>\n      <td>...</td>\n      <td>...</td>\n      <td>...</td>\n      <td>...</td>\n      <td>...</td>\n    </tr>\n    <tr>\n      <th>12716</th>\n      <td>C1</td>\n      <td>2535</td>\n      <td>Owned</td>\n      <td>Joint</td>\n      <td>Yes</td>\n      <td>X3</td>\n      <td>14.0</td>\n      <td>5.0</td>\n      <td>18</td>\n      <td>21696</td>\n      <td>0</td>\n      <td>1</td>\n      <td>4</td>\n      <td>4</td>\n    </tr>\n    <tr>\n      <th>12717</th>\n      <td>C2</td>\n      <td>3241</td>\n      <td>Rented</td>\n      <td>Individual</td>\n      <td>No</td>\n      <td>X2</td>\n      <td>14.0</td>\n      <td>5.0</td>\n      <td>22</td>\n      <td>14498</td>\n      <td>0</td>\n      <td>1</td>\n      <td>0</td>\n      <td>4</td>\n    </tr>\n    <tr>\n      <th>12718</th>\n      <td>C1</td>\n      <td>5258</td>\n      <td>Owned</td>\n      <td>Individual</td>\n      <td>No</td>\n      <td>X1</td>\n      <td>14.0</td>\n      <td>1.0</td>\n      <td>19</td>\n      <td>17080</td>\n      <td>0</td>\n      <td>1</td>\n      <td>0</td>\n      <td>5</td>\n    </tr>\n    <tr>\n      <th>12719</th>\n      <td>C4</td>\n      <td>4117</td>\n      <td>Owned</td>\n      <td>Individual</td>\n      <td>No</td>\n      <td>X4</td>\n      <td>13.0</td>\n      <td>3.0</td>\n      <td>18</td>\n      <td>13772</td>\n      <td>0</td>\n      <td>1</td>\n      <td>0</td>\n      <td>4</td>\n    </tr>\n    <tr>\n      <th>12720</th>\n      <td>C1</td>\n      <td>15</td>\n      <td>Owned</td>\n      <td>Individual</td>\n      <td>No</td>\n      <td>X1</td>\n      <td>14.0</td>\n      <td>4.0</td>\n      <td>17</td>\n      <td>18656</td>\n      <td>0</td>\n      <td>1</td>\n      <td>0</td>\n      <td>5</td>\n    </tr>\n  </tbody>\n</table>\n<p>12721 rows × 14 columns</p>\n</div>"
     },
     "metadata": {},
     "execution_count": 26
    }
   ],
   "source": [
    "X_val"
   ]
  },
  {
   "cell_type": "code",
   "execution_count": 4,
   "metadata": {},
   "outputs": [],
   "source": [
    "# X_train['Holding_Policy_Duration']=X_train['Holding_Policy_Duration'].fillna(999)\n",
    "# X_train['Holding_Policy_Type']=X_train['Holding_Policy_Type'].fillna(999)\n",
    "# X_train['Health Indicator']= X_train['Health Indicator'].fillna(0)\n",
    "\n",
    "# X_val['Holding_Policy_Duration']=X_val['Holding_Policy_Duration'].fillna(999)\n",
    "# X_val['Holding_Policy_Type']=X_val['Holding_Policy_Type'].fillna(999)\n",
    "# X_val['Health Indicator']= X_val['Health Indicator'].fillna(0)\n",
    "\n",
    "# df_test['Holding_Policy_Duration']=df_test['Holding_Policy_Duration'].fillna(999)\n",
    "# df_test['Holding_Policy_Type']=df_test['Holding_Policy_Type'].fillna(999)\n",
    "# df_test['Health Indicator']= df_test['Health Indicator'].fillna(0)"
   ]
  },
  {
   "cell_type": "code",
   "execution_count": 27,
   "metadata": {},
   "outputs": [],
   "source": [
    "X_train['Holding_Policy_Duration'] = np.int64(X_train['Holding_Policy_Duration'])\n",
    "X_train['Holding_Policy_Type'] = np.int64(X_train['Holding_Policy_Type'])"
   ]
  },
  {
   "cell_type": "code",
   "execution_count": 28,
   "metadata": {},
   "outputs": [],
   "source": [
    "X_val['Holding_Policy_Duration'] = np.int64(X_val['Holding_Policy_Duration'])\n",
    "X_val['Holding_Policy_Type'] = np.int64(X_val['Holding_Policy_Type'])"
   ]
  },
  {
   "cell_type": "code",
   "execution_count": 29,
   "metadata": {},
   "outputs": [],
   "source": [
    "df_test['Holding_Policy_Duration'] = np.int64(df_test['Holding_Policy_Duration'])\n",
    "df_test['Holding_Policy_Type'] = np.int64(df_test['Holding_Policy_Type'])"
   ]
  },
  {
   "cell_type": "code",
   "execution_count": 30,
   "metadata": {},
   "outputs": [
    {
     "output_type": "stream",
     "name": "stdout",
     "text": [
      "<class 'pandas.core.frame.DataFrame'>\nRangeIndex: 38161 entries, 0 to 38160\nData columns (total 14 columns):\n #   Column                   Non-Null Count  Dtype \n---  ------                   --------------  ----- \n 0   City_Code                38161 non-null  object\n 1   Region_Code              38161 non-null  int64 \n 2   Accomodation_Type        38161 non-null  object\n 3   Reco_Insurance_Type      38161 non-null  object\n 4   Is_Spouse                38161 non-null  object\n 5   Health Indicator         38161 non-null  object\n 6   Holding_Policy_Duration  38161 non-null  int64 \n 7   Holding_Policy_Type      38161 non-null  int64 \n 8   Reco_Policy_Cat          38161 non-null  int64 \n 9   Reco_Policy_Premium      38161 non-null  int64 \n 10  new_user                 38161 non-null  int64 \n 11  Top_tier_cities          38161 non-null  int64 \n 12  Age_Bracket              38161 non-null  int64 \n 13  AgeBin                   38161 non-null  int64 \ndtypes: int64(9), object(5)\nmemory usage: 4.1+ MB\n"
     ]
    }
   ],
   "source": [
    "X_train.info()"
   ]
  },
  {
   "cell_type": "code",
   "execution_count": 31,
   "metadata": {},
   "outputs": [],
   "source": [
    "#defining catagorical columns and numerical columns\n",
    "cat_cols = ['City_Code',  'Accomodation_Type', 'Reco_Insurance_Type', 'Is_Spouse', 'Health Indicator','Holding_Policy_Duration', 'Holding_Policy_Type', 'Reco_Policy_Cat','Top_tier_cities','new_user','AgeBin']\n",
    "num_cols = ['Region_Code','Age_Bracket','Reco_Policy_Premium']\n",
    "\n",
    "X_train[cat_cols] = X_train[cat_cols].apply(lambda x: x.astype('category'))\n",
    "X_train[num_cols] = X_train[num_cols].apply(lambda x: x.astype('int'))"
   ]
  },
  {
   "cell_type": "code",
   "execution_count": 32,
   "metadata": {},
   "outputs": [],
   "source": [
    "#defining catagorical columns and numerical columns\n",
    "cat_cols = ['City_Code',  'Accomodation_Type', 'Reco_Insurance_Type', 'Is_Spouse', 'Health Indicator','Holding_Policy_Duration', 'Holding_Policy_Type', 'Reco_Policy_Cat','Top_tier_cities','new_user','AgeBin']\n",
    "num_cols = ['Region_Code','Age_Bracket','Reco_Policy_Premium']\n",
    "\n",
    "X_val[cat_cols] = X_val[cat_cols].apply(lambda x: x.astype('category'))\n",
    "X_val[num_cols] = X_val[num_cols].apply(lambda x: x.astype('int'))"
   ]
  },
  {
   "cell_type": "code",
   "execution_count": 33,
   "metadata": {},
   "outputs": [],
   "source": [
    "#defining catagorical columns and numerical columns\n",
    "cat_cols = ['City_Code',  'Accomodation_Type', 'Reco_Insurance_Type', 'Is_Spouse', 'Health Indicator','Holding_Policy_Duration', 'Holding_Policy_Type', 'Reco_Policy_Cat','Top_tier_cities','new_user','AgeBin']\n",
    "num_cols = ['Region_Code','Age_Bracket','Reco_Policy_Premium']\n",
    "\n",
    "df_test[cat_cols] = df_test[cat_cols].apply(lambda x: x.astype('category'))\n",
    "df_test[num_cols] = df_test[num_cols].apply(lambda x: x.astype('int'))"
   ]
  },
  {
   "cell_type": "code",
   "execution_count": 37,
   "metadata": {},
   "outputs": [
    {
     "output_type": "execute_result",
     "data": {
      "text/plain": [
       "0        0\n",
       "1        0\n",
       "2        0\n",
       "3        0\n",
       "4        1\n",
       "        ..\n",
       "38156    0\n",
       "38157    0\n",
       "38158    0\n",
       "38159    0\n",
       "38160    0\n",
       "Name: Response, Length: 38161, dtype: int64"
      ]
     },
     "metadata": {},
     "execution_count": 37
    }
   ],
   "source": [
    "# y_train['Response'] = y_train['Response'].apply(lambda x: x.astype('category'))\n",
    "# y_val['Response'] = y_val['Response'].apply(lambda x: x.astype('category'))\n"
   ]
  },
  {
   "cell_type": "code",
   "execution_count": 12,
   "metadata": {},
   "outputs": [
    {
     "output_type": "execute_result",
     "data": {
      "text/plain": [
       "          ID City_Code Region_Code Accomodation_Type Reco_Insurance_Type  \\\n",
       "13664  28444       C33        1179            Rented          Individual   \n",
       "12549   3594        C3        2232             Owned          Individual   \n",
       "22746  45589       C26        1076            Rented          Individual   \n",
       "18253  47889        C8        5221             Owned          Individual   \n",
       "33389  21398       C25        2389            Rented          Individual   \n",
       "23977  50577        C2        3013             Owned          Individual   \n",
       "27629  31048       C12        3637             Owned          Individual   \n",
       "23656  34800        C1        1065             Owned          Individual   \n",
       "13721  23129        C5         514             Owned          Individual   \n",
       "29703  25261       C12         115            Rented          Individual   \n",
       "\n",
       "      Is_Spouse Health Indicator Holding_Policy_Duration Holding_Policy_Type  \\\n",
       "13664        No               X2                     999                 999   \n",
       "12549        No               X5                       9                   4   \n",
       "22746        No                0                       6                   3   \n",
       "18253        No               X3                     999                 999   \n",
       "33389        No               X1                     999                 999   \n",
       "23977        No               X1                     999                 999   \n",
       "27629        No               X1                       9                   3   \n",
       "23656        No               X2                       4                   3   \n",
       "13721        No                0                       1                   2   \n",
       "29703        No               X1                     999                 999   \n",
       "\n",
       "      Reco_Policy_Cat  Reco_Policy_Premium  Age_Bracket Top_tier_cities  \\\n",
       "13664              22                10248            0               0   \n",
       "12549              18                16172            0               1   \n",
       "22746              17                 5064            0               0   \n",
       "18253              13                10386            0               1   \n",
       "33389              15                 3540            0               0   \n",
       "23977              21                14520            0               1   \n",
       "27629              18                 6230            0               0   \n",
       "23656              18                22176            0               1   \n",
       "13721              20                 9604            0               1   \n",
       "29703              19                13420            0               0   \n",
       "\n",
       "      new_users AgeBin  \n",
       "13664         1      1  \n",
       "12549         0      5  \n",
       "22746         0      1  \n",
       "18253         1      2  \n",
       "33389         1      1  \n",
       "23977         1      5  \n",
       "27629         0      2  \n",
       "23656         0      5  \n",
       "13721         0      2  \n",
       "29703         1      3  "
      ],
      "text/html": "<div>\n<style scoped>\n    .dataframe tbody tr th:only-of-type {\n        vertical-align: middle;\n    }\n\n    .dataframe tbody tr th {\n        vertical-align: top;\n    }\n\n    .dataframe thead th {\n        text-align: right;\n    }\n</style>\n<table border=\"1\" class=\"dataframe\">\n  <thead>\n    <tr style=\"text-align: right;\">\n      <th></th>\n      <th>ID</th>\n      <th>City_Code</th>\n      <th>Region_Code</th>\n      <th>Accomodation_Type</th>\n      <th>Reco_Insurance_Type</th>\n      <th>Is_Spouse</th>\n      <th>Health Indicator</th>\n      <th>Holding_Policy_Duration</th>\n      <th>Holding_Policy_Type</th>\n      <th>Reco_Policy_Cat</th>\n      <th>Reco_Policy_Premium</th>\n      <th>Age_Bracket</th>\n      <th>Top_tier_cities</th>\n      <th>new_users</th>\n      <th>AgeBin</th>\n    </tr>\n  </thead>\n  <tbody>\n    <tr>\n      <th>13664</th>\n      <td>28444</td>\n      <td>C33</td>\n      <td>1179</td>\n      <td>Rented</td>\n      <td>Individual</td>\n      <td>No</td>\n      <td>X2</td>\n      <td>999</td>\n      <td>999</td>\n      <td>22</td>\n      <td>10248</td>\n      <td>0</td>\n      <td>0</td>\n      <td>1</td>\n      <td>1</td>\n    </tr>\n    <tr>\n      <th>12549</th>\n      <td>3594</td>\n      <td>C3</td>\n      <td>2232</td>\n      <td>Owned</td>\n      <td>Individual</td>\n      <td>No</td>\n      <td>X5</td>\n      <td>9</td>\n      <td>4</td>\n      <td>18</td>\n      <td>16172</td>\n      <td>0</td>\n      <td>1</td>\n      <td>0</td>\n      <td>5</td>\n    </tr>\n    <tr>\n      <th>22746</th>\n      <td>45589</td>\n      <td>C26</td>\n      <td>1076</td>\n      <td>Rented</td>\n      <td>Individual</td>\n      <td>No</td>\n      <td>0</td>\n      <td>6</td>\n      <td>3</td>\n      <td>17</td>\n      <td>5064</td>\n      <td>0</td>\n      <td>0</td>\n      <td>0</td>\n      <td>1</td>\n    </tr>\n    <tr>\n      <th>18253</th>\n      <td>47889</td>\n      <td>C8</td>\n      <td>5221</td>\n      <td>Owned</td>\n      <td>Individual</td>\n      <td>No</td>\n      <td>X3</td>\n      <td>999</td>\n      <td>999</td>\n      <td>13</td>\n      <td>10386</td>\n      <td>0</td>\n      <td>1</td>\n      <td>1</td>\n      <td>2</td>\n    </tr>\n    <tr>\n      <th>33389</th>\n      <td>21398</td>\n      <td>C25</td>\n      <td>2389</td>\n      <td>Rented</td>\n      <td>Individual</td>\n      <td>No</td>\n      <td>X1</td>\n      <td>999</td>\n      <td>999</td>\n      <td>15</td>\n      <td>3540</td>\n      <td>0</td>\n      <td>0</td>\n      <td>1</td>\n      <td>1</td>\n    </tr>\n    <tr>\n      <th>23977</th>\n      <td>50577</td>\n      <td>C2</td>\n      <td>3013</td>\n      <td>Owned</td>\n      <td>Individual</td>\n      <td>No</td>\n      <td>X1</td>\n      <td>999</td>\n      <td>999</td>\n      <td>21</td>\n      <td>14520</td>\n      <td>0</td>\n      <td>1</td>\n      <td>1</td>\n      <td>5</td>\n    </tr>\n    <tr>\n      <th>27629</th>\n      <td>31048</td>\n      <td>C12</td>\n      <td>3637</td>\n      <td>Owned</td>\n      <td>Individual</td>\n      <td>No</td>\n      <td>X1</td>\n      <td>9</td>\n      <td>3</td>\n      <td>18</td>\n      <td>6230</td>\n      <td>0</td>\n      <td>0</td>\n      <td>0</td>\n      <td>2</td>\n    </tr>\n    <tr>\n      <th>23656</th>\n      <td>34800</td>\n      <td>C1</td>\n      <td>1065</td>\n      <td>Owned</td>\n      <td>Individual</td>\n      <td>No</td>\n      <td>X2</td>\n      <td>4</td>\n      <td>3</td>\n      <td>18</td>\n      <td>22176</td>\n      <td>0</td>\n      <td>1</td>\n      <td>0</td>\n      <td>5</td>\n    </tr>\n    <tr>\n      <th>13721</th>\n      <td>23129</td>\n      <td>C5</td>\n      <td>514</td>\n      <td>Owned</td>\n      <td>Individual</td>\n      <td>No</td>\n      <td>0</td>\n      <td>1</td>\n      <td>2</td>\n      <td>20</td>\n      <td>9604</td>\n      <td>0</td>\n      <td>1</td>\n      <td>0</td>\n      <td>2</td>\n    </tr>\n    <tr>\n      <th>29703</th>\n      <td>25261</td>\n      <td>C12</td>\n      <td>115</td>\n      <td>Rented</td>\n      <td>Individual</td>\n      <td>No</td>\n      <td>X1</td>\n      <td>999</td>\n      <td>999</td>\n      <td>19</td>\n      <td>13420</td>\n      <td>0</td>\n      <td>0</td>\n      <td>1</td>\n      <td>3</td>\n    </tr>\n  </tbody>\n</table>\n</div>"
     },
     "metadata": {},
     "execution_count": 12
    }
   ],
   "source": [
    "X_train.sample(10)"
   ]
  },
  {
   "cell_type": "code",
   "execution_count": 38,
   "metadata": {},
   "outputs": [],
   "source": [
    "catcols = ['City_Code',  'Accomodation_Type', 'Reco_Insurance_Type', 'Is_Spouse', 'Health Indicator','Holding_Policy_Duration', 'Holding_Policy_Type', 'Reco_Policy_Cat','Top_tier_cities','new_user','AgeBin']\n"
   ]
  },
  {
   "cell_type": "code",
   "execution_count": 39,
   "metadata": {},
   "outputs": [],
   "source": [
    "# X_train.drop(columns = 'ID', axis=1, inplace=True)\n",
    "# X_val.drop(columns = 'ID', axis=1, inplace=True)\n",
    "# df_test.drop(columns = 'ID', axis=1, inplace=True)"
   ]
  },
  {
   "cell_type": "code",
   "execution_count": 40,
   "metadata": {},
   "outputs": [
    {
     "output_type": "stream",
     "name": "stdout",
     "text": [
      "<class 'pandas.core.frame.DataFrame'>\nRangeIndex: 38161 entries, 0 to 38160\nData columns (total 14 columns):\n #   Column                   Non-Null Count  Dtype   \n---  ------                   --------------  -----   \n 0   City_Code                38161 non-null  category\n 1   Region_Code              38161 non-null  int32   \n 2   Accomodation_Type        38161 non-null  category\n 3   Reco_Insurance_Type      38161 non-null  category\n 4   Is_Spouse                38161 non-null  category\n 5   Health Indicator         38161 non-null  category\n 6   Holding_Policy_Duration  38161 non-null  category\n 7   Holding_Policy_Type      38161 non-null  category\n 8   Reco_Policy_Cat          38161 non-null  category\n 9   Reco_Policy_Premium      38161 non-null  int32   \n 10  new_user                 38161 non-null  category\n 11  Top_tier_cities          38161 non-null  category\n 12  Age_Bracket              38161 non-null  int32   \n 13  AgeBin                   38161 non-null  category\ndtypes: category(11), int32(3)\nmemory usage: 861.4 KB\n"
     ]
    }
   ],
   "source": [
    "X_train.info()"
   ]
  },
  {
   "cell_type": "code",
   "execution_count": 41,
   "metadata": {},
   "outputs": [],
   "source": [
    "from catboost import CatBoostClassifier\n",
    "from sklearn.metrics import roc_auc_score\n",
    "model=CatBoostClassifier()"
   ]
  },
  {
   "cell_type": "code",
   "execution_count": 126,
   "metadata": {
    "tags": []
   },
   "outputs": [],
   "source": [
    "# model.fit(X_train,y_train,cat_features=cat_cols)"
   ]
  },
  {
   "cell_type": "code",
   "execution_count": 50,
   "metadata": {},
   "outputs": [],
   "source": [
    "prediction=model.predict(X_val)\n",
    "prediction.min()"
   ]
  },
  {
   "cell_type": "code",
   "execution_count": 52,
   "metadata": {},
   "outputs": [],
   "source": [
    "predictions=[]\n",
    "for i in prediction:\n",
    "    if i<0:\n",
    "        predictions.append(0)\n",
    "    else:\n",
    "        predictions.append(i)\n",
    "        "
   ]
  },
  {
   "cell_type": "code",
   "execution_count": 53,
   "metadata": {},
   "outputs": [],
   "source": [
    "predictions=np.array(predictions)\n",
    "\n",
    "auc_lr1 =  roc_auc_score(y_val,predictions)\n",
    "auc_lr1"
   ]
  },
  {
   "cell_type": "code",
   "execution_count": 63,
   "metadata": {},
   "outputs": [],
   "source": [
    "test_prediction=model.predict(df_test)"
   ]
  },
  {
   "cell_type": "code",
   "execution_count": 64,
   "metadata": {},
   "outputs": [],
   "source": [
    "test_predictions=[]\n",
    "for i in test_prediction:\n",
    "    if i<0:\n",
    "        test_predictions.append(0)\n",
    "    else:\n",
    "        test_predictions.append(i)"
   ]
  },
  {
   "cell_type": "code",
   "execution_count": 72,
   "metadata": {},
   "outputs": [],
   "source": [
    "test_predictions=np.array(test_predictions)"
   ]
  },
  {
   "cell_type": "code",
   "execution_count": 73,
   "metadata": {},
   "outputs": [
    {
     "output_type": "execute_result",
     "data": {
      "text/plain": [
       "(0.0, 0.9368538314053848)"
      ]
     },
     "metadata": {},
     "execution_count": 73
    }
   ],
   "source": [
    "test_predictions.min(), test_predictions.max()"
   ]
  },
  {
   "cell_type": "code",
   "execution_count": 74,
   "metadata": {},
   "outputs": [],
   "source": [
    "test_submit1=[]\n",
    "for i in test_predictions:\n",
    "    if i<0.5:\n",
    "        test_submit1.append(0)\n",
    "    else:\n",
    "        test_submit1.append(1)"
   ]
  },
  {
   "cell_type": "code",
   "execution_count": 76,
   "metadata": {},
   "outputs": [
    {
     "output_type": "execute_result",
     "data": {
      "text/plain": [
       "(21805,)"
      ]
     },
     "metadata": {},
     "execution_count": 76
    }
   ],
   "source": [
    "test_submit1=np.array(test_submit1)\n",
    "test_submit1.shape"
   ]
  },
  {
   "cell_type": "code",
   "execution_count": 133,
   "metadata": {},
   "outputs": [],
   "source": [
    "df_submit = pd.read_csv('sample_submission.csv',index_col = None)"
   ]
  },
  {
   "cell_type": "code",
   "execution_count": 134,
   "metadata": {},
   "outputs": [
    {
     "output_type": "execute_result",
     "data": {
      "text/plain": [
       "      ID  Response\n",
       "0  50883         0\n",
       "1  50884         0\n",
       "2  50885         0\n",
       "3  50886         0\n",
       "4  50887         0"
      ],
      "text/html": "<div>\n<style scoped>\n    .dataframe tbody tr th:only-of-type {\n        vertical-align: middle;\n    }\n\n    .dataframe tbody tr th {\n        vertical-align: top;\n    }\n\n    .dataframe thead th {\n        text-align: right;\n    }\n</style>\n<table border=\"1\" class=\"dataframe\">\n  <thead>\n    <tr style=\"text-align: right;\">\n      <th></th>\n      <th>ID</th>\n      <th>Response</th>\n    </tr>\n  </thead>\n  <tbody>\n    <tr>\n      <th>0</th>\n      <td>50883</td>\n      <td>0</td>\n    </tr>\n    <tr>\n      <th>1</th>\n      <td>50884</td>\n      <td>0</td>\n    </tr>\n    <tr>\n      <th>2</th>\n      <td>50885</td>\n      <td>0</td>\n    </tr>\n    <tr>\n      <th>3</th>\n      <td>50886</td>\n      <td>0</td>\n    </tr>\n    <tr>\n      <th>4</th>\n      <td>50887</td>\n      <td>0</td>\n    </tr>\n  </tbody>\n</table>\n</div>"
     },
     "metadata": {},
     "execution_count": 134
    }
   ],
   "source": [
    "df_submit.head()"
   ]
  },
  {
   "cell_type": "code",
   "execution_count": 82,
   "metadata": {},
   "outputs": [],
   "source": [
    "dict={'ID':df_submit[\"ID\"],'Response':test_submit1}\n",
    "df_submit=pd.DataFrame(dict)\n",
    "df_submit.to_csv('catboost1.csv',index=False)"
   ]
  },
  {
   "cell_type": "code",
   "execution_count": 88,
   "metadata": {},
   "outputs": [
    {
     "output_type": "execute_result",
     "data": {
      "text/plain": [
       "0    19155\n",
       "1     2650\n",
       "Name: Response, dtype: int64"
      ]
     },
     "metadata": {},
     "execution_count": 88
    }
   ],
   "source": [
    "df_submit['Response'].value_counts()"
   ]
  },
  {
   "source": [
    "## hypertuning\n"
   ],
   "cell_type": "markdown",
   "metadata": {}
  },
  {
   "cell_type": "code",
   "execution_count": 42,
   "metadata": {},
   "outputs": [],
   "source": [
    "from sklearn.model_selection import RandomizedSearchCV"
   ]
  },
  {
   "cell_type": "code",
   "execution_count": 43,
   "metadata": {},
   "outputs": [],
   "source": [
    "parameter_grid = {\n",
    "          'max_depth':[3,1,2,5,7,9,10],\n",
    "          'iterations':[500,750,1000,1500],\n",
    "          'learning_rate':[0.001,0.05,0.03,0.01,0.1,0.3], \n",
    "          'l2_leaf_reg':[0,3,1,5,10,100],\n",
    "          'bagging_temperature':[0,1],\n",
    "          'random_strength':[0,1,3,5]\n",
    "          }"
   ]
  },
  {
   "cell_type": "code",
   "execution_count": 44,
   "metadata": {},
   "outputs": [],
   "source": [
    "model1=CatBoostClassifier(cat_features=cat_cols)"
   ]
  },
  {
   "cell_type": "code",
   "execution_count": 45,
   "metadata": {},
   "outputs": [],
   "source": [
    "randomsearch=RandomizedSearchCV(model1,param_distributions=parameter_grid,verbose=2,n_iter=3,cv=3)"
   ]
  },
  {
   "cell_type": "code",
   "execution_count": 46,
   "metadata": {
    "tags": [
     "outputPrepend"
    ]
   },
   "outputs": [
    {
     "output_type": "stream",
     "name": "stdout",
     "text": [
      "maining: 1m\n",
      "620:\tlearn: 0.4821438\ttotal: 1m 38s\tremaining: 1m\n",
      "621:\tlearn: 0.4820884\ttotal: 1m 38s\tremaining: 59.9s\n",
      "622:\tlearn: 0.4820337\ttotal: 1m 38s\tremaining: 59.7s\n",
      "623:\tlearn: 0.4820064\ttotal: 1m 38s\tremaining: 59.6s\n",
      "624:\tlearn: 0.4819977\ttotal: 1m 39s\tremaining: 59.4s\n",
      "625:\tlearn: 0.4819325\ttotal: 1m 39s\tremaining: 59.3s\n",
      "626:\tlearn: 0.4819073\ttotal: 1m 39s\tremaining: 59.1s\n",
      "627:\tlearn: 0.4818724\ttotal: 1m 39s\tremaining: 58.9s\n",
      "628:\tlearn: 0.4818518\ttotal: 1m 39s\tremaining: 58.8s\n",
      "629:\tlearn: 0.4818194\ttotal: 1m 39s\tremaining: 58.6s\n",
      "630:\tlearn: 0.4817752\ttotal: 1m 40s\tremaining: 58.5s\n",
      "631:\tlearn: 0.4817055\ttotal: 1m 40s\tremaining: 58.3s\n",
      "632:\tlearn: 0.4816531\ttotal: 1m 40s\tremaining: 58.2s\n",
      "633:\tlearn: 0.4816318\ttotal: 1m 40s\tremaining: 58s\n",
      "634:\tlearn: 0.4815388\ttotal: 1m 40s\tremaining: 57.9s\n",
      "635:\tlearn: 0.4814495\ttotal: 1m 40s\tremaining: 57.7s\n",
      "636:\tlearn: 0.4814345\ttotal: 1m 40s\tremaining: 57.5s\n",
      "637:\tlearn: 0.4813968\ttotal: 1m 41s\tremaining: 57.4s\n",
      "638:\tlearn: 0.4813573\ttotal: 1m 41s\tremaining: 57.2s\n",
      "639:\tlearn: 0.4813371\ttotal: 1m 41s\tremaining: 57s\n",
      "640:\tlearn: 0.4813039\ttotal: 1m 41s\tremaining: 56.8s\n",
      "641:\tlearn: 0.4812891\ttotal: 1m 41s\tremaining: 56.7s\n",
      "642:\tlearn: 0.4812502\ttotal: 1m 41s\tremaining: 56.5s\n",
      "643:\tlearn: 0.4811986\ttotal: 1m 41s\tremaining: 56.3s\n",
      "644:\tlearn: 0.4811791\ttotal: 1m 42s\tremaining: 56.2s\n",
      "645:\tlearn: 0.4811396\ttotal: 1m 42s\tremaining: 56s\n",
      "646:\tlearn: 0.4811222\ttotal: 1m 42s\tremaining: 55.8s\n",
      "647:\tlearn: 0.4810588\ttotal: 1m 42s\tremaining: 55.6s\n",
      "648:\tlearn: 0.4810198\ttotal: 1m 42s\tremaining: 55.5s\n",
      "649:\tlearn: 0.4810097\ttotal: 1m 42s\tremaining: 55.3s\n",
      "650:\tlearn: 0.4809341\ttotal: 1m 42s\tremaining: 55.1s\n",
      "651:\tlearn: 0.4808976\ttotal: 1m 42s\tremaining: 55s\n",
      "652:\tlearn: 0.4808446\ttotal: 1m 43s\tremaining: 54.8s\n",
      "653:\tlearn: 0.4807691\ttotal: 1m 43s\tremaining: 54.6s\n",
      "654:\tlearn: 0.4806948\ttotal: 1m 43s\tremaining: 54.5s\n",
      "655:\tlearn: 0.4806171\ttotal: 1m 43s\tremaining: 54.3s\n",
      "656:\tlearn: 0.4805757\ttotal: 1m 43s\tremaining: 54.1s\n",
      "657:\tlearn: 0.4805385\ttotal: 1m 43s\tremaining: 54s\n",
      "658:\tlearn: 0.4805190\ttotal: 1m 43s\tremaining: 53.8s\n",
      "659:\tlearn: 0.4804664\ttotal: 1m 44s\tremaining: 53.6s\n",
      "660:\tlearn: 0.4804293\ttotal: 1m 44s\tremaining: 53.5s\n",
      "661:\tlearn: 0.4803749\ttotal: 1m 44s\tremaining: 53.3s\n",
      "662:\tlearn: 0.4803528\ttotal: 1m 44s\tremaining: 53.1s\n",
      "663:\tlearn: 0.4803285\ttotal: 1m 44s\tremaining: 53s\n",
      "664:\tlearn: 0.4803097\ttotal: 1m 44s\tremaining: 52.8s\n",
      "665:\tlearn: 0.4802796\ttotal: 1m 44s\tremaining: 52.7s\n",
      "666:\tlearn: 0.4802249\ttotal: 1m 45s\tremaining: 52.5s\n",
      "667:\tlearn: 0.4801660\ttotal: 1m 45s\tremaining: 52.3s\n",
      "668:\tlearn: 0.4800593\ttotal: 1m 45s\tremaining: 52.2s\n",
      "669:\tlearn: 0.4800087\ttotal: 1m 45s\tremaining: 52s\n",
      "670:\tlearn: 0.4799683\ttotal: 1m 45s\tremaining: 51.9s\n",
      "671:\tlearn: 0.4798915\ttotal: 1m 45s\tremaining: 51.7s\n",
      "672:\tlearn: 0.4798506\ttotal: 1m 46s\tremaining: 51.5s\n",
      "673:\tlearn: 0.4798263\ttotal: 1m 46s\tremaining: 51.4s\n",
      "674:\tlearn: 0.4797812\ttotal: 1m 46s\tremaining: 51.2s\n",
      "675:\tlearn: 0.4797589\ttotal: 1m 46s\tremaining: 51.1s\n",
      "676:\tlearn: 0.4796652\ttotal: 1m 46s\tremaining: 50.9s\n",
      "677:\tlearn: 0.4796301\ttotal: 1m 46s\tremaining: 50.7s\n",
      "678:\tlearn: 0.4795810\ttotal: 1m 46s\tremaining: 50.6s\n",
      "679:\tlearn: 0.4795609\ttotal: 1m 47s\tremaining: 50.4s\n",
      "680:\tlearn: 0.4795295\ttotal: 1m 47s\tremaining: 50.3s\n",
      "681:\tlearn: 0.4795103\ttotal: 1m 47s\tremaining: 50.1s\n",
      "682:\tlearn: 0.4794502\ttotal: 1m 47s\tremaining: 49.9s\n",
      "683:\tlearn: 0.4793858\ttotal: 1m 47s\tremaining: 49.7s\n",
      "684:\tlearn: 0.4793458\ttotal: 1m 47s\tremaining: 49.6s\n",
      "685:\tlearn: 0.4793087\ttotal: 1m 47s\tremaining: 49.4s\n",
      "686:\tlearn: 0.4792870\ttotal: 1m 48s\tremaining: 49.2s\n",
      "687:\tlearn: 0.4792092\ttotal: 1m 48s\tremaining: 49.1s\n",
      "688:\tlearn: 0.4791815\ttotal: 1m 48s\tremaining: 48.9s\n",
      "689:\tlearn: 0.4791411\ttotal: 1m 48s\tremaining: 48.7s\n",
      "690:\tlearn: 0.4790958\ttotal: 1m 48s\tremaining: 48.6s\n",
      "691:\tlearn: 0.4790679\ttotal: 1m 48s\tremaining: 48.4s\n",
      "692:\tlearn: 0.4790105\ttotal: 1m 48s\tremaining: 48.2s\n",
      "693:\tlearn: 0.4789693\ttotal: 1m 48s\tremaining: 48s\n",
      "694:\tlearn: 0.4789523\ttotal: 1m 49s\tremaining: 47.9s\n",
      "695:\tlearn: 0.4789357\ttotal: 1m 49s\tremaining: 47.8s\n",
      "696:\tlearn: 0.4789002\ttotal: 1m 49s\tremaining: 47.6s\n",
      "697:\tlearn: 0.4788620\ttotal: 1m 49s\tremaining: 47.5s\n",
      "698:\tlearn: 0.4788208\ttotal: 1m 49s\tremaining: 47.3s\n",
      "699:\tlearn: 0.4787661\ttotal: 1m 50s\tremaining: 47.2s\n",
      "700:\tlearn: 0.4787361\ttotal: 1m 50s\tremaining: 47s\n",
      "701:\tlearn: 0.4786934\ttotal: 1m 50s\tremaining: 46.8s\n",
      "702:\tlearn: 0.4786736\ttotal: 1m 50s\tremaining: 46.6s\n",
      "703:\tlearn: 0.4786299\ttotal: 1m 50s\tremaining: 46.5s\n",
      "704:\tlearn: 0.4785891\ttotal: 1m 50s\tremaining: 46.3s\n",
      "705:\tlearn: 0.4785607\ttotal: 1m 50s\tremaining: 46.2s\n",
      "706:\tlearn: 0.4785323\ttotal: 1m 51s\tremaining: 46s\n",
      "707:\tlearn: 0.4785051\ttotal: 1m 51s\tremaining: 45.8s\n",
      "708:\tlearn: 0.4784902\ttotal: 1m 51s\tremaining: 45.7s\n",
      "709:\tlearn: 0.4784748\ttotal: 1m 51s\tremaining: 45.5s\n",
      "710:\tlearn: 0.4784303\ttotal: 1m 51s\tremaining: 45.4s\n",
      "711:\tlearn: 0.4783475\ttotal: 1m 51s\tremaining: 45.2s\n",
      "712:\tlearn: 0.4783077\ttotal: 1m 51s\tremaining: 45.1s\n",
      "713:\tlearn: 0.4782921\ttotal: 1m 52s\tremaining: 44.9s\n",
      "714:\tlearn: 0.4782369\ttotal: 1m 52s\tremaining: 44.7s\n",
      "715:\tlearn: 0.4782095\ttotal: 1m 52s\tremaining: 44.6s\n",
      "716:\tlearn: 0.4781355\ttotal: 1m 52s\tremaining: 44.4s\n",
      "717:\tlearn: 0.4781134\ttotal: 1m 52s\tremaining: 44.3s\n",
      "718:\tlearn: 0.4780816\ttotal: 1m 52s\tremaining: 44.1s\n",
      "719:\tlearn: 0.4780112\ttotal: 1m 53s\tremaining: 44s\n",
      "720:\tlearn: 0.4779661\ttotal: 1m 53s\tremaining: 43.8s\n",
      "721:\tlearn: 0.4779128\ttotal: 1m 53s\tremaining: 43.7s\n",
      "722:\tlearn: 0.4778769\ttotal: 1m 53s\tremaining: 43.5s\n",
      "723:\tlearn: 0.4778561\ttotal: 1m 53s\tremaining: 43.3s\n",
      "724:\tlearn: 0.4778242\ttotal: 1m 53s\tremaining: 43.2s\n",
      "725:\tlearn: 0.4778006\ttotal: 1m 54s\tremaining: 43s\n",
      "726:\tlearn: 0.4777769\ttotal: 1m 54s\tremaining: 42.9s\n",
      "727:\tlearn: 0.4777394\ttotal: 1m 54s\tremaining: 42.7s\n",
      "728:\tlearn: 0.4776866\ttotal: 1m 54s\tremaining: 42.5s\n",
      "729:\tlearn: 0.4776465\ttotal: 1m 54s\tremaining: 42.4s\n",
      "730:\tlearn: 0.4775869\ttotal: 1m 54s\tremaining: 42.2s\n",
      "731:\tlearn: 0.4775570\ttotal: 1m 54s\tremaining: 42.1s\n",
      "732:\tlearn: 0.4775253\ttotal: 1m 54s\tremaining: 41.9s\n",
      "733:\tlearn: 0.4774745\ttotal: 1m 55s\tremaining: 41.7s\n",
      "734:\tlearn: 0.4774076\ttotal: 1m 55s\tremaining: 41.5s\n",
      "735:\tlearn: 0.4773758\ttotal: 1m 55s\tremaining: 41.4s\n",
      "736:\tlearn: 0.4773181\ttotal: 1m 55s\tremaining: 41.2s\n",
      "737:\tlearn: 0.4772576\ttotal: 1m 55s\tremaining: 41.1s\n",
      "738:\tlearn: 0.4771857\ttotal: 1m 55s\tremaining: 40.9s\n",
      "739:\tlearn: 0.4771091\ttotal: 1m 55s\tremaining: 40.7s\n",
      "740:\tlearn: 0.4770465\ttotal: 1m 56s\tremaining: 40.6s\n",
      "741:\tlearn: 0.4769484\ttotal: 1m 56s\tremaining: 40.4s\n",
      "742:\tlearn: 0.4769075\ttotal: 1m 56s\tremaining: 40.2s\n",
      "743:\tlearn: 0.4768686\ttotal: 1m 56s\tremaining: 40.1s\n",
      "744:\tlearn: 0.4768358\ttotal: 1m 56s\tremaining: 39.9s\n",
      "745:\tlearn: 0.4768154\ttotal: 1m 56s\tremaining: 39.8s\n",
      "746:\tlearn: 0.4767573\ttotal: 1m 56s\tremaining: 39.6s\n",
      "747:\tlearn: 0.4767281\ttotal: 1m 57s\tremaining: 39.4s\n",
      "748:\tlearn: 0.4766222\ttotal: 1m 57s\tremaining: 39.3s\n",
      "749:\tlearn: 0.4765859\ttotal: 1m 57s\tremaining: 39.1s\n",
      "750:\tlearn: 0.4765630\ttotal: 1m 57s\tremaining: 39s\n",
      "751:\tlearn: 0.4765341\ttotal: 1m 57s\tremaining: 38.8s\n",
      "752:\tlearn: 0.4764937\ttotal: 1m 57s\tremaining: 38.7s\n",
      "753:\tlearn: 0.4764572\ttotal: 1m 57s\tremaining: 38.5s\n",
      "754:\tlearn: 0.4764063\ttotal: 1m 58s\tremaining: 38.3s\n",
      "755:\tlearn: 0.4763756\ttotal: 1m 58s\tremaining: 38.2s\n",
      "756:\tlearn: 0.4763490\ttotal: 1m 58s\tremaining: 38s\n",
      "757:\tlearn: 0.4762828\ttotal: 1m 58s\tremaining: 37.9s\n",
      "758:\tlearn: 0.4762132\ttotal: 1m 58s\tremaining: 37.8s\n",
      "759:\tlearn: 0.4762008\ttotal: 1m 59s\tremaining: 37.6s\n",
      "760:\tlearn: 0.4761671\ttotal: 1m 59s\tremaining: 37.4s\n",
      "761:\tlearn: 0.4761089\ttotal: 1m 59s\tremaining: 37.3s\n",
      "762:\tlearn: 0.4760959\ttotal: 1m 59s\tremaining: 37.1s\n",
      "763:\tlearn: 0.4760453\ttotal: 1m 59s\tremaining: 37s\n",
      "764:\tlearn: 0.4760151\ttotal: 1m 59s\tremaining: 36.8s\n",
      "765:\tlearn: 0.4759785\ttotal: 2m\tremaining: 36.7s\n",
      "766:\tlearn: 0.4759722\ttotal: 2m\tremaining: 36.5s\n",
      "767:\tlearn: 0.4759055\ttotal: 2m\tremaining: 36.4s\n",
      "768:\tlearn: 0.4758954\ttotal: 2m\tremaining: 36.2s\n",
      "769:\tlearn: 0.4758467\ttotal: 2m\tremaining: 36.1s\n",
      "770:\tlearn: 0.4757685\ttotal: 2m\tremaining: 35.9s\n",
      "771:\tlearn: 0.4757424\ttotal: 2m 1s\tremaining: 35.8s\n",
      "772:\tlearn: 0.4757226\ttotal: 2m 1s\tremaining: 35.6s\n",
      "773:\tlearn: 0.4756904\ttotal: 2m 1s\tremaining: 35.4s\n",
      "774:\tlearn: 0.4756551\ttotal: 2m 1s\tremaining: 35.3s\n",
      "775:\tlearn: 0.4756343\ttotal: 2m 1s\tremaining: 35.1s\n",
      "776:\tlearn: 0.4756300\ttotal: 2m 1s\tremaining: 35s\n",
      "777:\tlearn: 0.4755939\ttotal: 2m 2s\tremaining: 34.8s\n",
      "778:\tlearn: 0.4755546\ttotal: 2m 2s\tremaining: 34.7s\n",
      "779:\tlearn: 0.4755279\ttotal: 2m 2s\tremaining: 34.5s\n",
      "780:\tlearn: 0.4754691\ttotal: 2m 2s\tremaining: 34.4s\n",
      "781:\tlearn: 0.4754226\ttotal: 2m 2s\tremaining: 34.2s\n",
      "782:\tlearn: 0.4753828\ttotal: 2m 2s\tremaining: 34.1s\n",
      "783:\tlearn: 0.4753311\ttotal: 2m 3s\tremaining: 33.9s\n",
      "784:\tlearn: 0.4752977\ttotal: 2m 3s\tremaining: 33.8s\n",
      "785:\tlearn: 0.4752754\ttotal: 2m 3s\tremaining: 33.6s\n",
      "786:\tlearn: 0.4752205\ttotal: 2m 3s\tremaining: 33.4s\n",
      "787:\tlearn: 0.4751798\ttotal: 2m 3s\tremaining: 33.3s\n",
      "788:\tlearn: 0.4751335\ttotal: 2m 3s\tremaining: 33.1s\n",
      "789:\tlearn: 0.4750693\ttotal: 2m 4s\tremaining: 33s\n",
      "790:\tlearn: 0.4749983\ttotal: 2m 4s\tremaining: 32.8s\n",
      "791:\tlearn: 0.4749541\ttotal: 2m 4s\tremaining: 32.7s\n",
      "792:\tlearn: 0.4749189\ttotal: 2m 4s\tremaining: 32.5s\n",
      "793:\tlearn: 0.4749014\ttotal: 2m 4s\tremaining: 32.3s\n",
      "794:\tlearn: 0.4748687\ttotal: 2m 4s\tremaining: 32.2s\n",
      "795:\tlearn: 0.4748070\ttotal: 2m 4s\tremaining: 32s\n",
      "796:\tlearn: 0.4747451\ttotal: 2m 5s\tremaining: 31.9s\n",
      "797:\tlearn: 0.4746934\ttotal: 2m 5s\tremaining: 31.7s\n",
      "798:\tlearn: 0.4746596\ttotal: 2m 5s\tremaining: 31.5s\n",
      "799:\tlearn: 0.4746407\ttotal: 2m 5s\tremaining: 31.4s\n",
      "800:\tlearn: 0.4746007\ttotal: 2m 5s\tremaining: 31.2s\n",
      "801:\tlearn: 0.4745362\ttotal: 2m 5s\tremaining: 31.1s\n",
      "802:\tlearn: 0.4744854\ttotal: 2m 5s\tremaining: 30.9s\n",
      "803:\tlearn: 0.4744538\ttotal: 2m 6s\tremaining: 30.8s\n",
      "804:\tlearn: 0.4743787\ttotal: 2m 6s\tremaining: 30.6s\n",
      "805:\tlearn: 0.4743337\ttotal: 2m 6s\tremaining: 30.4s\n",
      "806:\tlearn: 0.4742960\ttotal: 2m 6s\tremaining: 30.3s\n",
      "807:\tlearn: 0.4742648\ttotal: 2m 6s\tremaining: 30.1s\n",
      "808:\tlearn: 0.4741794\ttotal: 2m 6s\tremaining: 30s\n",
      "809:\tlearn: 0.4741594\ttotal: 2m 7s\tremaining: 29.8s\n",
      "810:\tlearn: 0.4741264\ttotal: 2m 7s\tremaining: 29.6s\n",
      "811:\tlearn: 0.4740843\ttotal: 2m 7s\tremaining: 29.5s\n",
      "812:\tlearn: 0.4740253\ttotal: 2m 7s\tremaining: 29.3s\n",
      "813:\tlearn: 0.4740093\ttotal: 2m 7s\tremaining: 29.2s\n",
      "814:\tlearn: 0.4739847\ttotal: 2m 7s\tremaining: 29s\n",
      "815:\tlearn: 0.4739550\ttotal: 2m 7s\tremaining: 28.8s\n",
      "816:\tlearn: 0.4739494\ttotal: 2m 8s\tremaining: 28.7s\n",
      "817:\tlearn: 0.4738704\ttotal: 2m 8s\tremaining: 28.5s\n",
      "818:\tlearn: 0.4738463\ttotal: 2m 8s\tremaining: 28.4s\n",
      "819:\tlearn: 0.4738266\ttotal: 2m 8s\tremaining: 28.2s\n",
      "820:\tlearn: 0.4737859\ttotal: 2m 8s\tremaining: 28.1s\n",
      "821:\tlearn: 0.4737449\ttotal: 2m 8s\tremaining: 27.9s\n",
      "822:\tlearn: 0.4737368\ttotal: 2m 8s\tremaining: 27.7s\n",
      "823:\tlearn: 0.4737115\ttotal: 2m 9s\tremaining: 27.6s\n",
      "824:\tlearn: 0.4736915\ttotal: 2m 9s\tremaining: 27.4s\n",
      "825:\tlearn: 0.4736667\ttotal: 2m 9s\tremaining: 27.3s\n",
      "826:\tlearn: 0.4736413\ttotal: 2m 9s\tremaining: 27.1s\n",
      "827:\tlearn: 0.4735943\ttotal: 2m 9s\tremaining: 26.9s\n",
      "828:\tlearn: 0.4734767\ttotal: 2m 9s\tremaining: 26.8s\n",
      "829:\tlearn: 0.4733878\ttotal: 2m 10s\tremaining: 26.6s\n",
      "830:\tlearn: 0.4733691\ttotal: 2m 10s\tremaining: 26.5s\n",
      "831:\tlearn: 0.4733469\ttotal: 2m 10s\tremaining: 26.3s\n",
      "832:\tlearn: 0.4733123\ttotal: 2m 10s\tremaining: 26.1s\n",
      "833:\tlearn: 0.4732698\ttotal: 2m 10s\tremaining: 26s\n",
      "834:\tlearn: 0.4732019\ttotal: 2m 10s\tremaining: 25.9s\n",
      "835:\tlearn: 0.4731876\ttotal: 2m 10s\tremaining: 25.7s\n",
      "836:\tlearn: 0.4731511\ttotal: 2m 11s\tremaining: 25.5s\n",
      "837:\tlearn: 0.4731145\ttotal: 2m 11s\tremaining: 25.4s\n",
      "838:\tlearn: 0.4730786\ttotal: 2m 11s\tremaining: 25.2s\n",
      "839:\tlearn: 0.4730322\ttotal: 2m 11s\tremaining: 25.1s\n",
      "840:\tlearn: 0.4729873\ttotal: 2m 11s\tremaining: 24.9s\n",
      "841:\tlearn: 0.4729714\ttotal: 2m 11s\tremaining: 24.7s\n",
      "842:\tlearn: 0.4729490\ttotal: 2m 12s\tremaining: 24.6s\n",
      "843:\tlearn: 0.4728911\ttotal: 2m 12s\tremaining: 24.4s\n",
      "844:\tlearn: 0.4728883\ttotal: 2m 12s\tremaining: 24.3s\n",
      "845:\tlearn: 0.4728111\ttotal: 2m 12s\tremaining: 24.1s\n",
      "846:\tlearn: 0.4727768\ttotal: 2m 12s\tremaining: 23.9s\n",
      "847:\tlearn: 0.4727602\ttotal: 2m 12s\tremaining: 23.8s\n",
      "848:\tlearn: 0.4727490\ttotal: 2m 12s\tremaining: 23.6s\n",
      "849:\tlearn: 0.4727409\ttotal: 2m 12s\tremaining: 23.5s\n",
      "850:\tlearn: 0.4727012\ttotal: 2m 13s\tremaining: 23.3s\n",
      "851:\tlearn: 0.4726598\ttotal: 2m 13s\tremaining: 23.1s\n",
      "852:\tlearn: 0.4726247\ttotal: 2m 13s\tremaining: 23s\n",
      "853:\tlearn: 0.4726156\ttotal: 2m 13s\tremaining: 22.8s\n",
      "854:\tlearn: 0.4725780\ttotal: 2m 13s\tremaining: 22.7s\n",
      "855:\tlearn: 0.4725668\ttotal: 2m 13s\tremaining: 22.5s\n",
      "856:\tlearn: 0.4725286\ttotal: 2m 13s\tremaining: 22.3s\n",
      "857:\tlearn: 0.4724965\ttotal: 2m 14s\tremaining: 22.2s\n",
      "858:\tlearn: 0.4724907\ttotal: 2m 14s\tremaining: 22s\n",
      "859:\tlearn: 0.4724550\ttotal: 2m 14s\tremaining: 21.9s\n",
      "860:\tlearn: 0.4723801\ttotal: 2m 14s\tremaining: 21.7s\n",
      "861:\tlearn: 0.4723669\ttotal: 2m 14s\tremaining: 21.6s\n",
      "862:\tlearn: 0.4723239\ttotal: 2m 14s\tremaining: 21.4s\n",
      "863:\tlearn: 0.4723152\ttotal: 2m 14s\tremaining: 21.2s\n",
      "864:\tlearn: 0.4722875\ttotal: 2m 15s\tremaining: 21.1s\n",
      "865:\tlearn: 0.4722617\ttotal: 2m 15s\tremaining: 20.9s\n",
      "866:\tlearn: 0.4722254\ttotal: 2m 15s\tremaining: 20.8s\n",
      "867:\tlearn: 0.4722054\ttotal: 2m 15s\tremaining: 20.6s\n",
      "868:\tlearn: 0.4721798\ttotal: 2m 15s\tremaining: 20.4s\n",
      "869:\tlearn: 0.4721228\ttotal: 2m 15s\tremaining: 20.3s\n",
      "870:\tlearn: 0.4720948\ttotal: 2m 15s\tremaining: 20.1s\n",
      "871:\tlearn: 0.4720418\ttotal: 2m 16s\tremaining: 20s\n",
      "872:\tlearn: 0.4720068\ttotal: 2m 16s\tremaining: 19.8s\n",
      "873:\tlearn: 0.4719924\ttotal: 2m 16s\tremaining: 19.7s\n",
      "874:\tlearn: 0.4719383\ttotal: 2m 16s\tremaining: 19.5s\n",
      "875:\tlearn: 0.4719346\ttotal: 2m 16s\tremaining: 19.4s\n",
      "876:\tlearn: 0.4718605\ttotal: 2m 17s\tremaining: 19.2s\n",
      "877:\tlearn: 0.4717891\ttotal: 2m 17s\tremaining: 19.1s\n",
      "878:\tlearn: 0.4717697\ttotal: 2m 17s\tremaining: 18.9s\n",
      "879:\tlearn: 0.4717383\ttotal: 2m 17s\tremaining: 18.7s\n",
      "880:\tlearn: 0.4716949\ttotal: 2m 17s\tremaining: 18.6s\n",
      "881:\tlearn: 0.4716935\ttotal: 2m 17s\tremaining: 18.4s\n",
      "882:\tlearn: 0.4716888\ttotal: 2m 17s\tremaining: 18.3s\n",
      "883:\tlearn: 0.4716600\ttotal: 2m 18s\tremaining: 18.1s\n",
      "884:\tlearn: 0.4715787\ttotal: 2m 18s\tremaining: 18s\n",
      "885:\tlearn: 0.4715553\ttotal: 2m 18s\tremaining: 17.8s\n",
      "886:\tlearn: 0.4715261\ttotal: 2m 18s\tremaining: 17.7s\n",
      "887:\tlearn: 0.4714888\ttotal: 2m 18s\tremaining: 17.5s\n",
      "888:\tlearn: 0.4714586\ttotal: 2m 18s\tremaining: 17.3s\n",
      "889:\tlearn: 0.4714109\ttotal: 2m 19s\tremaining: 17.2s\n",
      "890:\tlearn: 0.4713919\ttotal: 2m 19s\tremaining: 17s\n",
      "891:\tlearn: 0.4713555\ttotal: 2m 19s\tremaining: 16.9s\n",
      "892:\tlearn: 0.4712529\ttotal: 2m 19s\tremaining: 16.7s\n",
      "893:\tlearn: 0.4712066\ttotal: 2m 19s\tremaining: 16.6s\n",
      "894:\tlearn: 0.4711349\ttotal: 2m 19s\tremaining: 16.4s\n",
      "895:\tlearn: 0.4710914\ttotal: 2m 20s\tremaining: 16.3s\n",
      "896:\tlearn: 0.4710303\ttotal: 2m 20s\tremaining: 16.1s\n",
      "897:\tlearn: 0.4709784\ttotal: 2m 20s\tremaining: 15.9s\n",
      "898:\tlearn: 0.4709357\ttotal: 2m 20s\tremaining: 15.8s\n",
      "899:\tlearn: 0.4709271\ttotal: 2m 20s\tremaining: 15.6s\n",
      "900:\tlearn: 0.4708860\ttotal: 2m 20s\tremaining: 15.5s\n",
      "901:\tlearn: 0.4708645\ttotal: 2m 20s\tremaining: 15.3s\n",
      "902:\tlearn: 0.4708126\ttotal: 2m 21s\tremaining: 15.2s\n",
      "903:\tlearn: 0.4708011\ttotal: 2m 21s\tremaining: 15s\n",
      "904:\tlearn: 0.4707792\ttotal: 2m 21s\tremaining: 14.9s\n",
      "905:\tlearn: 0.4707582\ttotal: 2m 21s\tremaining: 14.7s\n",
      "906:\tlearn: 0.4707457\ttotal: 2m 21s\tremaining: 14.5s\n",
      "907:\tlearn: 0.4707018\ttotal: 2m 22s\tremaining: 14.4s\n",
      "908:\tlearn: 0.4706630\ttotal: 2m 22s\tremaining: 14.2s\n",
      "909:\tlearn: 0.4706167\ttotal: 2m 22s\tremaining: 14.1s\n",
      "910:\tlearn: 0.4705816\ttotal: 2m 22s\tremaining: 13.9s\n",
      "911:\tlearn: 0.4705470\ttotal: 2m 22s\tremaining: 13.8s\n",
      "912:\tlearn: 0.4705173\ttotal: 2m 22s\tremaining: 13.6s\n",
      "913:\tlearn: 0.4704500\ttotal: 2m 23s\tremaining: 13.5s\n",
      "914:\tlearn: 0.4704233\ttotal: 2m 23s\tremaining: 13.3s\n",
      "915:\tlearn: 0.4703988\ttotal: 2m 23s\tremaining: 13.1s\n",
      "916:\tlearn: 0.4703570\ttotal: 2m 23s\tremaining: 13s\n",
      "917:\tlearn: 0.4703063\ttotal: 2m 23s\tremaining: 12.8s\n",
      "918:\tlearn: 0.4702614\ttotal: 2m 24s\tremaining: 12.7s\n",
      "919:\tlearn: 0.4702195\ttotal: 2m 24s\tremaining: 12.5s\n",
      "920:\tlearn: 0.4701714\ttotal: 2m 24s\tremaining: 12.4s\n",
      "921:\tlearn: 0.4701539\ttotal: 2m 24s\tremaining: 12.2s\n",
      "922:\tlearn: 0.4701233\ttotal: 2m 24s\tremaining: 12.1s\n",
      "923:\tlearn: 0.4700803\ttotal: 2m 24s\tremaining: 11.9s\n",
      "924:\tlearn: 0.4700554\ttotal: 2m 25s\tremaining: 11.8s\n",
      "925:\tlearn: 0.4700522\ttotal: 2m 25s\tremaining: 11.6s\n",
      "926:\tlearn: 0.4700303\ttotal: 2m 25s\tremaining: 11.5s\n",
      "927:\tlearn: 0.4699474\ttotal: 2m 25s\tremaining: 11.3s\n",
      "928:\tlearn: 0.4699356\ttotal: 2m 26s\tremaining: 11.2s\n",
      "929:\tlearn: 0.4698996\ttotal: 2m 26s\tremaining: 11s\n",
      "930:\tlearn: 0.4698769\ttotal: 2m 26s\tremaining: 10.9s\n",
      "931:\tlearn: 0.4698382\ttotal: 2m 26s\tremaining: 10.7s\n",
      "932:\tlearn: 0.4698019\ttotal: 2m 27s\tremaining: 10.6s\n",
      "933:\tlearn: 0.4697595\ttotal: 2m 27s\tremaining: 10.4s\n",
      "934:\tlearn: 0.4697124\ttotal: 2m 27s\tremaining: 10.3s\n",
      "935:\tlearn: 0.4696479\ttotal: 2m 27s\tremaining: 10.1s\n",
      "936:\tlearn: 0.4695955\ttotal: 2m 28s\tremaining: 9.95s\n",
      "937:\tlearn: 0.4695525\ttotal: 2m 28s\tremaining: 9.79s\n",
      "938:\tlearn: 0.4695225\ttotal: 2m 28s\tremaining: 9.64s\n",
      "939:\tlearn: 0.4694941\ttotal: 2m 28s\tremaining: 9.48s\n",
      "940:\tlearn: 0.4694566\ttotal: 2m 28s\tremaining: 9.33s\n",
      "941:\tlearn: 0.4694213\ttotal: 2m 28s\tremaining: 9.17s\n",
      "942:\tlearn: 0.4693816\ttotal: 2m 29s\tremaining: 9.01s\n",
      "943:\tlearn: 0.4693542\ttotal: 2m 29s\tremaining: 8.86s\n",
      "944:\tlearn: 0.4693290\ttotal: 2m 29s\tremaining: 8.7s\n",
      "945:\tlearn: 0.4693047\ttotal: 2m 29s\tremaining: 8.55s\n",
      "946:\tlearn: 0.4692756\ttotal: 2m 30s\tremaining: 8.4s\n",
      "947:\tlearn: 0.4692462\ttotal: 2m 30s\tremaining: 8.24s\n",
      "948:\tlearn: 0.4692179\ttotal: 2m 30s\tremaining: 8.08s\n",
      "949:\tlearn: 0.4691936\ttotal: 2m 30s\tremaining: 7.92s\n",
      "950:\tlearn: 0.4691379\ttotal: 2m 30s\tremaining: 7.77s\n",
      "951:\tlearn: 0.4691102\ttotal: 2m 30s\tremaining: 7.61s\n",
      "952:\tlearn: 0.4690884\ttotal: 2m 31s\tremaining: 7.45s\n",
      "953:\tlearn: 0.4690433\ttotal: 2m 31s\tremaining: 7.29s\n",
      "954:\tlearn: 0.4690254\ttotal: 2m 31s\tremaining: 7.13s\n",
      "955:\tlearn: 0.4689905\ttotal: 2m 31s\tremaining: 6.97s\n",
      "956:\tlearn: 0.4689358\ttotal: 2m 31s\tremaining: 6.82s\n",
      "957:\tlearn: 0.4688882\ttotal: 2m 31s\tremaining: 6.66s\n",
      "958:\tlearn: 0.4688004\ttotal: 2m 32s\tremaining: 6.5s\n",
      "959:\tlearn: 0.4687789\ttotal: 2m 32s\tremaining: 6.34s\n",
      "960:\tlearn: 0.4687369\ttotal: 2m 32s\tremaining: 6.18s\n",
      "961:\tlearn: 0.4687132\ttotal: 2m 32s\tremaining: 6.02s\n",
      "962:\tlearn: 0.4686756\ttotal: 2m 32s\tremaining: 5.86s\n",
      "963:\tlearn: 0.4686483\ttotal: 2m 32s\tremaining: 5.71s\n",
      "964:\tlearn: 0.4685822\ttotal: 2m 32s\tremaining: 5.55s\n",
      "965:\tlearn: 0.4685392\ttotal: 2m 33s\tremaining: 5.39s\n",
      "966:\tlearn: 0.4685161\ttotal: 2m 33s\tremaining: 5.23s\n",
      "967:\tlearn: 0.4685100\ttotal: 2m 33s\tremaining: 5.07s\n",
      "968:\tlearn: 0.4684971\ttotal: 2m 33s\tremaining: 4.91s\n",
      "969:\tlearn: 0.4684272\ttotal: 2m 33s\tremaining: 4.75s\n",
      "970:\tlearn: 0.4683681\ttotal: 2m 33s\tremaining: 4.59s\n",
      "971:\tlearn: 0.4683367\ttotal: 2m 33s\tremaining: 4.43s\n",
      "972:\tlearn: 0.4683212\ttotal: 2m 34s\tremaining: 4.27s\n",
      "973:\tlearn: 0.4682785\ttotal: 2m 34s\tremaining: 4.12s\n",
      "974:\tlearn: 0.4682725\ttotal: 2m 34s\tremaining: 3.96s\n",
      "975:\tlearn: 0.4682278\ttotal: 2m 34s\tremaining: 3.79s\n",
      "976:\tlearn: 0.4682077\ttotal: 2m 34s\tremaining: 3.64s\n",
      "977:\tlearn: 0.4681872\ttotal: 2m 34s\tremaining: 3.48s\n",
      "978:\tlearn: 0.4681821\ttotal: 2m 34s\tremaining: 3.32s\n",
      "979:\tlearn: 0.4681525\ttotal: 2m 34s\tremaining: 3.16s\n",
      "980:\tlearn: 0.4681129\ttotal: 2m 35s\tremaining: 3s\n",
      "981:\tlearn: 0.4680659\ttotal: 2m 35s\tremaining: 2.84s\n",
      "982:\tlearn: 0.4680408\ttotal: 2m 35s\tremaining: 2.69s\n",
      "983:\tlearn: 0.4680335\ttotal: 2m 35s\tremaining: 2.53s\n",
      "984:\tlearn: 0.4679724\ttotal: 2m 35s\tremaining: 2.37s\n",
      "985:\tlearn: 0.4679111\ttotal: 2m 35s\tremaining: 2.21s\n",
      "986:\tlearn: 0.4678901\ttotal: 2m 36s\tremaining: 2.06s\n",
      "987:\tlearn: 0.4678573\ttotal: 2m 36s\tremaining: 1.9s\n",
      "988:\tlearn: 0.4677916\ttotal: 2m 36s\tremaining: 1.74s\n",
      "989:\tlearn: 0.4677487\ttotal: 2m 36s\tremaining: 1.58s\n",
      "990:\tlearn: 0.4677285\ttotal: 2m 36s\tremaining: 1.42s\n",
      "991:\tlearn: 0.4677064\ttotal: 2m 36s\tremaining: 1.26s\n",
      "992:\tlearn: 0.4676748\ttotal: 2m 36s\tremaining: 1.11s\n",
      "993:\tlearn: 0.4676733\ttotal: 2m 37s\tremaining: 948ms\n",
      "994:\tlearn: 0.4676305\ttotal: 2m 37s\tremaining: 790ms\n",
      "995:\tlearn: 0.4676111\ttotal: 2m 37s\tremaining: 632ms\n",
      "996:\tlearn: 0.4675863\ttotal: 2m 37s\tremaining: 474ms\n",
      "997:\tlearn: 0.4675538\ttotal: 2m 37s\tremaining: 316ms\n",
      "998:\tlearn: 0.4675033\ttotal: 2m 37s\tremaining: 158ms\n",
      "999:\tlearn: 0.4674781\ttotal: 2m 37s\tremaining: 0us\n"
     ]
    },
    {
     "output_type": "execute_result",
     "data": {
      "text/plain": [
       "RandomizedSearchCV(cv=3,\n",
       "                   estimator=<catboost.core.CatBoostClassifier object at 0x000001BF01F72730>,\n",
       "                   n_iter=3,\n",
       "                   param_distributions={'bagging_temperature': [0, 1],\n",
       "                                        'iterations': [500, 750, 1000, 1500],\n",
       "                                        'l2_leaf_reg': [0, 3, 1, 5, 10, 100],\n",
       "                                        'learning_rate': [0.001, 0.05, 0.03,\n",
       "                                                          0.01, 0.1, 0.3],\n",
       "                                        'max_depth': [3, 1, 2, 5, 7, 9, 10],\n",
       "                                        'random_strength': [0, 1, 3, 5]},\n",
       "                   verbose=2)"
      ]
     },
     "metadata": {},
     "execution_count": 46
    }
   ],
   "source": [
    "randomsearch.fit(X_train, y_train)"
   ]
  },
  {
   "cell_type": "code",
   "execution_count": 47,
   "metadata": {},
   "outputs": [
    {
     "output_type": "execute_result",
     "data": {
      "text/plain": [
       "{'random_strength': 0,\n",
       " 'max_depth': 7,\n",
       " 'learning_rate': 0.03,\n",
       " 'l2_leaf_reg': 5,\n",
       " 'iterations': 1000,\n",
       " 'bagging_temperature': 0}"
      ]
     },
     "metadata": {},
     "execution_count": 47
    }
   ],
   "source": [
    "randomsearch.best_params_"
   ]
  },
  {
   "cell_type": "code",
   "execution_count": 48,
   "metadata": {},
   "outputs": [],
   "source": [
    "model2=CatBoostClassifier(random_strength=0,\n",
    "  max_depth=7,\n",
    "  learning_rate= 0.03,\n",
    "  l2_leaf_reg= 5,\n",
    "  iterations= 1200,\n",
    "  bagging_temperature=0)"
   ]
  },
  {
   "cell_type": "code",
   "execution_count": 49,
   "metadata": {
    "tags": [
     "outputPrepend"
    ]
   },
   "outputs": [
    {
     "output_type": "stream",
     "name": "stdout",
     "text": [
      "3:\tlearn: 0.4737115\ttotal: 2m 14s\tremaining: 1m 1s\n",
      "824:\tlearn: 0.4736915\ttotal: 2m 14s\tremaining: 1m 1s\n",
      "825:\tlearn: 0.4736667\ttotal: 2m 15s\tremaining: 1m 1s\n",
      "826:\tlearn: 0.4736413\ttotal: 2m 15s\tremaining: 1m 1s\n",
      "827:\tlearn: 0.4735943\ttotal: 2m 15s\tremaining: 1m\n",
      "828:\tlearn: 0.4734767\ttotal: 2m 16s\tremaining: 1m\n",
      "829:\tlearn: 0.4733878\ttotal: 2m 16s\tremaining: 1m\n",
      "830:\tlearn: 0.4733691\ttotal: 2m 16s\tremaining: 1m\n",
      "831:\tlearn: 0.4733469\ttotal: 2m 16s\tremaining: 1m\n",
      "832:\tlearn: 0.4733123\ttotal: 2m 17s\tremaining: 1m\n",
      "833:\tlearn: 0.4732698\ttotal: 2m 17s\tremaining: 1m\n",
      "834:\tlearn: 0.4732019\ttotal: 2m 17s\tremaining: 1m\n",
      "835:\tlearn: 0.4731876\ttotal: 2m 17s\tremaining: 59.9s\n",
      "836:\tlearn: 0.4731511\ttotal: 2m 17s\tremaining: 59.7s\n",
      "837:\tlearn: 0.4731145\ttotal: 2m 17s\tremaining: 59.6s\n",
      "838:\tlearn: 0.4730786\ttotal: 2m 18s\tremaining: 59.4s\n",
      "839:\tlearn: 0.4730322\ttotal: 2m 18s\tremaining: 59.2s\n",
      "840:\tlearn: 0.4729873\ttotal: 2m 18s\tremaining: 59s\n",
      "841:\tlearn: 0.4729714\ttotal: 2m 18s\tremaining: 58.9s\n",
      "842:\tlearn: 0.4729490\ttotal: 2m 18s\tremaining: 58.7s\n",
      "843:\tlearn: 0.4728911\ttotal: 2m 18s\tremaining: 58.5s\n",
      "844:\tlearn: 0.4728883\ttotal: 2m 18s\tremaining: 58.3s\n",
      "845:\tlearn: 0.4728111\ttotal: 2m 19s\tremaining: 58.2s\n",
      "846:\tlearn: 0.4727768\ttotal: 2m 19s\tremaining: 58s\n",
      "847:\tlearn: 0.4727602\ttotal: 2m 19s\tremaining: 57.8s\n",
      "848:\tlearn: 0.4727490\ttotal: 2m 19s\tremaining: 57.7s\n",
      "849:\tlearn: 0.4727409\ttotal: 2m 19s\tremaining: 57.5s\n",
      "850:\tlearn: 0.4727012\ttotal: 2m 19s\tremaining: 57.3s\n",
      "851:\tlearn: 0.4726598\ttotal: 2m 20s\tremaining: 57.2s\n",
      "852:\tlearn: 0.4726247\ttotal: 2m 20s\tremaining: 57s\n",
      "853:\tlearn: 0.4726156\ttotal: 2m 20s\tremaining: 56.8s\n",
      "854:\tlearn: 0.4725780\ttotal: 2m 20s\tremaining: 56.6s\n",
      "855:\tlearn: 0.4725668\ttotal: 2m 20s\tremaining: 56.5s\n",
      "856:\tlearn: 0.4725286\ttotal: 2m 20s\tremaining: 56.3s\n",
      "857:\tlearn: 0.4724965\ttotal: 2m 20s\tremaining: 56.1s\n",
      "858:\tlearn: 0.4724907\ttotal: 2m 20s\tremaining: 56s\n",
      "859:\tlearn: 0.4724550\ttotal: 2m 21s\tremaining: 55.8s\n",
      "860:\tlearn: 0.4723801\ttotal: 2m 21s\tremaining: 55.7s\n",
      "861:\tlearn: 0.4723669\ttotal: 2m 21s\tremaining: 55.5s\n",
      "862:\tlearn: 0.4723239\ttotal: 2m 21s\tremaining: 55.3s\n",
      "863:\tlearn: 0.4723152\ttotal: 2m 21s\tremaining: 55.2s\n",
      "864:\tlearn: 0.4722875\ttotal: 2m 21s\tremaining: 55s\n",
      "865:\tlearn: 0.4722617\ttotal: 2m 22s\tremaining: 54.8s\n",
      "866:\tlearn: 0.4722254\ttotal: 2m 22s\tremaining: 54.7s\n",
      "867:\tlearn: 0.4722054\ttotal: 2m 22s\tremaining: 54.5s\n",
      "868:\tlearn: 0.4721798\ttotal: 2m 22s\tremaining: 54.3s\n",
      "869:\tlearn: 0.4721228\ttotal: 2m 22s\tremaining: 54.1s\n",
      "870:\tlearn: 0.4720948\ttotal: 2m 22s\tremaining: 53.9s\n",
      "871:\tlearn: 0.4720418\ttotal: 2m 22s\tremaining: 53.8s\n",
      "872:\tlearn: 0.4720068\ttotal: 2m 23s\tremaining: 53.6s\n",
      "873:\tlearn: 0.4719924\ttotal: 2m 23s\tremaining: 53.5s\n",
      "874:\tlearn: 0.4719383\ttotal: 2m 23s\tremaining: 53.3s\n",
      "875:\tlearn: 0.4719346\ttotal: 2m 23s\tremaining: 53.2s\n",
      "876:\tlearn: 0.4718605\ttotal: 2m 23s\tremaining: 53s\n",
      "877:\tlearn: 0.4717891\ttotal: 2m 24s\tremaining: 52.9s\n",
      "878:\tlearn: 0.4717697\ttotal: 2m 24s\tremaining: 52.7s\n",
      "879:\tlearn: 0.4717383\ttotal: 2m 24s\tremaining: 52.5s\n",
      "880:\tlearn: 0.4716949\ttotal: 2m 24s\tremaining: 52.4s\n",
      "881:\tlearn: 0.4716935\ttotal: 2m 24s\tremaining: 52.2s\n",
      "882:\tlearn: 0.4716888\ttotal: 2m 24s\tremaining: 52s\n",
      "883:\tlearn: 0.4716600\ttotal: 2m 25s\tremaining: 51.8s\n",
      "884:\tlearn: 0.4715787\ttotal: 2m 25s\tremaining: 51.7s\n",
      "885:\tlearn: 0.4715553\ttotal: 2m 25s\tremaining: 51.5s\n",
      "886:\tlearn: 0.4715261\ttotal: 2m 25s\tremaining: 51.3s\n",
      "887:\tlearn: 0.4714888\ttotal: 2m 25s\tremaining: 51.1s\n",
      "888:\tlearn: 0.4714586\ttotal: 2m 25s\tremaining: 51s\n",
      "889:\tlearn: 0.4714109\ttotal: 2m 25s\tremaining: 50.8s\n",
      "890:\tlearn: 0.4713919\ttotal: 2m 26s\tremaining: 50.6s\n",
      "891:\tlearn: 0.4713555\ttotal: 2m 26s\tremaining: 50.5s\n",
      "892:\tlearn: 0.4712529\ttotal: 2m 26s\tremaining: 50.3s\n",
      "893:\tlearn: 0.4712066\ttotal: 2m 26s\tremaining: 50.1s\n",
      "894:\tlearn: 0.4711349\ttotal: 2m 26s\tremaining: 49.9s\n",
      "895:\tlearn: 0.4710914\ttotal: 2m 26s\tremaining: 49.8s\n",
      "896:\tlearn: 0.4710303\ttotal: 2m 26s\tremaining: 49.6s\n",
      "897:\tlearn: 0.4709784\ttotal: 2m 26s\tremaining: 49.4s\n",
      "898:\tlearn: 0.4709357\ttotal: 2m 27s\tremaining: 49.3s\n",
      "899:\tlearn: 0.4709271\ttotal: 2m 27s\tremaining: 49.1s\n",
      "900:\tlearn: 0.4708860\ttotal: 2m 27s\tremaining: 48.9s\n",
      "901:\tlearn: 0.4708645\ttotal: 2m 27s\tremaining: 48.7s\n",
      "902:\tlearn: 0.4708126\ttotal: 2m 27s\tremaining: 48.6s\n",
      "903:\tlearn: 0.4708011\ttotal: 2m 27s\tremaining: 48.4s\n",
      "904:\tlearn: 0.4707792\ttotal: 2m 27s\tremaining: 48.2s\n",
      "905:\tlearn: 0.4707582\ttotal: 2m 28s\tremaining: 48.1s\n",
      "906:\tlearn: 0.4707457\ttotal: 2m 28s\tremaining: 47.9s\n",
      "907:\tlearn: 0.4707018\ttotal: 2m 28s\tremaining: 47.7s\n",
      "908:\tlearn: 0.4706630\ttotal: 2m 28s\tremaining: 47.5s\n",
      "909:\tlearn: 0.4706167\ttotal: 2m 28s\tremaining: 47.4s\n",
      "910:\tlearn: 0.4705816\ttotal: 2m 28s\tremaining: 47.2s\n",
      "911:\tlearn: 0.4705470\ttotal: 2m 28s\tremaining: 47s\n",
      "912:\tlearn: 0.4705173\ttotal: 2m 29s\tremaining: 46.9s\n",
      "913:\tlearn: 0.4704500\ttotal: 2m 29s\tremaining: 46.7s\n",
      "914:\tlearn: 0.4704233\ttotal: 2m 29s\tremaining: 46.5s\n",
      "915:\tlearn: 0.4703988\ttotal: 2m 29s\tremaining: 46.4s\n",
      "916:\tlearn: 0.4703570\ttotal: 2m 29s\tremaining: 46.2s\n",
      "917:\tlearn: 0.4703063\ttotal: 2m 29s\tremaining: 46s\n",
      "918:\tlearn: 0.4702614\ttotal: 2m 30s\tremaining: 45.9s\n",
      "919:\tlearn: 0.4702195\ttotal: 2m 30s\tremaining: 45.7s\n",
      "920:\tlearn: 0.4701714\ttotal: 2m 30s\tremaining: 45.5s\n",
      "921:\tlearn: 0.4701539\ttotal: 2m 30s\tremaining: 45.4s\n",
      "922:\tlearn: 0.4701233\ttotal: 2m 30s\tremaining: 45.2s\n",
      "923:\tlearn: 0.4700803\ttotal: 2m 30s\tremaining: 45s\n",
      "924:\tlearn: 0.4700554\ttotal: 2m 30s\tremaining: 44.9s\n",
      "925:\tlearn: 0.4700522\ttotal: 2m 30s\tremaining: 44.7s\n",
      "926:\tlearn: 0.4700303\ttotal: 2m 31s\tremaining: 44.5s\n",
      "927:\tlearn: 0.4699474\ttotal: 2m 31s\tremaining: 44.4s\n",
      "928:\tlearn: 0.4699356\ttotal: 2m 31s\tremaining: 44.2s\n",
      "929:\tlearn: 0.4698996\ttotal: 2m 31s\tremaining: 44.1s\n",
      "930:\tlearn: 0.4698769\ttotal: 2m 31s\tremaining: 43.9s\n",
      "931:\tlearn: 0.4698382\ttotal: 2m 32s\tremaining: 43.7s\n",
      "932:\tlearn: 0.4698019\ttotal: 2m 32s\tremaining: 43.6s\n",
      "933:\tlearn: 0.4697595\ttotal: 2m 32s\tremaining: 43.4s\n",
      "934:\tlearn: 0.4697124\ttotal: 2m 32s\tremaining: 43.2s\n",
      "935:\tlearn: 0.4696479\ttotal: 2m 32s\tremaining: 43.1s\n",
      "936:\tlearn: 0.4695955\ttotal: 2m 32s\tremaining: 42.9s\n",
      "937:\tlearn: 0.4695525\ttotal: 2m 33s\tremaining: 42.7s\n",
      "938:\tlearn: 0.4695225\ttotal: 2m 33s\tremaining: 42.6s\n",
      "939:\tlearn: 0.4694941\ttotal: 2m 33s\tremaining: 42.4s\n",
      "940:\tlearn: 0.4694566\ttotal: 2m 33s\tremaining: 42.3s\n",
      "941:\tlearn: 0.4694213\ttotal: 2m 33s\tremaining: 42.1s\n",
      "942:\tlearn: 0.4693816\ttotal: 2m 33s\tremaining: 41.9s\n",
      "943:\tlearn: 0.4693542\ttotal: 2m 34s\tremaining: 41.8s\n",
      "944:\tlearn: 0.4693290\ttotal: 2m 34s\tremaining: 41.6s\n",
      "945:\tlearn: 0.4693047\ttotal: 2m 34s\tremaining: 41.5s\n",
      "946:\tlearn: 0.4692756\ttotal: 2m 34s\tremaining: 41.3s\n",
      "947:\tlearn: 0.4692462\ttotal: 2m 34s\tremaining: 41.1s\n",
      "948:\tlearn: 0.4692179\ttotal: 2m 34s\tremaining: 41s\n",
      "949:\tlearn: 0.4691936\ttotal: 2m 35s\tremaining: 40.8s\n",
      "950:\tlearn: 0.4691379\ttotal: 2m 35s\tremaining: 40.7s\n",
      "951:\tlearn: 0.4691102\ttotal: 2m 35s\tremaining: 40.5s\n",
      "952:\tlearn: 0.4690884\ttotal: 2m 35s\tremaining: 40.3s\n",
      "953:\tlearn: 0.4690433\ttotal: 2m 35s\tremaining: 40.2s\n",
      "954:\tlearn: 0.4690254\ttotal: 2m 35s\tremaining: 40s\n",
      "955:\tlearn: 0.4689905\ttotal: 2m 36s\tremaining: 39.8s\n",
      "956:\tlearn: 0.4689358\ttotal: 2m 36s\tremaining: 39.7s\n",
      "957:\tlearn: 0.4688882\ttotal: 2m 36s\tremaining: 39.5s\n",
      "958:\tlearn: 0.4688004\ttotal: 2m 36s\tremaining: 39.4s\n",
      "959:\tlearn: 0.4687789\ttotal: 2m 36s\tremaining: 39.2s\n",
      "960:\tlearn: 0.4687369\ttotal: 2m 36s\tremaining: 39s\n",
      "961:\tlearn: 0.4687132\ttotal: 2m 37s\tremaining: 38.9s\n",
      "962:\tlearn: 0.4686756\ttotal: 2m 37s\tremaining: 38.7s\n",
      "963:\tlearn: 0.4686483\ttotal: 2m 37s\tremaining: 38.6s\n",
      "964:\tlearn: 0.4685822\ttotal: 2m 37s\tremaining: 38.4s\n",
      "965:\tlearn: 0.4685392\ttotal: 2m 38s\tremaining: 38.3s\n",
      "966:\tlearn: 0.4685161\ttotal: 2m 38s\tremaining: 38.1s\n",
      "967:\tlearn: 0.4685100\ttotal: 2m 38s\tremaining: 37.9s\n",
      "968:\tlearn: 0.4684971\ttotal: 2m 38s\tremaining: 37.8s\n",
      "969:\tlearn: 0.4684272\ttotal: 2m 38s\tremaining: 37.6s\n",
      "970:\tlearn: 0.4683681\ttotal: 2m 38s\tremaining: 37.4s\n",
      "971:\tlearn: 0.4683367\ttotal: 2m 38s\tremaining: 37.3s\n",
      "972:\tlearn: 0.4683212\ttotal: 2m 39s\tremaining: 37.1s\n",
      "973:\tlearn: 0.4682785\ttotal: 2m 39s\tremaining: 36.9s\n",
      "974:\tlearn: 0.4682725\ttotal: 2m 39s\tremaining: 36.8s\n",
      "975:\tlearn: 0.4682278\ttotal: 2m 39s\tremaining: 36.6s\n",
      "976:\tlearn: 0.4682077\ttotal: 2m 39s\tremaining: 36.4s\n",
      "977:\tlearn: 0.4681872\ttotal: 2m 39s\tremaining: 36.3s\n",
      "978:\tlearn: 0.4681821\ttotal: 2m 40s\tremaining: 36.1s\n",
      "979:\tlearn: 0.4681525\ttotal: 2m 40s\tremaining: 36s\n",
      "980:\tlearn: 0.4681129\ttotal: 2m 40s\tremaining: 35.9s\n",
      "981:\tlearn: 0.4680659\ttotal: 2m 40s\tremaining: 35.7s\n",
      "982:\tlearn: 0.4680408\ttotal: 2m 40s\tremaining: 35.5s\n",
      "983:\tlearn: 0.4680335\ttotal: 2m 41s\tremaining: 35.4s\n",
      "984:\tlearn: 0.4679724\ttotal: 2m 41s\tremaining: 35.2s\n",
      "985:\tlearn: 0.4679111\ttotal: 2m 41s\tremaining: 35.1s\n",
      "986:\tlearn: 0.4678901\ttotal: 2m 41s\tremaining: 34.9s\n",
      "987:\tlearn: 0.4678573\ttotal: 2m 41s\tremaining: 34.7s\n",
      "988:\tlearn: 0.4677916\ttotal: 2m 41s\tremaining: 34.6s\n",
      "989:\tlearn: 0.4677487\ttotal: 2m 42s\tremaining: 34.4s\n",
      "990:\tlearn: 0.4677285\ttotal: 2m 42s\tremaining: 34.2s\n",
      "991:\tlearn: 0.4677064\ttotal: 2m 42s\tremaining: 34.1s\n",
      "992:\tlearn: 0.4676748\ttotal: 2m 42s\tremaining: 33.9s\n",
      "993:\tlearn: 0.4676733\ttotal: 2m 42s\tremaining: 33.7s\n",
      "994:\tlearn: 0.4676305\ttotal: 2m 42s\tremaining: 33.6s\n",
      "995:\tlearn: 0.4676111\ttotal: 2m 43s\tremaining: 33.4s\n",
      "996:\tlearn: 0.4675863\ttotal: 2m 43s\tremaining: 33.2s\n",
      "997:\tlearn: 0.4675538\ttotal: 2m 43s\tremaining: 33.1s\n",
      "998:\tlearn: 0.4675033\ttotal: 2m 43s\tremaining: 32.9s\n",
      "999:\tlearn: 0.4674781\ttotal: 2m 43s\tremaining: 32.7s\n",
      "1000:\tlearn: 0.4674272\ttotal: 2m 43s\tremaining: 32.6s\n",
      "1001:\tlearn: 0.4673894\ttotal: 2m 43s\tremaining: 32.4s\n",
      "1002:\tlearn: 0.4673747\ttotal: 2m 44s\tremaining: 32.2s\n",
      "1003:\tlearn: 0.4673163\ttotal: 2m 44s\tremaining: 32.1s\n",
      "1004:\tlearn: 0.4672813\ttotal: 2m 44s\tremaining: 31.9s\n",
      "1005:\tlearn: 0.4672491\ttotal: 2m 44s\tremaining: 31.8s\n",
      "1006:\tlearn: 0.4672324\ttotal: 2m 44s\tremaining: 31.6s\n",
      "1007:\tlearn: 0.4671863\ttotal: 2m 44s\tremaining: 31.4s\n",
      "1008:\tlearn: 0.4671611\ttotal: 2m 45s\tremaining: 31.2s\n",
      "1009:\tlearn: 0.4671592\ttotal: 2m 45s\tremaining: 31.1s\n",
      "1010:\tlearn: 0.4671473\ttotal: 2m 45s\tremaining: 30.9s\n",
      "1011:\tlearn: 0.4671101\ttotal: 2m 45s\tremaining: 30.7s\n",
      "1012:\tlearn: 0.4670765\ttotal: 2m 45s\tremaining: 30.6s\n",
      "1013:\tlearn: 0.4670043\ttotal: 2m 45s\tremaining: 30.4s\n",
      "1014:\tlearn: 0.4669696\ttotal: 2m 45s\tremaining: 30.2s\n",
      "1015:\tlearn: 0.4669451\ttotal: 2m 46s\tremaining: 30.1s\n",
      "1016:\tlearn: 0.4668602\ttotal: 2m 46s\tremaining: 29.9s\n",
      "1017:\tlearn: 0.4668337\ttotal: 2m 46s\tremaining: 29.8s\n",
      "1018:\tlearn: 0.4668152\ttotal: 2m 46s\tremaining: 29.6s\n",
      "1019:\tlearn: 0.4667465\ttotal: 2m 46s\tremaining: 29.4s\n",
      "1020:\tlearn: 0.4667303\ttotal: 2m 46s\tremaining: 29.3s\n",
      "1021:\tlearn: 0.4667000\ttotal: 2m 47s\tremaining: 29.1s\n",
      "1022:\tlearn: 0.4666671\ttotal: 2m 47s\tremaining: 28.9s\n",
      "1023:\tlearn: 0.4666271\ttotal: 2m 47s\tremaining: 28.8s\n",
      "1024:\tlearn: 0.4665612\ttotal: 2m 47s\tremaining: 28.6s\n",
      "1025:\tlearn: 0.4665274\ttotal: 2m 47s\tremaining: 28.5s\n",
      "1026:\tlearn: 0.4664740\ttotal: 2m 47s\tremaining: 28.3s\n",
      "1027:\tlearn: 0.4664424\ttotal: 2m 48s\tremaining: 28.1s\n",
      "1028:\tlearn: 0.4663696\ttotal: 2m 48s\tremaining: 28s\n",
      "1029:\tlearn: 0.4663044\ttotal: 2m 48s\tremaining: 27.8s\n",
      "1030:\tlearn: 0.4662721\ttotal: 2m 48s\tremaining: 27.7s\n",
      "1031:\tlearn: 0.4662433\ttotal: 2m 48s\tremaining: 27.5s\n",
      "1032:\tlearn: 0.4662123\ttotal: 2m 48s\tremaining: 27.3s\n",
      "1033:\tlearn: 0.4661636\ttotal: 2m 49s\tremaining: 27.2s\n",
      "1034:\tlearn: 0.4661393\ttotal: 2m 49s\tremaining: 27s\n",
      "1035:\tlearn: 0.4660547\ttotal: 2m 49s\tremaining: 26.8s\n",
      "1036:\tlearn: 0.4660198\ttotal: 2m 49s\tremaining: 26.7s\n",
      "1037:\tlearn: 0.4659837\ttotal: 2m 49s\tremaining: 26.5s\n",
      "1038:\tlearn: 0.4659323\ttotal: 2m 49s\tremaining: 26.3s\n",
      "1039:\tlearn: 0.4658978\ttotal: 2m 50s\tremaining: 26.2s\n",
      "1040:\tlearn: 0.4658455\ttotal: 2m 50s\tremaining: 26s\n",
      "1041:\tlearn: 0.4658035\ttotal: 2m 50s\tremaining: 25.8s\n",
      "1042:\tlearn: 0.4657596\ttotal: 2m 50s\tremaining: 25.7s\n",
      "1043:\tlearn: 0.4657144\ttotal: 2m 50s\tremaining: 25.5s\n",
      "1044:\tlearn: 0.4656472\ttotal: 2m 50s\tremaining: 25.3s\n",
      "1045:\tlearn: 0.4655891\ttotal: 2m 51s\tremaining: 25.2s\n",
      "1046:\tlearn: 0.4655682\ttotal: 2m 51s\tremaining: 25s\n",
      "1047:\tlearn: 0.4655096\ttotal: 2m 51s\tremaining: 24.8s\n",
      "1048:\tlearn: 0.4654863\ttotal: 2m 51s\tremaining: 24.7s\n",
      "1049:\tlearn: 0.4654458\ttotal: 2m 51s\tremaining: 24.5s\n",
      "1050:\tlearn: 0.4654284\ttotal: 2m 51s\tremaining: 24.3s\n",
      "1051:\tlearn: 0.4654083\ttotal: 2m 51s\tremaining: 24.2s\n",
      "1052:\tlearn: 0.4654001\ttotal: 2m 52s\tremaining: 24s\n",
      "1053:\tlearn: 0.4653391\ttotal: 2m 52s\tremaining: 23.9s\n",
      "1054:\tlearn: 0.4653154\ttotal: 2m 52s\tremaining: 23.7s\n",
      "1055:\tlearn: 0.4652470\ttotal: 2m 52s\tremaining: 23.5s\n",
      "1056:\tlearn: 0.4652247\ttotal: 2m 52s\tremaining: 23.4s\n",
      "1057:\tlearn: 0.4651621\ttotal: 2m 52s\tremaining: 23.2s\n",
      "1058:\tlearn: 0.4651213\ttotal: 2m 53s\tremaining: 23s\n",
      "1059:\tlearn: 0.4650602\ttotal: 2m 53s\tremaining: 22.9s\n",
      "1060:\tlearn: 0.4650298\ttotal: 2m 53s\tremaining: 22.7s\n",
      "1061:\tlearn: 0.4649972\ttotal: 2m 53s\tremaining: 22.5s\n",
      "1062:\tlearn: 0.4649386\ttotal: 2m 53s\tremaining: 22.4s\n",
      "1063:\tlearn: 0.4648758\ttotal: 2m 53s\tremaining: 22.2s\n",
      "1064:\tlearn: 0.4648476\ttotal: 2m 54s\tremaining: 22.1s\n",
      "1065:\tlearn: 0.4647799\ttotal: 2m 54s\tremaining: 21.9s\n",
      "1066:\tlearn: 0.4647492\ttotal: 2m 54s\tremaining: 21.8s\n",
      "1067:\tlearn: 0.4646762\ttotal: 2m 54s\tremaining: 21.6s\n",
      "1068:\tlearn: 0.4646645\ttotal: 2m 54s\tremaining: 21.4s\n",
      "1069:\tlearn: 0.4646157\ttotal: 2m 55s\tremaining: 21.3s\n",
      "1070:\tlearn: 0.4645751\ttotal: 2m 55s\tremaining: 21.1s\n",
      "1071:\tlearn: 0.4645477\ttotal: 2m 55s\tremaining: 21s\n",
      "1072:\tlearn: 0.4644785\ttotal: 2m 55s\tremaining: 20.8s\n",
      "1073:\tlearn: 0.4644366\ttotal: 2m 55s\tremaining: 20.6s\n",
      "1074:\tlearn: 0.4643690\ttotal: 2m 55s\tremaining: 20.5s\n",
      "1075:\tlearn: 0.4643395\ttotal: 2m 56s\tremaining: 20.3s\n",
      "1076:\tlearn: 0.4643076\ttotal: 2m 56s\tremaining: 20.1s\n",
      "1077:\tlearn: 0.4642753\ttotal: 2m 56s\tremaining: 20s\n",
      "1078:\tlearn: 0.4642500\ttotal: 2m 56s\tremaining: 19.8s\n",
      "1079:\tlearn: 0.4642178\ttotal: 2m 56s\tremaining: 19.6s\n",
      "1080:\tlearn: 0.4641914\ttotal: 2m 56s\tremaining: 19.5s\n",
      "1081:\tlearn: 0.4641605\ttotal: 2m 56s\tremaining: 19.3s\n",
      "1082:\tlearn: 0.4641340\ttotal: 2m 57s\tremaining: 19.1s\n",
      "1083:\tlearn: 0.4641055\ttotal: 2m 57s\tremaining: 19s\n",
      "1084:\tlearn: 0.4640668\ttotal: 2m 57s\tremaining: 18.8s\n",
      "1085:\tlearn: 0.4640133\ttotal: 2m 57s\tremaining: 18.6s\n",
      "1086:\tlearn: 0.4639855\ttotal: 2m 57s\tremaining: 18.5s\n",
      "1087:\tlearn: 0.4639523\ttotal: 2m 57s\tremaining: 18.3s\n",
      "1088:\tlearn: 0.4639045\ttotal: 2m 58s\tremaining: 18.1s\n",
      "1089:\tlearn: 0.4638601\ttotal: 2m 58s\tremaining: 18s\n",
      "1090:\tlearn: 0.4638188\ttotal: 2m 58s\tremaining: 17.8s\n",
      "1091:\tlearn: 0.4637534\ttotal: 2m 58s\tremaining: 17.7s\n",
      "1092:\tlearn: 0.4637472\ttotal: 2m 58s\tremaining: 17.5s\n",
      "1093:\tlearn: 0.4637290\ttotal: 2m 58s\tremaining: 17.3s\n",
      "1094:\tlearn: 0.4637223\ttotal: 2m 58s\tremaining: 17.1s\n",
      "1095:\tlearn: 0.4637015\ttotal: 2m 58s\tremaining: 17s\n",
      "1096:\tlearn: 0.4636427\ttotal: 2m 59s\tremaining: 16.8s\n",
      "1097:\tlearn: 0.4635515\ttotal: 2m 59s\tremaining: 16.7s\n",
      "1098:\tlearn: 0.4634941\ttotal: 2m 59s\tremaining: 16.5s\n",
      "1099:\tlearn: 0.4634428\ttotal: 2m 59s\tremaining: 16.3s\n",
      "1100:\tlearn: 0.4633948\ttotal: 2m 59s\tremaining: 16.2s\n",
      "1101:\tlearn: 0.4633624\ttotal: 3m\tremaining: 16s\n",
      "1102:\tlearn: 0.4633272\ttotal: 3m\tremaining: 15.8s\n",
      "1103:\tlearn: 0.4632519\ttotal: 3m\tremaining: 15.7s\n",
      "1104:\tlearn: 0.4632270\ttotal: 3m\tremaining: 15.5s\n",
      "1105:\tlearn: 0.4632157\ttotal: 3m\tremaining: 15.3s\n",
      "1106:\tlearn: 0.4632028\ttotal: 3m\tremaining: 15.2s\n",
      "1107:\tlearn: 0.4631406\ttotal: 3m\tremaining: 15s\n",
      "1108:\tlearn: 0.4631116\ttotal: 3m\tremaining: 14.8s\n",
      "1109:\tlearn: 0.4631012\ttotal: 3m 1s\tremaining: 14.7s\n",
      "1110:\tlearn: 0.4630848\ttotal: 3m 1s\tremaining: 14.5s\n",
      "1111:\tlearn: 0.4630583\ttotal: 3m 1s\tremaining: 14.4s\n",
      "1112:\tlearn: 0.4630174\ttotal: 3m 1s\tremaining: 14.2s\n",
      "1113:\tlearn: 0.4629832\ttotal: 3m 1s\tremaining: 14s\n",
      "1114:\tlearn: 0.4629540\ttotal: 3m 1s\tremaining: 13.9s\n",
      "1115:\tlearn: 0.4628709\ttotal: 3m 2s\tremaining: 13.7s\n",
      "1116:\tlearn: 0.4628468\ttotal: 3m 2s\tremaining: 13.5s\n",
      "1117:\tlearn: 0.4628375\ttotal: 3m 2s\tremaining: 13.4s\n",
      "1118:\tlearn: 0.4628036\ttotal: 3m 2s\tremaining: 13.2s\n",
      "1119:\tlearn: 0.4627766\ttotal: 3m 2s\tremaining: 13s\n",
      "1120:\tlearn: 0.4627312\ttotal: 3m 2s\tremaining: 12.9s\n",
      "1121:\tlearn: 0.4626872\ttotal: 3m 3s\tremaining: 12.7s\n",
      "1122:\tlearn: 0.4626406\ttotal: 3m 3s\tremaining: 12.6s\n",
      "1123:\tlearn: 0.4626163\ttotal: 3m 3s\tremaining: 12.4s\n",
      "1124:\tlearn: 0.4626080\ttotal: 3m 3s\tremaining: 12.2s\n",
      "1125:\tlearn: 0.4625771\ttotal: 3m 3s\tremaining: 12.1s\n",
      "1126:\tlearn: 0.4625653\ttotal: 3m 3s\tremaining: 11.9s\n",
      "1127:\tlearn: 0.4625411\ttotal: 3m 4s\tremaining: 11.8s\n",
      "1128:\tlearn: 0.4625150\ttotal: 3m 4s\tremaining: 11.6s\n",
      "1129:\tlearn: 0.4624849\ttotal: 3m 4s\tremaining: 11.4s\n",
      "1130:\tlearn: 0.4624642\ttotal: 3m 4s\tremaining: 11.3s\n",
      "1131:\tlearn: 0.4624150\ttotal: 3m 4s\tremaining: 11.1s\n",
      "1132:\tlearn: 0.4623996\ttotal: 3m 5s\tremaining: 11s\n",
      "1133:\tlearn: 0.4623644\ttotal: 3m 5s\tremaining: 10.8s\n",
      "1134:\tlearn: 0.4623461\ttotal: 3m 5s\tremaining: 10.6s\n",
      "1135:\tlearn: 0.4622989\ttotal: 3m 5s\tremaining: 10.5s\n",
      "1136:\tlearn: 0.4622420\ttotal: 3m 5s\tremaining: 10.3s\n",
      "1137:\tlearn: 0.4622109\ttotal: 3m 6s\tremaining: 10.1s\n",
      "1138:\tlearn: 0.4622065\ttotal: 3m 6s\tremaining: 9.97s\n",
      "1139:\tlearn: 0.4621775\ttotal: 3m 6s\tremaining: 9.81s\n",
      "1140:\tlearn: 0.4621546\ttotal: 3m 6s\tremaining: 9.64s\n",
      "1141:\tlearn: 0.4621231\ttotal: 3m 6s\tremaining: 9.48s\n",
      "1142:\tlearn: 0.4620559\ttotal: 3m 6s\tremaining: 9.31s\n",
      "1143:\tlearn: 0.4620163\ttotal: 3m 6s\tremaining: 9.15s\n",
      "1144:\tlearn: 0.4619532\ttotal: 3m 7s\tremaining: 8.99s\n",
      "1145:\tlearn: 0.4619089\ttotal: 3m 7s\tremaining: 8.82s\n",
      "1146:\tlearn: 0.4618289\ttotal: 3m 7s\tremaining: 8.67s\n",
      "1147:\tlearn: 0.4618146\ttotal: 3m 7s\tremaining: 8.5s\n",
      "1148:\tlearn: 0.4617847\ttotal: 3m 7s\tremaining: 8.34s\n",
      "1149:\tlearn: 0.4617277\ttotal: 3m 7s\tremaining: 8.17s\n",
      "1150:\tlearn: 0.4616563\ttotal: 3m 8s\tremaining: 8.01s\n",
      "1151:\tlearn: 0.4616465\ttotal: 3m 8s\tremaining: 7.85s\n",
      "1152:\tlearn: 0.4616106\ttotal: 3m 8s\tremaining: 7.68s\n",
      "1153:\tlearn: 0.4615176\ttotal: 3m 8s\tremaining: 7.52s\n",
      "1154:\tlearn: 0.4614673\ttotal: 3m 8s\tremaining: 7.35s\n",
      "1155:\tlearn: 0.4614391\ttotal: 3m 8s\tremaining: 7.19s\n",
      "1156:\tlearn: 0.4614362\ttotal: 3m 9s\tremaining: 7.02s\n",
      "1157:\tlearn: 0.4614074\ttotal: 3m 9s\tremaining: 6.86s\n",
      "1158:\tlearn: 0.4613327\ttotal: 3m 9s\tremaining: 6.7s\n",
      "1159:\tlearn: 0.4613007\ttotal: 3m 9s\tremaining: 6.53s\n",
      "1160:\tlearn: 0.4612524\ttotal: 3m 9s\tremaining: 6.37s\n",
      "1161:\tlearn: 0.4612228\ttotal: 3m 9s\tremaining: 6.21s\n",
      "1162:\tlearn: 0.4611930\ttotal: 3m 9s\tremaining: 6.04s\n",
      "1163:\tlearn: 0.4611515\ttotal: 3m 10s\tremaining: 5.88s\n",
      "1164:\tlearn: 0.4611302\ttotal: 3m 10s\tremaining: 5.71s\n",
      "1165:\tlearn: 0.4610651\ttotal: 3m 10s\tremaining: 5.55s\n",
      "1166:\tlearn: 0.4610422\ttotal: 3m 10s\tremaining: 5.39s\n",
      "1167:\tlearn: 0.4610192\ttotal: 3m 10s\tremaining: 5.22s\n",
      "1168:\tlearn: 0.4609892\ttotal: 3m 10s\tremaining: 5.06s\n",
      "1169:\tlearn: 0.4609654\ttotal: 3m 10s\tremaining: 4.9s\n",
      "1170:\tlearn: 0.4609325\ttotal: 3m 11s\tremaining: 4.73s\n",
      "1171:\tlearn: 0.4609084\ttotal: 3m 11s\tremaining: 4.57s\n",
      "1172:\tlearn: 0.4608893\ttotal: 3m 11s\tremaining: 4.41s\n",
      "1173:\tlearn: 0.4608090\ttotal: 3m 11s\tremaining: 4.24s\n",
      "1174:\tlearn: 0.4607955\ttotal: 3m 12s\tremaining: 4.08s\n",
      "1175:\tlearn: 0.4607661\ttotal: 3m 12s\tremaining: 3.92s\n",
      "1176:\tlearn: 0.4607377\ttotal: 3m 12s\tremaining: 3.76s\n",
      "1177:\tlearn: 0.4606876\ttotal: 3m 12s\tremaining: 3.6s\n",
      "1178:\tlearn: 0.4606736\ttotal: 3m 12s\tremaining: 3.43s\n",
      "1179:\tlearn: 0.4606531\ttotal: 3m 12s\tremaining: 3.27s\n",
      "1180:\tlearn: 0.4606302\ttotal: 3m 13s\tremaining: 3.11s\n",
      "1181:\tlearn: 0.4606148\ttotal: 3m 13s\tremaining: 2.94s\n",
      "1182:\tlearn: 0.4605764\ttotal: 3m 13s\tremaining: 2.78s\n",
      "1183:\tlearn: 0.4605617\ttotal: 3m 13s\tremaining: 2.62s\n",
      "1184:\tlearn: 0.4605262\ttotal: 3m 13s\tremaining: 2.46s\n",
      "1185:\tlearn: 0.4604742\ttotal: 3m 14s\tremaining: 2.29s\n",
      "1186:\tlearn: 0.4604526\ttotal: 3m 14s\tremaining: 2.13s\n",
      "1187:\tlearn: 0.4603871\ttotal: 3m 14s\tremaining: 1.97s\n",
      "1188:\tlearn: 0.4603725\ttotal: 3m 14s\tremaining: 1.8s\n",
      "1189:\tlearn: 0.4603418\ttotal: 3m 14s\tremaining: 1.64s\n",
      "1190:\tlearn: 0.4603249\ttotal: 3m 15s\tremaining: 1.47s\n",
      "1191:\tlearn: 0.4602966\ttotal: 3m 15s\tremaining: 1.31s\n",
      "1192:\tlearn: 0.4602682\ttotal: 3m 15s\tremaining: 1.15s\n",
      "1193:\tlearn: 0.4602466\ttotal: 3m 15s\tremaining: 982ms\n",
      "1194:\tlearn: 0.4601600\ttotal: 3m 15s\tremaining: 818ms\n",
      "1195:\tlearn: 0.4601173\ttotal: 3m 15s\tremaining: 654ms\n",
      "1196:\tlearn: 0.4601030\ttotal: 3m 15s\tremaining: 491ms\n",
      "1197:\tlearn: 0.4600870\ttotal: 3m 15s\tremaining: 327ms\n",
      "1198:\tlearn: 0.4600681\ttotal: 3m 16s\tremaining: 164ms\n",
      "1199:\tlearn: 0.4600354\ttotal: 3m 16s\tremaining: 0us\n"
     ]
    },
    {
     "output_type": "execute_result",
     "data": {
      "text/plain": [
       "<catboost.core.CatBoostClassifier at 0x1bf01efa490>"
      ]
     },
     "metadata": {},
     "execution_count": 49
    }
   ],
   "source": [
    "model2.fit(X_train,y_train,cat_features=cat_cols)"
   ]
  },
  {
   "cell_type": "code",
   "execution_count": 50,
   "metadata": {},
   "outputs": [],
   "source": [
    "prediction1=model2.predict(X_train)"
   ]
  },
  {
   "cell_type": "code",
   "execution_count": 52,
   "metadata": {},
   "outputs": [],
   "source": [
    "prediction1 = np.array(prediction1)"
   ]
  },
  {
   "cell_type": "code",
   "execution_count": 145,
   "metadata": {},
   "outputs": [],
   "source": [
    "hpredictions=[]\n",
    "for i in prediction1:\n",
    "    if i<0:\n",
    "        hpredictions.append(0)\n",
    "    else:\n",
    "        hpredictions.append(i)"
   ]
  },
  {
   "cell_type": "code",
   "execution_count": 146,
   "metadata": {},
   "outputs": [],
   "source": [
    "hpredictions=np.array(hpredictions)"
   ]
  },
  {
   "cell_type": "code",
   "execution_count": 53,
   "metadata": {},
   "outputs": [
    {
     "output_type": "execute_result",
     "data": {
      "text/plain": [
       "0.5411483707065905"
      ]
     },
     "metadata": {},
     "execution_count": 53
    }
   ],
   "source": [
    "auc_lr1h =  roc_auc_score(y_train,prediction1)\n",
    "auc_lr1h"
   ]
  },
  {
   "cell_type": "code",
   "execution_count": 61,
   "metadata": {},
   "outputs": [],
   "source": [
    "prediction1=model2.predict(X_val)"
   ]
  },
  {
   "cell_type": "code",
   "execution_count": 63,
   "metadata": {},
   "outputs": [
    {
     "output_type": "execute_result",
     "data": {
      "text/plain": [
       "<seaborn.axisgrid.FacetGrid at 0x1bf01f0da60>"
      ]
     },
     "metadata": {},
     "execution_count": 63
    },
    {
     "output_type": "display_data",
     "data": {
      "text/plain": "<Figure size 360x360 with 1 Axes>",
      "image/svg+xml": "<?xml version=\"1.0\" encoding=\"utf-8\" standalone=\"no\"?>\r\n<!DOCTYPE svg PUBLIC \"-//W3C//DTD SVG 1.1//EN\"\r\n  \"http://www.w3.org/Graphics/SVG/1.1/DTD/svg11.dtd\">\r\n<!-- Created with matplotlib (https://matplotlib.org/) -->\r\n<svg height=\"352.478125pt\" version=\"1.1\" viewBox=\"0 0 352.790625 352.478125\" width=\"352.790625pt\" xmlns=\"http://www.w3.org/2000/svg\" xmlns:xlink=\"http://www.w3.org/1999/xlink\">\r\n <metadata>\r\n  <rdf:RDF xmlns:cc=\"http://creativecommons.org/ns#\" xmlns:dc=\"http://purl.org/dc/elements/1.1/\" xmlns:rdf=\"http://www.w3.org/1999/02/22-rdf-syntax-ns#\">\r\n   <cc:Work>\r\n    <dc:type rdf:resource=\"http://purl.org/dc/dcmitype/StillImage\"/>\r\n    <dc:date>2021-02-28T14:54:52.877453</dc:date>\r\n    <dc:format>image/svg+xml</dc:format>\r\n    <dc:creator>\r\n     <cc:Agent>\r\n      <dc:title>Matplotlib v3.3.4, https://matplotlib.org/</dc:title>\r\n     </cc:Agent>\r\n    </dc:creator>\r\n   </cc:Work>\r\n  </rdf:RDF>\r\n </metadata>\r\n <defs>\r\n  <style type=\"text/css\">*{stroke-linecap:butt;stroke-linejoin:round;}</style>\r\n </defs>\r\n <g id=\"figure_1\">\r\n  <g id=\"patch_1\">\r\n   <path d=\"M 0 352.478125 \r\nL 352.790625 352.478125 \r\nL 352.790625 0 \r\nL 0 0 \r\nz\r\n\" style=\"fill:none;\"/>\r\n  </g>\r\n  <g id=\"axes_1\">\r\n   <g id=\"patch_2\">\r\n    <path d=\"M 59.690625 328.6 \r\nL 345.590625 328.6 \r\nL 345.590625 7.2 \r\nL 59.690625 7.2 \r\nz\r\n\" style=\"fill:#ffffff;\"/>\r\n   </g>\r\n   <g id=\"patch_3\">\r\n    <path clip-path=\"url(#p894afd1cfa)\" d=\"M 72.68608 328.6 \r\nL 90.013352 328.6 \r\nL 90.013352 22.504762 \r\nL 72.68608 22.504762 \r\nz\r\n\" style=\"fill:#1f77b4;fill-opacity:0.75;stroke:#000000;stroke-linejoin:miter;\"/>\r\n   </g>\r\n   <g id=\"patch_4\">\r\n    <path clip-path=\"url(#p894afd1cfa)\" d=\"M 90.013352 328.6 \r\nL 107.340625 328.6 \r\nL 107.340625 328.6 \r\nL 90.013352 328.6 \r\nz\r\n\" style=\"fill:#1f77b4;fill-opacity:0.75;stroke:#000000;stroke-linejoin:miter;\"/>\r\n   </g>\r\n   <g id=\"patch_5\">\r\n    <path clip-path=\"url(#p894afd1cfa)\" d=\"M 107.340625 328.6 \r\nL 124.667898 328.6 \r\nL 124.667898 328.6 \r\nL 107.340625 328.6 \r\nz\r\n\" style=\"fill:#1f77b4;fill-opacity:0.75;stroke:#000000;stroke-linejoin:miter;\"/>\r\n   </g>\r\n   <g id=\"patch_6\">\r\n    <path clip-path=\"url(#p894afd1cfa)\" d=\"M 124.667898 328.6 \r\nL 141.99517 328.6 \r\nL 141.99517 328.6 \r\nL 124.667898 328.6 \r\nz\r\n\" style=\"fill:#1f77b4;fill-opacity:0.75;stroke:#000000;stroke-linejoin:miter;\"/>\r\n   </g>\r\n   <g id=\"patch_7\">\r\n    <path clip-path=\"url(#p894afd1cfa)\" d=\"M 141.99517 328.6 \r\nL 159.322443 328.6 \r\nL 159.322443 328.6 \r\nL 141.99517 328.6 \r\nz\r\n\" style=\"fill:#1f77b4;fill-opacity:0.75;stroke:#000000;stroke-linejoin:miter;\"/>\r\n   </g>\r\n   <g id=\"patch_8\">\r\n    <path clip-path=\"url(#p894afd1cfa)\" d=\"M 159.322443 328.6 \r\nL 176.649716 328.6 \r\nL 176.649716 328.6 \r\nL 159.322443 328.6 \r\nz\r\n\" style=\"fill:#1f77b4;fill-opacity:0.75;stroke:#000000;stroke-linejoin:miter;\"/>\r\n   </g>\r\n   <g id=\"patch_9\">\r\n    <path clip-path=\"url(#p894afd1cfa)\" d=\"M 176.649716 328.6 \r\nL 193.976989 328.6 \r\nL 193.976989 328.6 \r\nL 176.649716 328.6 \r\nz\r\n\" style=\"fill:#1f77b4;fill-opacity:0.75;stroke:#000000;stroke-linejoin:miter;\"/>\r\n   </g>\r\n   <g id=\"patch_10\">\r\n    <path clip-path=\"url(#p894afd1cfa)\" d=\"M 193.976989 328.6 \r\nL 211.304261 328.6 \r\nL 211.304261 328.6 \r\nL 193.976989 328.6 \r\nz\r\n\" style=\"fill:#1f77b4;fill-opacity:0.75;stroke:#000000;stroke-linejoin:miter;\"/>\r\n   </g>\r\n   <g id=\"patch_11\">\r\n    <path clip-path=\"url(#p894afd1cfa)\" d=\"M 211.304261 328.6 \r\nL 228.631534 328.6 \r\nL 228.631534 328.6 \r\nL 211.304261 328.6 \r\nz\r\n\" style=\"fill:#1f77b4;fill-opacity:0.75;stroke:#000000;stroke-linejoin:miter;\"/>\r\n   </g>\r\n   <g id=\"patch_12\">\r\n    <path clip-path=\"url(#p894afd1cfa)\" d=\"M 228.631534 328.6 \r\nL 245.958807 328.6 \r\nL 245.958807 328.6 \r\nL 228.631534 328.6 \r\nz\r\n\" style=\"fill:#1f77b4;fill-opacity:0.75;stroke:#000000;stroke-linejoin:miter;\"/>\r\n   </g>\r\n   <g id=\"patch_13\">\r\n    <path clip-path=\"url(#p894afd1cfa)\" d=\"M 245.958807 328.6 \r\nL 263.28608 328.6 \r\nL 263.28608 328.6 \r\nL 245.958807 328.6 \r\nz\r\n\" style=\"fill:#1f77b4;fill-opacity:0.75;stroke:#000000;stroke-linejoin:miter;\"/>\r\n   </g>\r\n   <g id=\"patch_14\">\r\n    <path clip-path=\"url(#p894afd1cfa)\" d=\"M 263.28608 328.6 \r\nL 280.613352 328.6 \r\nL 280.613352 328.6 \r\nL 263.28608 328.6 \r\nz\r\n\" style=\"fill:#1f77b4;fill-opacity:0.75;stroke:#000000;stroke-linejoin:miter;\"/>\r\n   </g>\r\n   <g id=\"patch_15\">\r\n    <path clip-path=\"url(#p894afd1cfa)\" d=\"M 280.613352 328.6 \r\nL 297.940625 328.6 \r\nL 297.940625 328.6 \r\nL 280.613352 328.6 \r\nz\r\n\" style=\"fill:#1f77b4;fill-opacity:0.75;stroke:#000000;stroke-linejoin:miter;\"/>\r\n   </g>\r\n   <g id=\"patch_16\">\r\n    <path clip-path=\"url(#p894afd1cfa)\" d=\"M 297.940625 328.6 \r\nL 315.267898 328.6 \r\nL 315.267898 328.6 \r\nL 297.940625 328.6 \r\nz\r\n\" style=\"fill:#1f77b4;fill-opacity:0.75;stroke:#000000;stroke-linejoin:miter;\"/>\r\n   </g>\r\n   <g id=\"patch_17\">\r\n    <path clip-path=\"url(#p894afd1cfa)\" d=\"M 315.267898 328.6 \r\nL 332.59517 328.6 \r\nL 332.59517 321.307912 \r\nL 315.267898 321.307912 \r\nz\r\n\" style=\"fill:#1f77b4;fill-opacity:0.75;stroke:#000000;stroke-linejoin:miter;\"/>\r\n   </g>\r\n   <g id=\"matplotlib.axis_1\">\r\n    <g id=\"xtick_1\">\r\n     <g id=\"line2d_1\">\r\n      <defs>\r\n       <path d=\"M 0 0 \r\nL 0 3.5 \r\n\" id=\"m23b8f16aa2\" style=\"stroke:#000000;stroke-width:0.8;\"/>\r\n      </defs>\r\n      <g>\r\n       <use style=\"stroke:#000000;stroke-width:0.8;\" x=\"72.68608\" xlink:href=\"#m23b8f16aa2\" y=\"328.6\"/>\r\n      </g>\r\n     </g>\r\n     <g id=\"text_1\">\r\n      <!-- 0.0 -->\r\n      <g transform=\"translate(64.734517 343.198437)scale(0.1 -0.1)\">\r\n       <defs>\r\n        <path d=\"M 31.78125 66.40625 \r\nQ 24.171875 66.40625 20.328125 58.90625 \r\nQ 16.5 51.421875 16.5 36.375 \r\nQ 16.5 21.390625 20.328125 13.890625 \r\nQ 24.171875 6.390625 31.78125 6.390625 \r\nQ 39.453125 6.390625 43.28125 13.890625 \r\nQ 47.125 21.390625 47.125 36.375 \r\nQ 47.125 51.421875 43.28125 58.90625 \r\nQ 39.453125 66.40625 31.78125 66.40625 \r\nz\r\nM 31.78125 74.21875 \r\nQ 44.046875 74.21875 50.515625 64.515625 \r\nQ 56.984375 54.828125 56.984375 36.375 \r\nQ 56.984375 17.96875 50.515625 8.265625 \r\nQ 44.046875 -1.421875 31.78125 -1.421875 \r\nQ 19.53125 -1.421875 13.0625 8.265625 \r\nQ 6.59375 17.96875 6.59375 36.375 \r\nQ 6.59375 54.828125 13.0625 64.515625 \r\nQ 19.53125 74.21875 31.78125 74.21875 \r\nz\r\n\" id=\"DejaVuSans-48\"/>\r\n        <path d=\"M 10.6875 12.40625 \r\nL 21 12.40625 \r\nL 21 0 \r\nL 10.6875 0 \r\nz\r\n\" id=\"DejaVuSans-46\"/>\r\n       </defs>\r\n       <use xlink:href=\"#DejaVuSans-48\"/>\r\n       <use x=\"63.623047\" xlink:href=\"#DejaVuSans-46\"/>\r\n       <use x=\"95.410156\" xlink:href=\"#DejaVuSans-48\"/>\r\n      </g>\r\n     </g>\r\n    </g>\r\n    <g id=\"xtick_2\">\r\n     <g id=\"line2d_2\">\r\n      <g>\r\n       <use style=\"stroke:#000000;stroke-width:0.8;\" x=\"124.667898\" xlink:href=\"#m23b8f16aa2\" y=\"328.6\"/>\r\n      </g>\r\n     </g>\r\n     <g id=\"text_2\">\r\n      <!-- 0.2 -->\r\n      <g transform=\"translate(116.716335 343.198437)scale(0.1 -0.1)\">\r\n       <defs>\r\n        <path d=\"M 19.1875 8.296875 \r\nL 53.609375 8.296875 \r\nL 53.609375 0 \r\nL 7.328125 0 \r\nL 7.328125 8.296875 \r\nQ 12.9375 14.109375 22.625 23.890625 \r\nQ 32.328125 33.6875 34.8125 36.53125 \r\nQ 39.546875 41.84375 41.421875 45.53125 \r\nQ 43.3125 49.21875 43.3125 52.78125 \r\nQ 43.3125 58.59375 39.234375 62.25 \r\nQ 35.15625 65.921875 28.609375 65.921875 \r\nQ 23.96875 65.921875 18.8125 64.3125 \r\nQ 13.671875 62.703125 7.8125 59.421875 \r\nL 7.8125 69.390625 \r\nQ 13.765625 71.78125 18.9375 73 \r\nQ 24.125 74.21875 28.421875 74.21875 \r\nQ 39.75 74.21875 46.484375 68.546875 \r\nQ 53.21875 62.890625 53.21875 53.421875 \r\nQ 53.21875 48.921875 51.53125 44.890625 \r\nQ 49.859375 40.875 45.40625 35.40625 \r\nQ 44.1875 33.984375 37.640625 27.21875 \r\nQ 31.109375 20.453125 19.1875 8.296875 \r\nz\r\n\" id=\"DejaVuSans-50\"/>\r\n       </defs>\r\n       <use xlink:href=\"#DejaVuSans-48\"/>\r\n       <use x=\"63.623047\" xlink:href=\"#DejaVuSans-46\"/>\r\n       <use x=\"95.410156\" xlink:href=\"#DejaVuSans-50\"/>\r\n      </g>\r\n     </g>\r\n    </g>\r\n    <g id=\"xtick_3\">\r\n     <g id=\"line2d_3\">\r\n      <g>\r\n       <use style=\"stroke:#000000;stroke-width:0.8;\" x=\"176.649716\" xlink:href=\"#m23b8f16aa2\" y=\"328.6\"/>\r\n      </g>\r\n     </g>\r\n     <g id=\"text_3\">\r\n      <!-- 0.4 -->\r\n      <g transform=\"translate(168.698153 343.198437)scale(0.1 -0.1)\">\r\n       <defs>\r\n        <path d=\"M 37.796875 64.3125 \r\nL 12.890625 25.390625 \r\nL 37.796875 25.390625 \r\nz\r\nM 35.203125 72.90625 \r\nL 47.609375 72.90625 \r\nL 47.609375 25.390625 \r\nL 58.015625 25.390625 \r\nL 58.015625 17.1875 \r\nL 47.609375 17.1875 \r\nL 47.609375 0 \r\nL 37.796875 0 \r\nL 37.796875 17.1875 \r\nL 4.890625 17.1875 \r\nL 4.890625 26.703125 \r\nz\r\n\" id=\"DejaVuSans-52\"/>\r\n       </defs>\r\n       <use xlink:href=\"#DejaVuSans-48\"/>\r\n       <use x=\"63.623047\" xlink:href=\"#DejaVuSans-46\"/>\r\n       <use x=\"95.410156\" xlink:href=\"#DejaVuSans-52\"/>\r\n      </g>\r\n     </g>\r\n    </g>\r\n    <g id=\"xtick_4\">\r\n     <g id=\"line2d_4\">\r\n      <g>\r\n       <use style=\"stroke:#000000;stroke-width:0.8;\" x=\"228.631534\" xlink:href=\"#m23b8f16aa2\" y=\"328.6\"/>\r\n      </g>\r\n     </g>\r\n     <g id=\"text_4\">\r\n      <!-- 0.6 -->\r\n      <g transform=\"translate(220.679972 343.198437)scale(0.1 -0.1)\">\r\n       <defs>\r\n        <path d=\"M 33.015625 40.375 \r\nQ 26.375 40.375 22.484375 35.828125 \r\nQ 18.609375 31.296875 18.609375 23.390625 \r\nQ 18.609375 15.53125 22.484375 10.953125 \r\nQ 26.375 6.390625 33.015625 6.390625 \r\nQ 39.65625 6.390625 43.53125 10.953125 \r\nQ 47.40625 15.53125 47.40625 23.390625 \r\nQ 47.40625 31.296875 43.53125 35.828125 \r\nQ 39.65625 40.375 33.015625 40.375 \r\nz\r\nM 52.59375 71.296875 \r\nL 52.59375 62.3125 \r\nQ 48.875 64.0625 45.09375 64.984375 \r\nQ 41.3125 65.921875 37.59375 65.921875 \r\nQ 27.828125 65.921875 22.671875 59.328125 \r\nQ 17.53125 52.734375 16.796875 39.40625 \r\nQ 19.671875 43.65625 24.015625 45.921875 \r\nQ 28.375 48.1875 33.59375 48.1875 \r\nQ 44.578125 48.1875 50.953125 41.515625 \r\nQ 57.328125 34.859375 57.328125 23.390625 \r\nQ 57.328125 12.15625 50.6875 5.359375 \r\nQ 44.046875 -1.421875 33.015625 -1.421875 \r\nQ 20.359375 -1.421875 13.671875 8.265625 \r\nQ 6.984375 17.96875 6.984375 36.375 \r\nQ 6.984375 53.65625 15.1875 63.9375 \r\nQ 23.390625 74.21875 37.203125 74.21875 \r\nQ 40.921875 74.21875 44.703125 73.484375 \r\nQ 48.484375 72.75 52.59375 71.296875 \r\nz\r\n\" id=\"DejaVuSans-54\"/>\r\n       </defs>\r\n       <use xlink:href=\"#DejaVuSans-48\"/>\r\n       <use x=\"63.623047\" xlink:href=\"#DejaVuSans-46\"/>\r\n       <use x=\"95.410156\" xlink:href=\"#DejaVuSans-54\"/>\r\n      </g>\r\n     </g>\r\n    </g>\r\n    <g id=\"xtick_5\">\r\n     <g id=\"line2d_5\">\r\n      <g>\r\n       <use style=\"stroke:#000000;stroke-width:0.8;\" x=\"280.613352\" xlink:href=\"#m23b8f16aa2\" y=\"328.6\"/>\r\n      </g>\r\n     </g>\r\n     <g id=\"text_5\">\r\n      <!-- 0.8 -->\r\n      <g transform=\"translate(272.66179 343.198437)scale(0.1 -0.1)\">\r\n       <defs>\r\n        <path d=\"M 31.78125 34.625 \r\nQ 24.75 34.625 20.71875 30.859375 \r\nQ 16.703125 27.09375 16.703125 20.515625 \r\nQ 16.703125 13.921875 20.71875 10.15625 \r\nQ 24.75 6.390625 31.78125 6.390625 \r\nQ 38.8125 6.390625 42.859375 10.171875 \r\nQ 46.921875 13.96875 46.921875 20.515625 \r\nQ 46.921875 27.09375 42.890625 30.859375 \r\nQ 38.875 34.625 31.78125 34.625 \r\nz\r\nM 21.921875 38.8125 \r\nQ 15.578125 40.375 12.03125 44.71875 \r\nQ 8.5 49.078125 8.5 55.328125 \r\nQ 8.5 64.0625 14.71875 69.140625 \r\nQ 20.953125 74.21875 31.78125 74.21875 \r\nQ 42.671875 74.21875 48.875 69.140625 \r\nQ 55.078125 64.0625 55.078125 55.328125 \r\nQ 55.078125 49.078125 51.53125 44.71875 \r\nQ 48 40.375 41.703125 38.8125 \r\nQ 48.828125 37.15625 52.796875 32.3125 \r\nQ 56.78125 27.484375 56.78125 20.515625 \r\nQ 56.78125 9.90625 50.3125 4.234375 \r\nQ 43.84375 -1.421875 31.78125 -1.421875 \r\nQ 19.734375 -1.421875 13.25 4.234375 \r\nQ 6.78125 9.90625 6.78125 20.515625 \r\nQ 6.78125 27.484375 10.78125 32.3125 \r\nQ 14.796875 37.15625 21.921875 38.8125 \r\nz\r\nM 18.3125 54.390625 \r\nQ 18.3125 48.734375 21.84375 45.5625 \r\nQ 25.390625 42.390625 31.78125 42.390625 \r\nQ 38.140625 42.390625 41.71875 45.5625 \r\nQ 45.3125 48.734375 45.3125 54.390625 \r\nQ 45.3125 60.0625 41.71875 63.234375 \r\nQ 38.140625 66.40625 31.78125 66.40625 \r\nQ 25.390625 66.40625 21.84375 63.234375 \r\nQ 18.3125 60.0625 18.3125 54.390625 \r\nz\r\n\" id=\"DejaVuSans-56\"/>\r\n       </defs>\r\n       <use xlink:href=\"#DejaVuSans-48\"/>\r\n       <use x=\"63.623047\" xlink:href=\"#DejaVuSans-46\"/>\r\n       <use x=\"95.410156\" xlink:href=\"#DejaVuSans-56\"/>\r\n      </g>\r\n     </g>\r\n    </g>\r\n    <g id=\"xtick_6\">\r\n     <g id=\"line2d_6\">\r\n      <g>\r\n       <use style=\"stroke:#000000;stroke-width:0.8;\" x=\"332.59517\" xlink:href=\"#m23b8f16aa2\" y=\"328.6\"/>\r\n      </g>\r\n     </g>\r\n     <g id=\"text_6\">\r\n      <!-- 1.0 -->\r\n      <g transform=\"translate(324.643608 343.198437)scale(0.1 -0.1)\">\r\n       <defs>\r\n        <path d=\"M 12.40625 8.296875 \r\nL 28.515625 8.296875 \r\nL 28.515625 63.921875 \r\nL 10.984375 60.40625 \r\nL 10.984375 69.390625 \r\nL 28.421875 72.90625 \r\nL 38.28125 72.90625 \r\nL 38.28125 8.296875 \r\nL 54.390625 8.296875 \r\nL 54.390625 0 \r\nL 12.40625 0 \r\nz\r\n\" id=\"DejaVuSans-49\"/>\r\n       </defs>\r\n       <use xlink:href=\"#DejaVuSans-49\"/>\r\n       <use x=\"63.623047\" xlink:href=\"#DejaVuSans-46\"/>\r\n       <use x=\"95.410156\" xlink:href=\"#DejaVuSans-48\"/>\r\n      </g>\r\n     </g>\r\n    </g>\r\n   </g>\r\n   <g id=\"matplotlib.axis_2\">\r\n    <g id=\"ytick_1\">\r\n     <g id=\"line2d_7\">\r\n      <defs>\r\n       <path d=\"M 0 0 \r\nL -3.5 0 \r\n\" id=\"m1fd8133c33\" style=\"stroke:#000000;stroke-width:0.8;\"/>\r\n      </defs>\r\n      <g>\r\n       <use style=\"stroke:#000000;stroke-width:0.8;\" x=\"59.690625\" xlink:href=\"#m1fd8133c33\" y=\"328.6\"/>\r\n      </g>\r\n     </g>\r\n     <g id=\"text_7\">\r\n      <!-- 0 -->\r\n      <g transform=\"translate(46.328125 332.399219)scale(0.1 -0.1)\">\r\n       <use xlink:href=\"#DejaVuSans-48\"/>\r\n      </g>\r\n     </g>\r\n    </g>\r\n    <g id=\"ytick_2\">\r\n     <g id=\"line2d_8\">\r\n      <g>\r\n       <use style=\"stroke:#000000;stroke-width:0.8;\" x=\"59.690625\" xlink:href=\"#m1fd8133c33\" y=\"279.329137\"/>\r\n      </g>\r\n     </g>\r\n     <g id=\"text_8\">\r\n      <!-- 2000 -->\r\n      <g transform=\"translate(27.240625 283.128355)scale(0.1 -0.1)\">\r\n       <use xlink:href=\"#DejaVuSans-50\"/>\r\n       <use x=\"63.623047\" xlink:href=\"#DejaVuSans-48\"/>\r\n       <use x=\"127.246094\" xlink:href=\"#DejaVuSans-48\"/>\r\n       <use x=\"190.869141\" xlink:href=\"#DejaVuSans-48\"/>\r\n      </g>\r\n     </g>\r\n    </g>\r\n    <g id=\"ytick_3\">\r\n     <g id=\"line2d_9\">\r\n      <g>\r\n       <use style=\"stroke:#000000;stroke-width:0.8;\" x=\"59.690625\" xlink:href=\"#m1fd8133c33\" y=\"230.058273\"/>\r\n      </g>\r\n     </g>\r\n     <g id=\"text_9\">\r\n      <!-- 4000 -->\r\n      <g transform=\"translate(27.240625 233.857492)scale(0.1 -0.1)\">\r\n       <use xlink:href=\"#DejaVuSans-52\"/>\r\n       <use x=\"63.623047\" xlink:href=\"#DejaVuSans-48\"/>\r\n       <use x=\"127.246094\" xlink:href=\"#DejaVuSans-48\"/>\r\n       <use x=\"190.869141\" xlink:href=\"#DejaVuSans-48\"/>\r\n      </g>\r\n     </g>\r\n    </g>\r\n    <g id=\"ytick_4\">\r\n     <g id=\"line2d_10\">\r\n      <g>\r\n       <use style=\"stroke:#000000;stroke-width:0.8;\" x=\"59.690625\" xlink:href=\"#m1fd8133c33\" y=\"180.78741\"/>\r\n      </g>\r\n     </g>\r\n     <g id=\"text_10\">\r\n      <!-- 6000 -->\r\n      <g transform=\"translate(27.240625 184.586629)scale(0.1 -0.1)\">\r\n       <use xlink:href=\"#DejaVuSans-54\"/>\r\n       <use x=\"63.623047\" xlink:href=\"#DejaVuSans-48\"/>\r\n       <use x=\"127.246094\" xlink:href=\"#DejaVuSans-48\"/>\r\n       <use x=\"190.869141\" xlink:href=\"#DejaVuSans-48\"/>\r\n      </g>\r\n     </g>\r\n    </g>\r\n    <g id=\"ytick_5\">\r\n     <g id=\"line2d_11\">\r\n      <g>\r\n       <use style=\"stroke:#000000;stroke-width:0.8;\" x=\"59.690625\" xlink:href=\"#m1fd8133c33\" y=\"131.516547\"/>\r\n      </g>\r\n     </g>\r\n     <g id=\"text_11\">\r\n      <!-- 8000 -->\r\n      <g transform=\"translate(27.240625 135.315766)scale(0.1 -0.1)\">\r\n       <use xlink:href=\"#DejaVuSans-56\"/>\r\n       <use x=\"63.623047\" xlink:href=\"#DejaVuSans-48\"/>\r\n       <use x=\"127.246094\" xlink:href=\"#DejaVuSans-48\"/>\r\n       <use x=\"190.869141\" xlink:href=\"#DejaVuSans-48\"/>\r\n      </g>\r\n     </g>\r\n    </g>\r\n    <g id=\"ytick_6\">\r\n     <g id=\"line2d_12\">\r\n      <g>\r\n       <use style=\"stroke:#000000;stroke-width:0.8;\" x=\"59.690625\" xlink:href=\"#m1fd8133c33\" y=\"82.245684\"/>\r\n      </g>\r\n     </g>\r\n     <g id=\"text_12\">\r\n      <!-- 10000 -->\r\n      <g transform=\"translate(20.878125 86.044902)scale(0.1 -0.1)\">\r\n       <use xlink:href=\"#DejaVuSans-49\"/>\r\n       <use x=\"63.623047\" xlink:href=\"#DejaVuSans-48\"/>\r\n       <use x=\"127.246094\" xlink:href=\"#DejaVuSans-48\"/>\r\n       <use x=\"190.869141\" xlink:href=\"#DejaVuSans-48\"/>\r\n       <use x=\"254.492188\" xlink:href=\"#DejaVuSans-48\"/>\r\n      </g>\r\n     </g>\r\n    </g>\r\n    <g id=\"ytick_7\">\r\n     <g id=\"line2d_13\">\r\n      <g>\r\n       <use style=\"stroke:#000000;stroke-width:0.8;\" x=\"59.690625\" xlink:href=\"#m1fd8133c33\" y=\"32.97482\"/>\r\n      </g>\r\n     </g>\r\n     <g id=\"text_13\">\r\n      <!-- 12000 -->\r\n      <g transform=\"translate(20.878125 36.774039)scale(0.1 -0.1)\">\r\n       <use xlink:href=\"#DejaVuSans-49\"/>\r\n       <use x=\"63.623047\" xlink:href=\"#DejaVuSans-50\"/>\r\n       <use x=\"127.246094\" xlink:href=\"#DejaVuSans-48\"/>\r\n       <use x=\"190.869141\" xlink:href=\"#DejaVuSans-48\"/>\r\n       <use x=\"254.492188\" xlink:href=\"#DejaVuSans-48\"/>\r\n      </g>\r\n     </g>\r\n    </g>\r\n    <g id=\"text_14\">\r\n     <!-- Count -->\r\n     <g transform=\"translate(14.798438 182.748437)rotate(-90)scale(0.1 -0.1)\">\r\n      <defs>\r\n       <path d=\"M 64.40625 67.28125 \r\nL 64.40625 56.890625 \r\nQ 59.421875 61.53125 53.78125 63.8125 \r\nQ 48.140625 66.109375 41.796875 66.109375 \r\nQ 29.296875 66.109375 22.65625 58.46875 \r\nQ 16.015625 50.828125 16.015625 36.375 \r\nQ 16.015625 21.96875 22.65625 14.328125 \r\nQ 29.296875 6.6875 41.796875 6.6875 \r\nQ 48.140625 6.6875 53.78125 8.984375 \r\nQ 59.421875 11.28125 64.40625 15.921875 \r\nL 64.40625 5.609375 \r\nQ 59.234375 2.09375 53.4375 0.328125 \r\nQ 47.65625 -1.421875 41.21875 -1.421875 \r\nQ 24.65625 -1.421875 15.125 8.703125 \r\nQ 5.609375 18.84375 5.609375 36.375 \r\nQ 5.609375 53.953125 15.125 64.078125 \r\nQ 24.65625 74.21875 41.21875 74.21875 \r\nQ 47.75 74.21875 53.53125 72.484375 \r\nQ 59.328125 70.75 64.40625 67.28125 \r\nz\r\n\" id=\"DejaVuSans-67\"/>\r\n       <path d=\"M 30.609375 48.390625 \r\nQ 23.390625 48.390625 19.1875 42.75 \r\nQ 14.984375 37.109375 14.984375 27.296875 \r\nQ 14.984375 17.484375 19.15625 11.84375 \r\nQ 23.34375 6.203125 30.609375 6.203125 \r\nQ 37.796875 6.203125 41.984375 11.859375 \r\nQ 46.1875 17.53125 46.1875 27.296875 \r\nQ 46.1875 37.015625 41.984375 42.703125 \r\nQ 37.796875 48.390625 30.609375 48.390625 \r\nz\r\nM 30.609375 56 \r\nQ 42.328125 56 49.015625 48.375 \r\nQ 55.71875 40.765625 55.71875 27.296875 \r\nQ 55.71875 13.875 49.015625 6.21875 \r\nQ 42.328125 -1.421875 30.609375 -1.421875 \r\nQ 18.84375 -1.421875 12.171875 6.21875 \r\nQ 5.515625 13.875 5.515625 27.296875 \r\nQ 5.515625 40.765625 12.171875 48.375 \r\nQ 18.84375 56 30.609375 56 \r\nz\r\n\" id=\"DejaVuSans-111\"/>\r\n       <path d=\"M 8.5 21.578125 \r\nL 8.5 54.6875 \r\nL 17.484375 54.6875 \r\nL 17.484375 21.921875 \r\nQ 17.484375 14.15625 20.5 10.265625 \r\nQ 23.53125 6.390625 29.59375 6.390625 \r\nQ 36.859375 6.390625 41.078125 11.03125 \r\nQ 45.3125 15.671875 45.3125 23.6875 \r\nL 45.3125 54.6875 \r\nL 54.296875 54.6875 \r\nL 54.296875 0 \r\nL 45.3125 0 \r\nL 45.3125 8.40625 \r\nQ 42.046875 3.421875 37.71875 1 \r\nQ 33.40625 -1.421875 27.6875 -1.421875 \r\nQ 18.265625 -1.421875 13.375 4.4375 \r\nQ 8.5 10.296875 8.5 21.578125 \r\nz\r\nM 31.109375 56 \r\nz\r\n\" id=\"DejaVuSans-117\"/>\r\n       <path d=\"M 54.890625 33.015625 \r\nL 54.890625 0 \r\nL 45.90625 0 \r\nL 45.90625 32.71875 \r\nQ 45.90625 40.484375 42.875 44.328125 \r\nQ 39.84375 48.1875 33.796875 48.1875 \r\nQ 26.515625 48.1875 22.3125 43.546875 \r\nQ 18.109375 38.921875 18.109375 30.90625 \r\nL 18.109375 0 \r\nL 9.078125 0 \r\nL 9.078125 54.6875 \r\nL 18.109375 54.6875 \r\nL 18.109375 46.1875 \r\nQ 21.34375 51.125 25.703125 53.5625 \r\nQ 30.078125 56 35.796875 56 \r\nQ 45.21875 56 50.046875 50.171875 \r\nQ 54.890625 44.34375 54.890625 33.015625 \r\nz\r\n\" id=\"DejaVuSans-110\"/>\r\n       <path d=\"M 18.3125 70.21875 \r\nL 18.3125 54.6875 \r\nL 36.8125 54.6875 \r\nL 36.8125 47.703125 \r\nL 18.3125 47.703125 \r\nL 18.3125 18.015625 \r\nQ 18.3125 11.328125 20.140625 9.421875 \r\nQ 21.96875 7.515625 27.59375 7.515625 \r\nL 36.8125 7.515625 \r\nL 36.8125 0 \r\nL 27.59375 0 \r\nQ 17.1875 0 13.234375 3.875 \r\nQ 9.28125 7.765625 9.28125 18.015625 \r\nL 9.28125 47.703125 \r\nL 2.6875 47.703125 \r\nL 2.6875 54.6875 \r\nL 9.28125 54.6875 \r\nL 9.28125 70.21875 \r\nz\r\n\" id=\"DejaVuSans-116\"/>\r\n      </defs>\r\n      <use xlink:href=\"#DejaVuSans-67\"/>\r\n      <use x=\"69.824219\" xlink:href=\"#DejaVuSans-111\"/>\r\n      <use x=\"131.005859\" xlink:href=\"#DejaVuSans-117\"/>\r\n      <use x=\"194.384766\" xlink:href=\"#DejaVuSans-110\"/>\r\n      <use x=\"257.763672\" xlink:href=\"#DejaVuSans-116\"/>\r\n     </g>\r\n    </g>\r\n   </g>\r\n   <g id=\"patch_18\">\r\n    <path d=\"M 59.690625 328.6 \r\nL 59.690625 7.2 \r\n\" style=\"fill:none;stroke:#000000;stroke-linecap:square;stroke-linejoin:miter;stroke-width:0.8;\"/>\r\n   </g>\r\n   <g id=\"patch_19\">\r\n    <path d=\"M 59.690625 328.6 \r\nL 345.590625 328.6 \r\n\" style=\"fill:none;stroke:#000000;stroke-linecap:square;stroke-linejoin:miter;stroke-width:0.8;\"/>\r\n   </g>\r\n  </g>\r\n </g>\r\n <defs>\r\n  <clipPath id=\"p894afd1cfa\">\r\n   <rect height=\"321.4\" width=\"285.9\" x=\"59.690625\" y=\"7.2\"/>\r\n  </clipPath>\r\n </defs>\r\n</svg>\r\n",
      "image/png": "[encoded data removed]"
     },
     "metadata": {
      "needs_background": "light"
     }
    }
   ],
   "source": [
    "sns.displot(prediction1)"
   ]
  },
  {
   "cell_type": "code",
   "execution_count": 149,
   "metadata": {},
   "outputs": [],
   "source": [
    "hvpredictions=[]\n",
    "for i in prediction1:\n",
    "    if i<0:\n",
    "        hvpredictions.append(0)\n",
    "    else:\n",
    "        hvpredictions.append(i)"
   ]
  },
  {
   "cell_type": "code",
   "execution_count": 150,
   "metadata": {},
   "outputs": [],
   "source": [
    "hvpredictions=np.array(hvpredictions)"
   ]
  },
  {
   "cell_type": "code",
   "execution_count": 23,
   "metadata": {},
   "outputs": [
    {
     "output_type": "execute_result",
     "data": {
      "text/plain": [
       "0.6032795995874688"
      ]
     },
     "metadata": {},
     "execution_count": 23
    }
   ],
   "source": [
    "auc_lr1h =  roc_auc_score(y_val,prediction1)\n",
    "auc_lr1h"
   ]
  },
  {
   "cell_type": "code",
   "execution_count": 60,
   "metadata": {},
   "outputs": [],
   "source": [
    "from sklearn.metrics import confusion_matrix\n",
    "import itertools\n",
    "\n",
    "def plot_confusion_matrix(cm, classes,\n",
    "                          normalize=False,\n",
    "                          title='Confusion matrix',\n",
    "                          cmap=plt.cm.Blues):\n",
    "    #Add Normalization Option\n",
    "    if normalize:\n",
    "        cm = cm.astype('float') / cm.sum(axis=1)[:, np.newaxis]\n",
    "        print(\"Normalized confusion matrix\")\n",
    "    else:\n",
    "        print('Confusion matrix, without normalization')\n",
    "\n",
    "    print(cm)\n",
    "    plt.figure(figsize=(6,6))\n",
    "    plt.imshow(cm, interpolation='nearest', cmap=cmap)\n",
    "    plt.title(title)\n",
    "    plt.colorbar()\n",
    "    tick_marks = np.arange(len(classes))\n",
    "    plt.xticks(tick_marks, classes, rotation=45)\n",
    "    plt.yticks(tick_marks, classes)\n",
    "\n",
    "    fmt = '.2f' if normalize else 'd'\n",
    "    thresh = cm.max() / 2.\n",
    "    for i, j in itertools.product(range(cm.shape[0]), range(cm.shape[1])):\n",
    "        plt.text(j, i, format(cm[i, j], fmt),\n",
    "                 horizontalalignment=\"center\",\n",
    "                 color=\"white\" if cm[i, j] > thresh else \"black\")\n",
    "\n",
    "    plt.tight_layout()\n",
    "    plt.ylabel('True label')\n",
    "    plt.xlabel('Predicted label')"
   ]
  },
  {
   "cell_type": "code",
   "execution_count": 62,
   "metadata": {},
   "outputs": [
    {
     "output_type": "stream",
     "name": "stdout",
     "text": [
      "Confusion matrix, without normalization\n[[9491 2934]\n [ 132  164]]\n"
     ]
    },
    {
     "output_type": "display_data",
     "data": {
      "text/plain": "<Figure size 432x432 with 2 Axes>",
      "image/svg+xml": "<?xml version=\"1.0\" encoding=\"utf-8\" standalone=\"no\"?>\r\n<!DOCTYPE svg PUBLIC \"-//W3C//DTD SVG 1.1//EN\"\r\n  \"http://www.w3.org/Graphics/SVG/1.1/DTD/svg11.dtd\">\r\n<!-- Created with matplotlib (https://matplotlib.org/) -->\r\n<svg height=\"424.8pt\" version=\"1.1\" viewBox=\"0 0 431.881875 424.8\" width=\"431.881875pt\" xmlns=\"http://www.w3.org/2000/svg\" xmlns:xlink=\"http://www.w3.org/1999/xlink\">\r\n <metadata>\r\n  <rdf:RDF xmlns:cc=\"http://creativecommons.org/ns#\" xmlns:dc=\"http://purl.org/dc/elements/1.1/\" xmlns:rdf=\"http://www.w3.org/1999/02/22-rdf-syntax-ns#\">\r\n   <cc:Work>\r\n    <dc:type rdf:resource=\"http://purl.org/dc/dcmitype/StillImage\"/>\r\n    <dc:date>2021-02-28T14:50:42.647886</dc:date>\r\n    <dc:format>image/svg+xml</dc:format>\r\n    <dc:creator>\r\n     <cc:Agent>\r\n      <dc:title>Matplotlib v3.3.4, https://matplotlib.org/</dc:title>\r\n     </cc:Agent>\r\n    </dc:creator>\r\n   </cc:Work>\r\n  </rdf:RDF>\r\n </metadata>\r\n <defs>\r\n  <style type=\"text/css\">*{stroke-linecap:butt;stroke-linejoin:round;}</style>\r\n </defs>\r\n <g id=\"figure_1\">\r\n  <g id=\"patch_1\">\r\n   <path d=\"M 0 424.8 \r\nL 431.881875 424.8 \r\nL 431.881875 0 \r\nL 0 0 \r\nz\r\n\" style=\"fill:none;\"/>\r\n  </g>\r\n  <g id=\"axes_1\">\r\n   <g id=\"patch_2\">\r\n    <path d=\"M 34.240625 371.21 \r\nL 351.860625 371.21 \r\nL 351.860625 53.59 \r\nL 34.240625 53.59 \r\nz\r\n\" style=\"fill:#ffffff;\"/>\r\n   </g>\r\n   <g clip-path=\"url(#p152eff31a3)\">\r\n    <image height=\"318\" id=\"imageae22bf137d\" transform=\"scale(1 -1)translate(0 -318)\" width=\"318\" x=\"34.240625\" xlink:href=\"data:image/png;base64,\r\niVBORw0KGgoAAAANSUhEUgAAAT4AAAE+CAYAAAAUOHwwAAAEPUlEQVR4nO3WMRGEQAAEwecj5OALD6ghxh4BweGCC6ZbwUZTu9zPGD+AkP/sAQBfEz4gR/iAHOEDcoQPyBE+IEf4gBzhA3KED8gRPiBH+IAc4QNyhA/IET4gR/iAHOEDcoQPyBE+IEf4gBzhA3KED8gRPiBH+IAc4QNyhA/IET4gR/iAHOEDcoQPyBE+IEf4gBzhA3KED8gRPiBH+IAc4QNyhA/IET4gR/iAHOEDcoQPyBE+IEf4gBzhA3KED8gRPiBH+IAc4QNyhA/IET4gR/iAHOEDcoQPyBE+IEf4gBzhA3KED8gRPiBH+IAc4QNyhA/IET4gR/iAHOEDcoQPyBE+IEf4gBzhA3KED8gRPiBH+IAc4QNyhA/IET4gR/iAHOEDcoQPyBE+IEf4gBzhA3KED8gRPiBH+IAc4QNyhA/IET4gR/iAHOEDcoQPyBE+IEf4gBzhA3KED8gRPiBH+IAc4QNyhA/IET4gR/iAHOEDcoQPyBE+IEf4gBzhA3KED8gRPiBH+IAc4QNyhA/IET4gR/iAHOEDcoQPyBE+IEf4gBzhA3KED8gRPiBH+IAc4QNyhA/IET4gR/iAHOEDcoQPyBE+IEf4gBzhA3KED8gRPiBH+IAc4QNyhA/IET4gR/iAHOEDcoQPyBE+IEf4gBzhA3KED8gRPiBH+IAc4QNyhA/IET4gR/iAHOEDcoQPyBE+IEf4gBzhA3KED8gRPiBH+IAc4QNyhA/IET4gZ1m3fcweQdN1HrMnEOXxATnCB+QIH5AjfECO8AE5wgfkCB+QI3xAjvABOcIH5AgfkCN8QI7wATnCB+QIH5AjfECO8AE5wgfkCB+QI3xAjvABOcIH5AgfkCN8QI7wATnCB+QIH5AjfECO8AE5wgfkCB+QI3xAjvABOcIH5AgfkCN8QI7wATnCB+QIH5AjfECO8AE5wgfkCB+QI3xAjvABOcIH5AgfkCN8QI7wATnCB+QIH5AjfECO8AE5wgfkCB+QI3xAjvABOcIH5AgfkCN8QI7wATnCB+QIH5AjfECO8AE5wgfkCB+QI3xAjvABOcIH5AgfkCN8QI7wATnCB+QIH5AjfECO8AE5wgfkCB+QI3xAjvABOcIH5AgfkCN8QI7wATnCB+QIH5AjfECO8AE5wgfkCB+QI3xAjvABOcIH5AgfkCN8QI7wATnCB+QIH5AjfECO8AE5wgfkCB+QI3xAjvABOcIH5AgfkCN8QI7wATnCB+QIH5AjfECO8AE5wgfkCB+QI3xAjvABOcIH5AgfkCN8QI7wATnCB+QIH5AjfECO8AE5wgfkCB+QI3xAjvABOcIH5AgfkCN8QI7wATnCB+QIH5AjfECO8AE5wgfkCB+QI3xAjvABOcIH5AgfkCN8QI7wATnCB+QIH5AjfECO8AE5wgfkCB+QI3xAjvABOcIH5AgfkCN8QI7wATnCB+S8t9sJ3VxraGUAAAAASUVORK5CYII=\" y=\"-53.21\"/>\r\n   </g>\r\n   <g id=\"matplotlib.axis_1\">\r\n    <g id=\"xtick_1\">\r\n     <g id=\"line2d_1\">\r\n      <defs>\r\n       <path d=\"M 0 0 \r\nL 0 3.5 \r\n\" id=\"m32c85f53d6\" style=\"stroke:#000000;stroke-width:0.8;\"/>\r\n      </defs>\r\n      <g>\r\n       <use style=\"stroke:#000000;stroke-width:0.8;\" x=\"113.645625\" xlink:href=\"#m32c85f53d6\" y=\"371.21\"/>\r\n      </g>\r\n     </g>\r\n     <g id=\"text_1\">\r\n      <!-- 0 -->\r\n      <g transform=\"translate(113.347314 388.081874)rotate(-45)scale(0.1 -0.1)\">\r\n       <defs>\r\n        <path d=\"M 31.78125 66.40625 \r\nQ 24.171875 66.40625 20.328125 58.90625 \r\nQ 16.5 51.421875 16.5 36.375 \r\nQ 16.5 21.390625 20.328125 13.890625 \r\nQ 24.171875 6.390625 31.78125 6.390625 \r\nQ 39.453125 6.390625 43.28125 13.890625 \r\nQ 47.125 21.390625 47.125 36.375 \r\nQ 47.125 51.421875 43.28125 58.90625 \r\nQ 39.453125 66.40625 31.78125 66.40625 \r\nz\r\nM 31.78125 74.21875 \r\nQ 44.046875 74.21875 50.515625 64.515625 \r\nQ 56.984375 54.828125 56.984375 36.375 \r\nQ 56.984375 17.96875 50.515625 8.265625 \r\nQ 44.046875 -1.421875 31.78125 -1.421875 \r\nQ 19.53125 -1.421875 13.0625 8.265625 \r\nQ 6.59375 17.96875 6.59375 36.375 \r\nQ 6.59375 54.828125 13.0625 64.515625 \r\nQ 19.53125 74.21875 31.78125 74.21875 \r\nz\r\n\" id=\"DejaVuSans-48\"/>\r\n       </defs>\r\n       <use xlink:href=\"#DejaVuSans-48\"/>\r\n      </g>\r\n     </g>\r\n    </g>\r\n    <g id=\"xtick_2\">\r\n     <g id=\"line2d_2\">\r\n      <g>\r\n       <use style=\"stroke:#000000;stroke-width:0.8;\" x=\"272.455625\" xlink:href=\"#m32c85f53d6\" y=\"371.21\"/>\r\n      </g>\r\n     </g>\r\n     <g id=\"text_2\">\r\n      <!-- 1 -->\r\n      <g transform=\"translate(272.157314 388.081874)rotate(-45)scale(0.1 -0.1)\">\r\n       <defs>\r\n        <path d=\"M 12.40625 8.296875 \r\nL 28.515625 8.296875 \r\nL 28.515625 63.921875 \r\nL 10.984375 60.40625 \r\nL 10.984375 69.390625 \r\nL 28.421875 72.90625 \r\nL 38.28125 72.90625 \r\nL 38.28125 8.296875 \r\nL 54.390625 8.296875 \r\nL 54.390625 0 \r\nL 12.40625 0 \r\nz\r\n\" id=\"DejaVuSans-49\"/>\r\n       </defs>\r\n       <use xlink:href=\"#DejaVuSans-49\"/>\r\n      </g>\r\n     </g>\r\n    </g>\r\n    <g id=\"text_3\">\r\n     <!-- Predicted label -->\r\n     <g transform=\"translate(155.898281 401.150872)scale(0.1 -0.1)\">\r\n      <defs>\r\n       <path d=\"M 19.671875 64.796875 \r\nL 19.671875 37.40625 \r\nL 32.078125 37.40625 \r\nQ 38.96875 37.40625 42.71875 40.96875 \r\nQ 46.484375 44.53125 46.484375 51.125 \r\nQ 46.484375 57.671875 42.71875 61.234375 \r\nQ 38.96875 64.796875 32.078125 64.796875 \r\nz\r\nM 9.8125 72.90625 \r\nL 32.078125 72.90625 \r\nQ 44.34375 72.90625 50.609375 67.359375 \r\nQ 56.890625 61.8125 56.890625 51.125 \r\nQ 56.890625 40.328125 50.609375 34.8125 \r\nQ 44.34375 29.296875 32.078125 29.296875 \r\nL 19.671875 29.296875 \r\nL 19.671875 0 \r\nL 9.8125 0 \r\nz\r\n\" id=\"DejaVuSans-80\"/>\r\n       <path d=\"M 41.109375 46.296875 \r\nQ 39.59375 47.171875 37.8125 47.578125 \r\nQ 36.03125 48 33.890625 48 \r\nQ 26.265625 48 22.1875 43.046875 \r\nQ 18.109375 38.09375 18.109375 28.8125 \r\nL 18.109375 0 \r\nL 9.078125 0 \r\nL 9.078125 54.6875 \r\nL 18.109375 54.6875 \r\nL 18.109375 46.1875 \r\nQ 20.953125 51.171875 25.484375 53.578125 \r\nQ 30.03125 56 36.53125 56 \r\nQ 37.453125 56 38.578125 55.875 \r\nQ 39.703125 55.765625 41.0625 55.515625 \r\nz\r\n\" id=\"DejaVuSans-114\"/>\r\n       <path d=\"M 56.203125 29.59375 \r\nL 56.203125 25.203125 \r\nL 14.890625 25.203125 \r\nQ 15.484375 15.921875 20.484375 11.0625 \r\nQ 25.484375 6.203125 34.421875 6.203125 \r\nQ 39.59375 6.203125 44.453125 7.46875 \r\nQ 49.3125 8.734375 54.109375 11.28125 \r\nL 54.109375 2.78125 \r\nQ 49.265625 0.734375 44.1875 -0.34375 \r\nQ 39.109375 -1.421875 33.890625 -1.421875 \r\nQ 20.796875 -1.421875 13.15625 6.1875 \r\nQ 5.515625 13.8125 5.515625 26.8125 \r\nQ 5.515625 40.234375 12.765625 48.109375 \r\nQ 20.015625 56 32.328125 56 \r\nQ 43.359375 56 49.78125 48.890625 \r\nQ 56.203125 41.796875 56.203125 29.59375 \r\nz\r\nM 47.21875 32.234375 \r\nQ 47.125 39.59375 43.09375 43.984375 \r\nQ 39.0625 48.390625 32.421875 48.390625 \r\nQ 24.90625 48.390625 20.390625 44.140625 \r\nQ 15.875 39.890625 15.1875 32.171875 \r\nz\r\n\" id=\"DejaVuSans-101\"/>\r\n       <path d=\"M 45.40625 46.390625 \r\nL 45.40625 75.984375 \r\nL 54.390625 75.984375 \r\nL 54.390625 0 \r\nL 45.40625 0 \r\nL 45.40625 8.203125 \r\nQ 42.578125 3.328125 38.25 0.953125 \r\nQ 33.9375 -1.421875 27.875 -1.421875 \r\nQ 17.96875 -1.421875 11.734375 6.484375 \r\nQ 5.515625 14.40625 5.515625 27.296875 \r\nQ 5.515625 40.1875 11.734375 48.09375 \r\nQ 17.96875 56 27.875 56 \r\nQ 33.9375 56 38.25 53.625 \r\nQ 42.578125 51.265625 45.40625 46.390625 \r\nz\r\nM 14.796875 27.296875 \r\nQ 14.796875 17.390625 18.875 11.75 \r\nQ 22.953125 6.109375 30.078125 6.109375 \r\nQ 37.203125 6.109375 41.296875 11.75 \r\nQ 45.40625 17.390625 45.40625 27.296875 \r\nQ 45.40625 37.203125 41.296875 42.84375 \r\nQ 37.203125 48.484375 30.078125 48.484375 \r\nQ 22.953125 48.484375 18.875 42.84375 \r\nQ 14.796875 37.203125 14.796875 27.296875 \r\nz\r\n\" id=\"DejaVuSans-100\"/>\r\n       <path d=\"M 9.421875 54.6875 \r\nL 18.40625 54.6875 \r\nL 18.40625 0 \r\nL 9.421875 0 \r\nz\r\nM 9.421875 75.984375 \r\nL 18.40625 75.984375 \r\nL 18.40625 64.59375 \r\nL 9.421875 64.59375 \r\nz\r\n\" id=\"DejaVuSans-105\"/>\r\n       <path d=\"M 48.78125 52.59375 \r\nL 48.78125 44.1875 \r\nQ 44.96875 46.296875 41.140625 47.34375 \r\nQ 37.3125 48.390625 33.40625 48.390625 \r\nQ 24.65625 48.390625 19.8125 42.84375 \r\nQ 14.984375 37.3125 14.984375 27.296875 \r\nQ 14.984375 17.28125 19.8125 11.734375 \r\nQ 24.65625 6.203125 33.40625 6.203125 \r\nQ 37.3125 6.203125 41.140625 7.25 \r\nQ 44.96875 8.296875 48.78125 10.40625 \r\nL 48.78125 2.09375 \r\nQ 45.015625 0.34375 40.984375 -0.53125 \r\nQ 36.96875 -1.421875 32.421875 -1.421875 \r\nQ 20.0625 -1.421875 12.78125 6.34375 \r\nQ 5.515625 14.109375 5.515625 27.296875 \r\nQ 5.515625 40.671875 12.859375 48.328125 \r\nQ 20.21875 56 33.015625 56 \r\nQ 37.15625 56 41.109375 55.140625 \r\nQ 45.0625 54.296875 48.78125 52.59375 \r\nz\r\n\" id=\"DejaVuSans-99\"/>\r\n       <path d=\"M 18.3125 70.21875 \r\nL 18.3125 54.6875 \r\nL 36.8125 54.6875 \r\nL 36.8125 47.703125 \r\nL 18.3125 47.703125 \r\nL 18.3125 18.015625 \r\nQ 18.3125 11.328125 20.140625 9.421875 \r\nQ 21.96875 7.515625 27.59375 7.515625 \r\nL 36.8125 7.515625 \r\nL 36.8125 0 \r\nL 27.59375 0 \r\nQ 17.1875 0 13.234375 3.875 \r\nQ 9.28125 7.765625 9.28125 18.015625 \r\nL 9.28125 47.703125 \r\nL 2.6875 47.703125 \r\nL 2.6875 54.6875 \r\nL 9.28125 54.6875 \r\nL 9.28125 70.21875 \r\nz\r\n\" id=\"DejaVuSans-116\"/>\r\n       <path id=\"DejaVuSans-32\"/>\r\n       <path d=\"M 9.421875 75.984375 \r\nL 18.40625 75.984375 \r\nL 18.40625 0 \r\nL 9.421875 0 \r\nz\r\n\" id=\"DejaVuSans-108\"/>\r\n       <path d=\"M 34.28125 27.484375 \r\nQ 23.390625 27.484375 19.1875 25 \r\nQ 14.984375 22.515625 14.984375 16.5 \r\nQ 14.984375 11.71875 18.140625 8.90625 \r\nQ 21.296875 6.109375 26.703125 6.109375 \r\nQ 34.1875 6.109375 38.703125 11.40625 \r\nQ 43.21875 16.703125 43.21875 25.484375 \r\nL 43.21875 27.484375 \r\nz\r\nM 52.203125 31.203125 \r\nL 52.203125 0 \r\nL 43.21875 0 \r\nL 43.21875 8.296875 \r\nQ 40.140625 3.328125 35.546875 0.953125 \r\nQ 30.953125 -1.421875 24.3125 -1.421875 \r\nQ 15.921875 -1.421875 10.953125 3.296875 \r\nQ 6 8.015625 6 15.921875 \r\nQ 6 25.140625 12.171875 29.828125 \r\nQ 18.359375 34.515625 30.609375 34.515625 \r\nL 43.21875 34.515625 \r\nL 43.21875 35.40625 \r\nQ 43.21875 41.609375 39.140625 45 \r\nQ 35.0625 48.390625 27.6875 48.390625 \r\nQ 23 48.390625 18.546875 47.265625 \r\nQ 14.109375 46.140625 10.015625 43.890625 \r\nL 10.015625 52.203125 \r\nQ 14.9375 54.109375 19.578125 55.046875 \r\nQ 24.21875 56 28.609375 56 \r\nQ 40.484375 56 46.34375 49.84375 \r\nQ 52.203125 43.703125 52.203125 31.203125 \r\nz\r\n\" id=\"DejaVuSans-97\"/>\r\n       <path d=\"M 48.6875 27.296875 \r\nQ 48.6875 37.203125 44.609375 42.84375 \r\nQ 40.53125 48.484375 33.40625 48.484375 \r\nQ 26.265625 48.484375 22.1875 42.84375 \r\nQ 18.109375 37.203125 18.109375 27.296875 \r\nQ 18.109375 17.390625 22.1875 11.75 \r\nQ 26.265625 6.109375 33.40625 6.109375 \r\nQ 40.53125 6.109375 44.609375 11.75 \r\nQ 48.6875 17.390625 48.6875 27.296875 \r\nz\r\nM 18.109375 46.390625 \r\nQ 20.953125 51.265625 25.265625 53.625 \r\nQ 29.59375 56 35.59375 56 \r\nQ 45.5625 56 51.78125 48.09375 \r\nQ 58.015625 40.1875 58.015625 27.296875 \r\nQ 58.015625 14.40625 51.78125 6.484375 \r\nQ 45.5625 -1.421875 35.59375 -1.421875 \r\nQ 29.59375 -1.421875 25.265625 0.953125 \r\nQ 20.953125 3.328125 18.109375 8.203125 \r\nL 18.109375 0 \r\nL 9.078125 0 \r\nL 9.078125 75.984375 \r\nL 18.109375 75.984375 \r\nz\r\n\" id=\"DejaVuSans-98\"/>\r\n      </defs>\r\n      <use xlink:href=\"#DejaVuSans-80\"/>\r\n      <use x=\"58.552734\" xlink:href=\"#DejaVuSans-114\"/>\r\n      <use x=\"97.416016\" xlink:href=\"#DejaVuSans-101\"/>\r\n      <use x=\"158.939453\" xlink:href=\"#DejaVuSans-100\"/>\r\n      <use x=\"222.416016\" xlink:href=\"#DejaVuSans-105\"/>\r\n      <use x=\"250.199219\" xlink:href=\"#DejaVuSans-99\"/>\r\n      <use x=\"305.179688\" xlink:href=\"#DejaVuSans-116\"/>\r\n      <use x=\"344.388672\" xlink:href=\"#DejaVuSans-101\"/>\r\n      <use x=\"405.912109\" xlink:href=\"#DejaVuSans-100\"/>\r\n      <use x=\"469.388672\" xlink:href=\"#DejaVuSans-32\"/>\r\n      <use x=\"501.175781\" xlink:href=\"#DejaVuSans-108\"/>\r\n      <use x=\"528.958984\" xlink:href=\"#DejaVuSans-97\"/>\r\n      <use x=\"590.238281\" xlink:href=\"#DejaVuSans-98\"/>\r\n      <use x=\"653.714844\" xlink:href=\"#DejaVuSans-101\"/>\r\n      <use x=\"715.238281\" xlink:href=\"#DejaVuSans-108\"/>\r\n     </g>\r\n    </g>\r\n   </g>\r\n   <g id=\"matplotlib.axis_2\">\r\n    <g id=\"ytick_1\">\r\n     <g id=\"line2d_3\">\r\n      <defs>\r\n       <path d=\"M 0 0 \r\nL -3.5 0 \r\n\" id=\"ma214cd1d0f\" style=\"stroke:#000000;stroke-width:0.8;\"/>\r\n      </defs>\r\n      <g>\r\n       <use style=\"stroke:#000000;stroke-width:0.8;\" x=\"34.240625\" xlink:href=\"#ma214cd1d0f\" y=\"132.995\"/>\r\n      </g>\r\n     </g>\r\n     <g id=\"text_4\">\r\n      <!-- 0 -->\r\n      <g transform=\"translate(20.878125 136.794219)scale(0.1 -0.1)\">\r\n       <use xlink:href=\"#DejaVuSans-48\"/>\r\n      </g>\r\n     </g>\r\n    </g>\r\n    <g id=\"ytick_2\">\r\n     <g id=\"line2d_4\">\r\n      <g>\r\n       <use style=\"stroke:#000000;stroke-width:0.8;\" x=\"34.240625\" xlink:href=\"#ma214cd1d0f\" y=\"291.805\"/>\r\n      </g>\r\n     </g>\r\n     <g id=\"text_5\">\r\n      <!-- 1 -->\r\n      <g transform=\"translate(20.878125 295.604219)scale(0.1 -0.1)\">\r\n       <use xlink:href=\"#DejaVuSans-49\"/>\r\n      </g>\r\n     </g>\r\n    </g>\r\n    <g id=\"text_6\">\r\n     <!-- True label -->\r\n     <g transform=\"translate(14.798438 236.699219)rotate(-90)scale(0.1 -0.1)\">\r\n      <defs>\r\n       <path d=\"M -0.296875 72.90625 \r\nL 61.375 72.90625 \r\nL 61.375 64.59375 \r\nL 35.5 64.59375 \r\nL 35.5 0 \r\nL 25.59375 0 \r\nL 25.59375 64.59375 \r\nL -0.296875 64.59375 \r\nz\r\n\" id=\"DejaVuSans-84\"/>\r\n       <path d=\"M 8.5 21.578125 \r\nL 8.5 54.6875 \r\nL 17.484375 54.6875 \r\nL 17.484375 21.921875 \r\nQ 17.484375 14.15625 20.5 10.265625 \r\nQ 23.53125 6.390625 29.59375 6.390625 \r\nQ 36.859375 6.390625 41.078125 11.03125 \r\nQ 45.3125 15.671875 45.3125 23.6875 \r\nL 45.3125 54.6875 \r\nL 54.296875 54.6875 \r\nL 54.296875 0 \r\nL 45.3125 0 \r\nL 45.3125 8.40625 \r\nQ 42.046875 3.421875 37.71875 1 \r\nQ 33.40625 -1.421875 27.6875 -1.421875 \r\nQ 18.265625 -1.421875 13.375 4.4375 \r\nQ 8.5 10.296875 8.5 21.578125 \r\nz\r\nM 31.109375 56 \r\nz\r\n\" id=\"DejaVuSans-117\"/>\r\n      </defs>\r\n      <use xlink:href=\"#DejaVuSans-84\"/>\r\n      <use x=\"46.333984\" xlink:href=\"#DejaVuSans-114\"/>\r\n      <use x=\"87.447266\" xlink:href=\"#DejaVuSans-117\"/>\r\n      <use x=\"150.826172\" xlink:href=\"#DejaVuSans-101\"/>\r\n      <use x=\"212.349609\" xlink:href=\"#DejaVuSans-32\"/>\r\n      <use x=\"244.136719\" xlink:href=\"#DejaVuSans-108\"/>\r\n      <use x=\"271.919922\" xlink:href=\"#DejaVuSans-97\"/>\r\n      <use x=\"333.199219\" xlink:href=\"#DejaVuSans-98\"/>\r\n      <use x=\"396.675781\" xlink:href=\"#DejaVuSans-101\"/>\r\n      <use x=\"458.199219\" xlink:href=\"#DejaVuSans-108\"/>\r\n     </g>\r\n    </g>\r\n   </g>\r\n   <g id=\"patch_3\">\r\n    <path d=\"M 34.240625 371.21 \r\nL 34.240625 53.59 \r\n\" style=\"fill:none;stroke:#000000;stroke-linecap:square;stroke-linejoin:miter;stroke-width:0.8;\"/>\r\n   </g>\r\n   <g id=\"patch_4\">\r\n    <path d=\"M 351.860625 371.21 \r\nL 351.860625 53.59 \r\n\" style=\"fill:none;stroke:#000000;stroke-linecap:square;stroke-linejoin:miter;stroke-width:0.8;\"/>\r\n   </g>\r\n   <g id=\"patch_5\">\r\n    <path d=\"M 34.240625 371.21 \r\nL 351.860625 371.21 \r\n\" style=\"fill:none;stroke:#000000;stroke-linecap:square;stroke-linejoin:miter;stroke-width:0.8;\"/>\r\n   </g>\r\n   <g id=\"patch_6\">\r\n    <path d=\"M 34.240625 53.59 \r\nL 351.860625 53.59 \r\n\" style=\"fill:none;stroke:#000000;stroke-linecap:square;stroke-linejoin:miter;stroke-width:0.8;\"/>\r\n   </g>\r\n   <g id=\"text_7\">\r\n    <!-- 9491 -->\r\n    <g style=\"fill:#ffffff;\" transform=\"translate(100.920625 132.995)scale(0.1 -0.1)\">\r\n     <defs>\r\n      <path d=\"M 10.984375 1.515625 \r\nL 10.984375 10.5 \r\nQ 14.703125 8.734375 18.5 7.8125 \r\nQ 22.3125 6.890625 25.984375 6.890625 \r\nQ 35.75 6.890625 40.890625 13.453125 \r\nQ 46.046875 20.015625 46.78125 33.40625 \r\nQ 43.953125 29.203125 39.59375 26.953125 \r\nQ 35.25 24.703125 29.984375 24.703125 \r\nQ 19.046875 24.703125 12.671875 31.3125 \r\nQ 6.296875 37.9375 6.296875 49.421875 \r\nQ 6.296875 60.640625 12.9375 67.421875 \r\nQ 19.578125 74.21875 30.609375 74.21875 \r\nQ 43.265625 74.21875 49.921875 64.515625 \r\nQ 56.59375 54.828125 56.59375 36.375 \r\nQ 56.59375 19.140625 48.40625 8.859375 \r\nQ 40.234375 -1.421875 26.421875 -1.421875 \r\nQ 22.703125 -1.421875 18.890625 -0.6875 \r\nQ 15.09375 0.046875 10.984375 1.515625 \r\nz\r\nM 30.609375 32.421875 \r\nQ 37.25 32.421875 41.125 36.953125 \r\nQ 45.015625 41.5 45.015625 49.421875 \r\nQ 45.015625 57.28125 41.125 61.84375 \r\nQ 37.25 66.40625 30.609375 66.40625 \r\nQ 23.96875 66.40625 20.09375 61.84375 \r\nQ 16.21875 57.28125 16.21875 49.421875 \r\nQ 16.21875 41.5 20.09375 36.953125 \r\nQ 23.96875 32.421875 30.609375 32.421875 \r\nz\r\n\" id=\"DejaVuSans-57\"/>\r\n      <path d=\"M 37.796875 64.3125 \r\nL 12.890625 25.390625 \r\nL 37.796875 25.390625 \r\nz\r\nM 35.203125 72.90625 \r\nL 47.609375 72.90625 \r\nL 47.609375 25.390625 \r\nL 58.015625 25.390625 \r\nL 58.015625 17.1875 \r\nL 47.609375 17.1875 \r\nL 47.609375 0 \r\nL 37.796875 0 \r\nL 37.796875 17.1875 \r\nL 4.890625 17.1875 \r\nL 4.890625 26.703125 \r\nz\r\n\" id=\"DejaVuSans-52\"/>\r\n     </defs>\r\n     <use xlink:href=\"#DejaVuSans-57\"/>\r\n     <use x=\"63.623047\" xlink:href=\"#DejaVuSans-52\"/>\r\n     <use x=\"127.246094\" xlink:href=\"#DejaVuSans-57\"/>\r\n     <use x=\"190.869141\" xlink:href=\"#DejaVuSans-49\"/>\r\n    </g>\r\n   </g>\r\n   <g id=\"text_8\">\r\n    <!-- 2934 -->\r\n    <g transform=\"translate(259.730625 132.995)scale(0.1 -0.1)\">\r\n     <defs>\r\n      <path d=\"M 19.1875 8.296875 \r\nL 53.609375 8.296875 \r\nL 53.609375 0 \r\nL 7.328125 0 \r\nL 7.328125 8.296875 \r\nQ 12.9375 14.109375 22.625 23.890625 \r\nQ 32.328125 33.6875 34.8125 36.53125 \r\nQ 39.546875 41.84375 41.421875 45.53125 \r\nQ 43.3125 49.21875 43.3125 52.78125 \r\nQ 43.3125 58.59375 39.234375 62.25 \r\nQ 35.15625 65.921875 28.609375 65.921875 \r\nQ 23.96875 65.921875 18.8125 64.3125 \r\nQ 13.671875 62.703125 7.8125 59.421875 \r\nL 7.8125 69.390625 \r\nQ 13.765625 71.78125 18.9375 73 \r\nQ 24.125 74.21875 28.421875 74.21875 \r\nQ 39.75 74.21875 46.484375 68.546875 \r\nQ 53.21875 62.890625 53.21875 53.421875 \r\nQ 53.21875 48.921875 51.53125 44.890625 \r\nQ 49.859375 40.875 45.40625 35.40625 \r\nQ 44.1875 33.984375 37.640625 27.21875 \r\nQ 31.109375 20.453125 19.1875 8.296875 \r\nz\r\n\" id=\"DejaVuSans-50\"/>\r\n      <path d=\"M 40.578125 39.3125 \r\nQ 47.65625 37.796875 51.625 33 \r\nQ 55.609375 28.21875 55.609375 21.1875 \r\nQ 55.609375 10.40625 48.1875 4.484375 \r\nQ 40.765625 -1.421875 27.09375 -1.421875 \r\nQ 22.515625 -1.421875 17.65625 -0.515625 \r\nQ 12.796875 0.390625 7.625 2.203125 \r\nL 7.625 11.71875 \r\nQ 11.71875 9.328125 16.59375 8.109375 \r\nQ 21.484375 6.890625 26.8125 6.890625 \r\nQ 36.078125 6.890625 40.9375 10.546875 \r\nQ 45.796875 14.203125 45.796875 21.1875 \r\nQ 45.796875 27.640625 41.28125 31.265625 \r\nQ 36.765625 34.90625 28.71875 34.90625 \r\nL 20.21875 34.90625 \r\nL 20.21875 43.015625 \r\nL 29.109375 43.015625 \r\nQ 36.375 43.015625 40.234375 45.921875 \r\nQ 44.09375 48.828125 44.09375 54.296875 \r\nQ 44.09375 59.90625 40.109375 62.90625 \r\nQ 36.140625 65.921875 28.71875 65.921875 \r\nQ 24.65625 65.921875 20.015625 65.03125 \r\nQ 15.375 64.15625 9.8125 62.3125 \r\nL 9.8125 71.09375 \r\nQ 15.4375 72.65625 20.34375 73.4375 \r\nQ 25.25 74.21875 29.59375 74.21875 \r\nQ 40.828125 74.21875 47.359375 69.109375 \r\nQ 53.90625 64.015625 53.90625 55.328125 \r\nQ 53.90625 49.265625 50.4375 45.09375 \r\nQ 46.96875 40.921875 40.578125 39.3125 \r\nz\r\n\" id=\"DejaVuSans-51\"/>\r\n     </defs>\r\n     <use xlink:href=\"#DejaVuSans-50\"/>\r\n     <use x=\"63.623047\" xlink:href=\"#DejaVuSans-57\"/>\r\n     <use x=\"127.246094\" xlink:href=\"#DejaVuSans-51\"/>\r\n     <use x=\"190.869141\" xlink:href=\"#DejaVuSans-52\"/>\r\n    </g>\r\n   </g>\r\n   <g id=\"text_9\">\r\n    <!-- 132 -->\r\n    <g transform=\"translate(104.101875 291.805)scale(0.1 -0.1)\">\r\n     <use xlink:href=\"#DejaVuSans-49\"/>\r\n     <use x=\"63.623047\" xlink:href=\"#DejaVuSans-51\"/>\r\n     <use x=\"127.246094\" xlink:href=\"#DejaVuSans-50\"/>\r\n    </g>\r\n   </g>\r\n   <g id=\"text_10\">\r\n    <!-- 164 -->\r\n    <g transform=\"translate(262.911875 291.805)scale(0.1 -0.1)\">\r\n     <defs>\r\n      <path d=\"M 33.015625 40.375 \r\nQ 26.375 40.375 22.484375 35.828125 \r\nQ 18.609375 31.296875 18.609375 23.390625 \r\nQ 18.609375 15.53125 22.484375 10.953125 \r\nQ 26.375 6.390625 33.015625 6.390625 \r\nQ 39.65625 6.390625 43.53125 10.953125 \r\nQ 47.40625 15.53125 47.40625 23.390625 \r\nQ 47.40625 31.296875 43.53125 35.828125 \r\nQ 39.65625 40.375 33.015625 40.375 \r\nz\r\nM 52.59375 71.296875 \r\nL 52.59375 62.3125 \r\nQ 48.875 64.0625 45.09375 64.984375 \r\nQ 41.3125 65.921875 37.59375 65.921875 \r\nQ 27.828125 65.921875 22.671875 59.328125 \r\nQ 17.53125 52.734375 16.796875 39.40625 \r\nQ 19.671875 43.65625 24.015625 45.921875 \r\nQ 28.375 48.1875 33.59375 48.1875 \r\nQ 44.578125 48.1875 50.953125 41.515625 \r\nQ 57.328125 34.859375 57.328125 23.390625 \r\nQ 57.328125 12.15625 50.6875 5.359375 \r\nQ 44.046875 -1.421875 33.015625 -1.421875 \r\nQ 20.359375 -1.421875 13.671875 8.265625 \r\nQ 6.984375 17.96875 6.984375 36.375 \r\nQ 6.984375 53.65625 15.1875 63.9375 \r\nQ 23.390625 74.21875 37.203125 74.21875 \r\nQ 40.921875 74.21875 44.703125 73.484375 \r\nQ 48.484375 72.75 52.59375 71.296875 \r\nz\r\n\" id=\"DejaVuSans-54\"/>\r\n     </defs>\r\n     <use xlink:href=\"#DejaVuSans-49\"/>\r\n     <use x=\"63.623047\" xlink:href=\"#DejaVuSans-54\"/>\r\n     <use x=\"127.246094\" xlink:href=\"#DejaVuSans-52\"/>\r\n    </g>\r\n   </g>\r\n   <g id=\"text_11\">\r\n    <!-- Confusion matrix -->\r\n    <g transform=\"translate(141.74125 47.59)scale(0.12 -0.12)\">\r\n     <defs>\r\n      <path d=\"M 64.40625 67.28125 \r\nL 64.40625 56.890625 \r\nQ 59.421875 61.53125 53.78125 63.8125 \r\nQ 48.140625 66.109375 41.796875 66.109375 \r\nQ 29.296875 66.109375 22.65625 58.46875 \r\nQ 16.015625 50.828125 16.015625 36.375 \r\nQ 16.015625 21.96875 22.65625 14.328125 \r\nQ 29.296875 6.6875 41.796875 6.6875 \r\nQ 48.140625 6.6875 53.78125 8.984375 \r\nQ 59.421875 11.28125 64.40625 15.921875 \r\nL 64.40625 5.609375 \r\nQ 59.234375 2.09375 53.4375 0.328125 \r\nQ 47.65625 -1.421875 41.21875 -1.421875 \r\nQ 24.65625 -1.421875 15.125 8.703125 \r\nQ 5.609375 18.84375 5.609375 36.375 \r\nQ 5.609375 53.953125 15.125 64.078125 \r\nQ 24.65625 74.21875 41.21875 74.21875 \r\nQ 47.75 74.21875 53.53125 72.484375 \r\nQ 59.328125 70.75 64.40625 67.28125 \r\nz\r\n\" id=\"DejaVuSans-67\"/>\r\n      <path d=\"M 30.609375 48.390625 \r\nQ 23.390625 48.390625 19.1875 42.75 \r\nQ 14.984375 37.109375 14.984375 27.296875 \r\nQ 14.984375 17.484375 19.15625 11.84375 \r\nQ 23.34375 6.203125 30.609375 6.203125 \r\nQ 37.796875 6.203125 41.984375 11.859375 \r\nQ 46.1875 17.53125 46.1875 27.296875 \r\nQ 46.1875 37.015625 41.984375 42.703125 \r\nQ 37.796875 48.390625 30.609375 48.390625 \r\nz\r\nM 30.609375 56 \r\nQ 42.328125 56 49.015625 48.375 \r\nQ 55.71875 40.765625 55.71875 27.296875 \r\nQ 55.71875 13.875 49.015625 6.21875 \r\nQ 42.328125 -1.421875 30.609375 -1.421875 \r\nQ 18.84375 -1.421875 12.171875 6.21875 \r\nQ 5.515625 13.875 5.515625 27.296875 \r\nQ 5.515625 40.765625 12.171875 48.375 \r\nQ 18.84375 56 30.609375 56 \r\nz\r\n\" id=\"DejaVuSans-111\"/>\r\n      <path d=\"M 54.890625 33.015625 \r\nL 54.890625 0 \r\nL 45.90625 0 \r\nL 45.90625 32.71875 \r\nQ 45.90625 40.484375 42.875 44.328125 \r\nQ 39.84375 48.1875 33.796875 48.1875 \r\nQ 26.515625 48.1875 22.3125 43.546875 \r\nQ 18.109375 38.921875 18.109375 30.90625 \r\nL 18.109375 0 \r\nL 9.078125 0 \r\nL 9.078125 54.6875 \r\nL 18.109375 54.6875 \r\nL 18.109375 46.1875 \r\nQ 21.34375 51.125 25.703125 53.5625 \r\nQ 30.078125 56 35.796875 56 \r\nQ 45.21875 56 50.046875 50.171875 \r\nQ 54.890625 44.34375 54.890625 33.015625 \r\nz\r\n\" id=\"DejaVuSans-110\"/>\r\n      <path d=\"M 37.109375 75.984375 \r\nL 37.109375 68.5 \r\nL 28.515625 68.5 \r\nQ 23.6875 68.5 21.796875 66.546875 \r\nQ 19.921875 64.59375 19.921875 59.515625 \r\nL 19.921875 54.6875 \r\nL 34.71875 54.6875 \r\nL 34.71875 47.703125 \r\nL 19.921875 47.703125 \r\nL 19.921875 0 \r\nL 10.890625 0 \r\nL 10.890625 47.703125 \r\nL 2.296875 47.703125 \r\nL 2.296875 54.6875 \r\nL 10.890625 54.6875 \r\nL 10.890625 58.5 \r\nQ 10.890625 67.625 15.140625 71.796875 \r\nQ 19.390625 75.984375 28.609375 75.984375 \r\nz\r\n\" id=\"DejaVuSans-102\"/>\r\n      <path d=\"M 44.28125 53.078125 \r\nL 44.28125 44.578125 \r\nQ 40.484375 46.53125 36.375 47.5 \r\nQ 32.28125 48.484375 27.875 48.484375 \r\nQ 21.1875 48.484375 17.84375 46.4375 \r\nQ 14.5 44.390625 14.5 40.28125 \r\nQ 14.5 37.15625 16.890625 35.375 \r\nQ 19.28125 33.59375 26.515625 31.984375 \r\nL 29.59375 31.296875 \r\nQ 39.15625 29.25 43.1875 25.515625 \r\nQ 47.21875 21.78125 47.21875 15.09375 \r\nQ 47.21875 7.46875 41.1875 3.015625 \r\nQ 35.15625 -1.421875 24.609375 -1.421875 \r\nQ 20.21875 -1.421875 15.453125 -0.5625 \r\nQ 10.6875 0.296875 5.421875 2 \r\nL 5.421875 11.28125 \r\nQ 10.40625 8.6875 15.234375 7.390625 \r\nQ 20.0625 6.109375 24.8125 6.109375 \r\nQ 31.15625 6.109375 34.5625 8.28125 \r\nQ 37.984375 10.453125 37.984375 14.40625 \r\nQ 37.984375 18.0625 35.515625 20.015625 \r\nQ 33.0625 21.96875 24.703125 23.78125 \r\nL 21.578125 24.515625 \r\nQ 13.234375 26.265625 9.515625 29.90625 \r\nQ 5.8125 33.546875 5.8125 39.890625 \r\nQ 5.8125 47.609375 11.28125 51.796875 \r\nQ 16.75 56 26.8125 56 \r\nQ 31.78125 56 36.171875 55.265625 \r\nQ 40.578125 54.546875 44.28125 53.078125 \r\nz\r\n\" id=\"DejaVuSans-115\"/>\r\n      <path d=\"M 52 44.1875 \r\nQ 55.375 50.25 60.0625 53.125 \r\nQ 64.75 56 71.09375 56 \r\nQ 79.640625 56 84.28125 50.015625 \r\nQ 88.921875 44.046875 88.921875 33.015625 \r\nL 88.921875 0 \r\nL 79.890625 0 \r\nL 79.890625 32.71875 \r\nQ 79.890625 40.578125 77.09375 44.375 \r\nQ 74.3125 48.1875 68.609375 48.1875 \r\nQ 61.625 48.1875 57.5625 43.546875 \r\nQ 53.515625 38.921875 53.515625 30.90625 \r\nL 53.515625 0 \r\nL 44.484375 0 \r\nL 44.484375 32.71875 \r\nQ 44.484375 40.625 41.703125 44.40625 \r\nQ 38.921875 48.1875 33.109375 48.1875 \r\nQ 26.21875 48.1875 22.15625 43.53125 \r\nQ 18.109375 38.875 18.109375 30.90625 \r\nL 18.109375 0 \r\nL 9.078125 0 \r\nL 9.078125 54.6875 \r\nL 18.109375 54.6875 \r\nL 18.109375 46.1875 \r\nQ 21.1875 51.21875 25.484375 53.609375 \r\nQ 29.78125 56 35.6875 56 \r\nQ 41.65625 56 45.828125 52.96875 \r\nQ 50 49.953125 52 44.1875 \r\nz\r\n\" id=\"DejaVuSans-109\"/>\r\n      <path d=\"M 54.890625 54.6875 \r\nL 35.109375 28.078125 \r\nL 55.90625 0 \r\nL 45.3125 0 \r\nL 29.390625 21.484375 \r\nL 13.484375 0 \r\nL 2.875 0 \r\nL 24.125 28.609375 \r\nL 4.6875 54.6875 \r\nL 15.28125 54.6875 \r\nL 29.78125 35.203125 \r\nL 44.28125 54.6875 \r\nz\r\n\" id=\"DejaVuSans-120\"/>\r\n     </defs>\r\n     <use xlink:href=\"#DejaVuSans-67\"/>\r\n     <use x=\"69.824219\" xlink:href=\"#DejaVuSans-111\"/>\r\n     <use x=\"131.005859\" xlink:href=\"#DejaVuSans-110\"/>\r\n     <use x=\"194.384766\" xlink:href=\"#DejaVuSans-102\"/>\r\n     <use x=\"229.589844\" xlink:href=\"#DejaVuSans-117\"/>\r\n     <use x=\"292.96875\" xlink:href=\"#DejaVuSans-115\"/>\r\n     <use x=\"345.068359\" xlink:href=\"#DejaVuSans-105\"/>\r\n     <use x=\"372.851562\" xlink:href=\"#DejaVuSans-111\"/>\r\n     <use x=\"434.033203\" xlink:href=\"#DejaVuSans-110\"/>\r\n     <use x=\"497.412109\" xlink:href=\"#DejaVuSans-32\"/>\r\n     <use x=\"529.199219\" xlink:href=\"#DejaVuSans-109\"/>\r\n     <use x=\"626.611328\" xlink:href=\"#DejaVuSans-97\"/>\r\n     <use x=\"687.890625\" xlink:href=\"#DejaVuSans-116\"/>\r\n     <use x=\"727.099609\" xlink:href=\"#DejaVuSans-114\"/>\r\n     <use x=\"768.212891\" xlink:href=\"#DejaVuSans-105\"/>\r\n     <use x=\"795.996094\" xlink:href=\"#DejaVuSans-120\"/>\r\n    </g>\r\n   </g>\r\n  </g>\r\n  <g id=\"axes_2\">\r\n   <g id=\"patch_7\">\r\n    <path clip-path=\"url(#pe02cea44bd)\" d=\"M 371.711875 417.6 \r\nL 371.711875 415.996875 \r\nL 371.711875 8.803125 \r\nL 371.711875 7.2 \r\nL 392.231875 7.2 \r\nL 392.231875 8.803125 \r\nL 392.231875 415.996875 \r\nL 392.231875 417.6 \r\nz\r\n\" style=\"fill:#ffffff;stroke:#ffffff;stroke-linejoin:miter;stroke-width:0.01;\"/>\r\n   </g>\r\n   <image height=\"411\" id=\"image14a11d65a7\" transform=\"scale(1 -1)translate(0 -411)\" width=\"20\" x=\"372\" xlink:href=\"data:image/png;base64,\r\niVBORw0KGgoAAAANSUhEUgAAABQAAAGbCAYAAADEGLC0AAAB60lEQVR4nO2c0W3EMAxD3SL7r9uPArkbgs8ACZIDCH4VRcUJej9//5/PAfWw5c75Zcud83wOe0T+hPABzwPXu9EUHrmtyzcmhS4YgMwe0R/Zv2BjOFxAZtWZh23hwK+Avi4vHHTxyKeuywHhkIAMr4CEPGTlPykBK2CvCGQtHHRtBehaOOjaCtC1cNC1FaBr4aBrK0DXwkHXVoCuhYOu54V9s0nRxefhW4fsv0YDkGnbBCAHhAPdlLeuKfOhLtw2AcgXHkXcffjCBW9MCu1DtFwEcl+X/RM7wIf05TEA2d+H9CwH7GXeh3XICZdH/6b0PRL7v1mqDAe4YMDWK2yK/UuMxhVQNymFTUlAhguuKbq2l3X5nzChKXBB/9csEeFQh+w/KfzHVn9kvKA9sv+SKsxD/iNXHXJAOATkYd/zoX847GFJLxiQh/ZvOAvDofC+7B8Oy0OiIFovANl/UiKQ50NR86GuIevyn5Qh6/JH9p+UCOT5UFSAD1/4OhqA3Ndl/0kpRPY/YcLPgPA+bOuy/wnnQ13+yAk/R2OPPB/Kmg91NfpwS0rWkHXNh7qGrGs+1HWjKfjVjP1nCH/kGydk/4adyPOhqPkQKdiG7D8pQ9Z1Adn+y+OWFFGwDTnCh0MW5Y/sPylD1oUj4wW/2vYb8l1lYEkAAAAASUVORK5CYII=\" y=\"-6\"/>\r\n   <g id=\"matplotlib.axis_3\"/>\r\n   <g id=\"matplotlib.axis_4\">\r\n    <g id=\"ytick_3\">\r\n     <g id=\"line2d_5\">\r\n      <defs>\r\n       <path d=\"M 0 0 \r\nL 3.5 0 \r\n\" id=\"m23468f05a9\" style=\"stroke:#000000;stroke-width:0.8;\"/>\r\n      </defs>\r\n      <g>\r\n       <use style=\"stroke:#000000;stroke-width:0.8;\" x=\"392.231875\" xlink:href=\"#m23468f05a9\" y=\"335.686633\"/>\r\n      </g>\r\n     </g>\r\n     <g id=\"text_12\">\r\n      <!-- 2000 -->\r\n      <g transform=\"translate(399.231875 339.485852)scale(0.1 -0.1)\">\r\n       <use xlink:href=\"#DejaVuSans-50\"/>\r\n       <use x=\"63.623047\" xlink:href=\"#DejaVuSans-48\"/>\r\n       <use x=\"127.246094\" xlink:href=\"#DejaVuSans-48\"/>\r\n       <use x=\"190.869141\" xlink:href=\"#DejaVuSans-48\"/>\r\n      </g>\r\n     </g>\r\n    </g>\r\n    <g id=\"ytick_4\">\r\n     <g id=\"line2d_6\">\r\n      <g>\r\n       <use style=\"stroke:#000000;stroke-width:0.8;\" x=\"392.231875\" xlink:href=\"#m23468f05a9\" y=\"247.984956\"/>\r\n      </g>\r\n     </g>\r\n     <g id=\"text_13\">\r\n      <!-- 4000 -->\r\n      <g transform=\"translate(399.231875 251.784174)scale(0.1 -0.1)\">\r\n       <use xlink:href=\"#DejaVuSans-52\"/>\r\n       <use x=\"63.623047\" xlink:href=\"#DejaVuSans-48\"/>\r\n       <use x=\"127.246094\" xlink:href=\"#DejaVuSans-48\"/>\r\n       <use x=\"190.869141\" xlink:href=\"#DejaVuSans-48\"/>\r\n      </g>\r\n     </g>\r\n    </g>\r\n    <g id=\"ytick_5\">\r\n     <g id=\"line2d_7\">\r\n      <g>\r\n       <use style=\"stroke:#000000;stroke-width:0.8;\" x=\"392.231875\" xlink:href=\"#m23468f05a9\" y=\"160.283278\"/>\r\n      </g>\r\n     </g>\r\n     <g id=\"text_14\">\r\n      <!-- 6000 -->\r\n      <g transform=\"translate(399.231875 164.082497)scale(0.1 -0.1)\">\r\n       <use xlink:href=\"#DejaVuSans-54\"/>\r\n       <use x=\"63.623047\" xlink:href=\"#DejaVuSans-48\"/>\r\n       <use x=\"127.246094\" xlink:href=\"#DejaVuSans-48\"/>\r\n       <use x=\"190.869141\" xlink:href=\"#DejaVuSans-48\"/>\r\n      </g>\r\n     </g>\r\n    </g>\r\n    <g id=\"ytick_6\">\r\n     <g id=\"line2d_8\">\r\n      <g>\r\n       <use style=\"stroke:#000000;stroke-width:0.8;\" x=\"392.231875\" xlink:href=\"#m23468f05a9\" y=\"72.581601\"/>\r\n      </g>\r\n     </g>\r\n     <g id=\"text_15\">\r\n      <!-- 8000 -->\r\n      <g transform=\"translate(399.231875 76.380819)scale(0.1 -0.1)\">\r\n       <defs>\r\n        <path d=\"M 31.78125 34.625 \r\nQ 24.75 34.625 20.71875 30.859375 \r\nQ 16.703125 27.09375 16.703125 20.515625 \r\nQ 16.703125 13.921875 20.71875 10.15625 \r\nQ 24.75 6.390625 31.78125 6.390625 \r\nQ 38.8125 6.390625 42.859375 10.171875 \r\nQ 46.921875 13.96875 46.921875 20.515625 \r\nQ 46.921875 27.09375 42.890625 30.859375 \r\nQ 38.875 34.625 31.78125 34.625 \r\nz\r\nM 21.921875 38.8125 \r\nQ 15.578125 40.375 12.03125 44.71875 \r\nQ 8.5 49.078125 8.5 55.328125 \r\nQ 8.5 64.0625 14.71875 69.140625 \r\nQ 20.953125 74.21875 31.78125 74.21875 \r\nQ 42.671875 74.21875 48.875 69.140625 \r\nQ 55.078125 64.0625 55.078125 55.328125 \r\nQ 55.078125 49.078125 51.53125 44.71875 \r\nQ 48 40.375 41.703125 38.8125 \r\nQ 48.828125 37.15625 52.796875 32.3125 \r\nQ 56.78125 27.484375 56.78125 20.515625 \r\nQ 56.78125 9.90625 50.3125 4.234375 \r\nQ 43.84375 -1.421875 31.78125 -1.421875 \r\nQ 19.734375 -1.421875 13.25 4.234375 \r\nQ 6.78125 9.90625 6.78125 20.515625 \r\nQ 6.78125 27.484375 10.78125 32.3125 \r\nQ 14.796875 37.15625 21.921875 38.8125 \r\nz\r\nM 18.3125 54.390625 \r\nQ 18.3125 48.734375 21.84375 45.5625 \r\nQ 25.390625 42.390625 31.78125 42.390625 \r\nQ 38.140625 42.390625 41.71875 45.5625 \r\nQ 45.3125 48.734375 45.3125 54.390625 \r\nQ 45.3125 60.0625 41.71875 63.234375 \r\nQ 38.140625 66.40625 31.78125 66.40625 \r\nQ 25.390625 66.40625 21.84375 63.234375 \r\nQ 18.3125 60.0625 18.3125 54.390625 \r\nz\r\n\" id=\"DejaVuSans-56\"/>\r\n       </defs>\r\n       <use xlink:href=\"#DejaVuSans-56\"/>\r\n       <use x=\"63.623047\" xlink:href=\"#DejaVuSans-48\"/>\r\n       <use x=\"127.246094\" xlink:href=\"#DejaVuSans-48\"/>\r\n       <use x=\"190.869141\" xlink:href=\"#DejaVuSans-48\"/>\r\n      </g>\r\n     </g>\r\n    </g>\r\n   </g>\r\n   <g id=\"patch_8\">\r\n    <path d=\"M 371.711875 417.6 \r\nL 371.711875 415.996875 \r\nL 371.711875 8.803125 \r\nL 371.711875 7.2 \r\nL 392.231875 7.2 \r\nL 392.231875 8.803125 \r\nL 392.231875 415.996875 \r\nL 392.231875 417.6 \r\nz\r\n\" style=\"fill:none;stroke:#000000;stroke-linejoin:miter;stroke-width:0.8;\"/>\r\n   </g>\r\n  </g>\r\n </g>\r\n <defs>\r\n  <clipPath id=\"p152eff31a3\">\r\n   <rect height=\"317.62\" width=\"317.62\" x=\"34.240625\" y=\"53.59\"/>\r\n  </clipPath>\r\n  <clipPath id=\"pe02cea44bd\">\r\n   <rect height=\"410.4\" width=\"20.52\" x=\"371.711875\" y=\"7.2\"/>\r\n  </clipPath>\r\n </defs>\r\n</svg>\r\n",
      "image/png": "[encoded data removed]"
     },
     "metadata": {
      "needs_background": "light"
     }
    }
   ],
   "source": [
    "# y_hat_test = lr.predict(X_val_encoded)\n",
    "cnf_matrix = confusion_matrix(prediction1, y_val)\n",
    "plot_confusion_matrix(cnf_matrix, classes=[0,1])"
   ]
  },
  {
   "cell_type": "code",
   "execution_count": 54,
   "metadata": {},
   "outputs": [],
   "source": [
    "tsprediction1=model2.predict(df_test)"
   ]
  },
  {
   "cell_type": "code",
   "execution_count": 55,
   "metadata": {},
   "outputs": [
    {
     "output_type": "execute_result",
     "data": {
      "text/plain": [
       "array([0, 0, 0, ..., 0, 0, 0], dtype=int64)"
      ]
     },
     "metadata": {},
     "execution_count": 55
    }
   ],
   "source": [
    "tsprediction1"
   ]
  },
  {
   "cell_type": "code",
   "execution_count": 57,
   "metadata": {},
   "outputs": [],
   "source": [
    "tspredictions=[]\n",
    "for i in tsprediction1:\n",
    "    if i<0:\n",
    "        tspredictions.append(0)\n",
    "    else:\n",
    "        tspredictions.append(i)"
   ]
  },
  {
   "cell_type": "code",
   "execution_count": 58,
   "metadata": {},
   "outputs": [],
   "source": [
    "tspredictions=np.array(tspredictions)"
   ]
  },
  {
   "cell_type": "code",
   "execution_count": 59,
   "metadata": {},
   "outputs": [
    {
     "output_type": "execute_result",
     "data": {
      "text/plain": [
       "<AxesSubplot:ylabel='Density'>"
      ]
     },
     "metadata": {},
     "execution_count": 59
    },
    {
     "output_type": "display_data",
     "data": {
      "text/plain": "<Figure size 432x288 with 1 Axes>",
      "image/svg+xml": "<?xml version=\"1.0\" encoding=\"utf-8\" standalone=\"no\"?>\r\n<!DOCTYPE svg PUBLIC \"-//W3C//DTD SVG 1.1//EN\"\r\n  \"http://www.w3.org/Graphics/SVG/1.1/DTD/svg11.dtd\">\r\n<!-- Created with matplotlib (https://matplotlib.org/) -->\r\n<svg height=\"248.518125pt\" version=\"1.1\" viewBox=\"0 0 382.603125 248.518125\" width=\"382.603125pt\" xmlns=\"http://www.w3.org/2000/svg\" xmlns:xlink=\"http://www.w3.org/1999/xlink\">\r\n <metadata>\r\n  <rdf:RDF xmlns:cc=\"http://creativecommons.org/ns#\" xmlns:dc=\"http://purl.org/dc/elements/1.1/\" xmlns:rdf=\"http://www.w3.org/1999/02/22-rdf-syntax-ns#\">\r\n   <cc:Work>\r\n    <dc:type rdf:resource=\"http://purl.org/dc/dcmitype/StillImage\"/>\r\n    <dc:date>2021-02-28T14:18:29.692916</dc:date>\r\n    <dc:format>image/svg+xml</dc:format>\r\n    <dc:creator>\r\n     <cc:Agent>\r\n      <dc:title>Matplotlib v3.3.4, https://matplotlib.org/</dc:title>\r\n     </cc:Agent>\r\n    </dc:creator>\r\n   </cc:Work>\r\n  </rdf:RDF>\r\n </metadata>\r\n <defs>\r\n  <style type=\"text/css\">*{stroke-linecap:butt;stroke-linejoin:round;}</style>\r\n </defs>\r\n <g id=\"figure_1\">\r\n  <g id=\"patch_1\">\r\n   <path d=\"M 0 248.518125 \r\nL 382.603125 248.518125 \r\nL 382.603125 0 \r\nL 0 0 \r\nz\r\n\" style=\"fill:none;\"/>\r\n  </g>\r\n  <g id=\"axes_1\">\r\n   <g id=\"patch_2\">\r\n    <path d=\"M 40.603125 224.64 \r\nL 375.403125 224.64 \r\nL 375.403125 7.2 \r\nL 40.603125 7.2 \r\nz\r\n\" style=\"fill:#ffffff;\"/>\r\n   </g>\r\n   <g id=\"patch_3\">\r\n    <path clip-path=\"url(#pf280c6a9fe)\" d=\"M 72.169647 224.64 \r\nL 77.602986 224.64 \r\nL 77.602986 17.554286 \r\nL 72.169647 17.554286 \r\nz\r\n\" style=\"fill:#1f77b4;opacity:0.4;\"/>\r\n   </g>\r\n   <g id=\"patch_4\">\r\n    <path clip-path=\"url(#pf280c6a9fe)\" d=\"M 77.602986 224.64 \r\nL 83.036326 224.64 \r\nL 83.036326 224.64 \r\nL 77.602986 224.64 \r\nz\r\n\" style=\"fill:#1f77b4;opacity:0.4;\"/>\r\n   </g>\r\n   <g id=\"patch_5\">\r\n    <path clip-path=\"url(#pf280c6a9fe)\" d=\"M 83.036326 224.64 \r\nL 88.469665 224.64 \r\nL 88.469665 224.64 \r\nL 83.036326 224.64 \r\nz\r\n\" style=\"fill:#1f77b4;opacity:0.4;\"/>\r\n   </g>\r\n   <g id=\"patch_6\">\r\n    <path clip-path=\"url(#pf280c6a9fe)\" d=\"M 88.469665 224.64 \r\nL 93.903004 224.64 \r\nL 93.903004 224.64 \r\nL 88.469665 224.64 \r\nz\r\n\" style=\"fill:#1f77b4;opacity:0.4;\"/>\r\n   </g>\r\n   <g id=\"patch_7\">\r\n    <path clip-path=\"url(#pf280c6a9fe)\" d=\"M 93.903004 224.64 \r\nL 99.336343 224.64 \r\nL 99.336343 224.64 \r\nL 93.903004 224.64 \r\nz\r\n\" style=\"fill:#1f77b4;opacity:0.4;\"/>\r\n   </g>\r\n   <g id=\"patch_8\">\r\n    <path clip-path=\"url(#pf280c6a9fe)\" d=\"M 99.336343 224.64 \r\nL 104.769682 224.64 \r\nL 104.769682 224.64 \r\nL 99.336343 224.64 \r\nz\r\n\" style=\"fill:#1f77b4;opacity:0.4;\"/>\r\n   </g>\r\n   <g id=\"patch_9\">\r\n    <path clip-path=\"url(#pf280c6a9fe)\" d=\"M 104.769682 224.64 \r\nL 110.203021 224.64 \r\nL 110.203021 224.64 \r\nL 104.769682 224.64 \r\nz\r\n\" style=\"fill:#1f77b4;opacity:0.4;\"/>\r\n   </g>\r\n   <g id=\"patch_10\">\r\n    <path clip-path=\"url(#pf280c6a9fe)\" d=\"M 110.203021 224.64 \r\nL 115.63636 224.64 \r\nL 115.63636 224.64 \r\nL 110.203021 224.64 \r\nz\r\n\" style=\"fill:#1f77b4;opacity:0.4;\"/>\r\n   </g>\r\n   <g id=\"patch_11\">\r\n    <path clip-path=\"url(#pf280c6a9fe)\" d=\"M 115.63636 224.64 \r\nL 121.069699 224.64 \r\nL 121.069699 224.64 \r\nL 115.63636 224.64 \r\nz\r\n\" style=\"fill:#1f77b4;opacity:0.4;\"/>\r\n   </g>\r\n   <g id=\"patch_12\">\r\n    <path clip-path=\"url(#pf280c6a9fe)\" d=\"M 121.069699 224.64 \r\nL 126.503038 224.64 \r\nL 126.503038 224.64 \r\nL 121.069699 224.64 \r\nz\r\n\" style=\"fill:#1f77b4;opacity:0.4;\"/>\r\n   </g>\r\n   <g id=\"patch_13\">\r\n    <path clip-path=\"url(#pf280c6a9fe)\" d=\"M 126.503038 224.64 \r\nL 131.936377 224.64 \r\nL 131.936377 224.64 \r\nL 126.503038 224.64 \r\nz\r\n\" style=\"fill:#1f77b4;opacity:0.4;\"/>\r\n   </g>\r\n   <g id=\"patch_14\">\r\n    <path clip-path=\"url(#pf280c6a9fe)\" d=\"M 131.936377 224.64 \r\nL 137.369717 224.64 \r\nL 137.369717 224.64 \r\nL 131.936377 224.64 \r\nz\r\n\" style=\"fill:#1f77b4;opacity:0.4;\"/>\r\n   </g>\r\n   <g id=\"patch_15\">\r\n    <path clip-path=\"url(#pf280c6a9fe)\" d=\"M 137.369717 224.64 \r\nL 142.803056 224.64 \r\nL 142.803056 224.64 \r\nL 137.369717 224.64 \r\nz\r\n\" style=\"fill:#1f77b4;opacity:0.4;\"/>\r\n   </g>\r\n   <g id=\"patch_16\">\r\n    <path clip-path=\"url(#pf280c6a9fe)\" d=\"M 142.803056 224.64 \r\nL 148.236395 224.64 \r\nL 148.236395 224.64 \r\nL 142.803056 224.64 \r\nz\r\n\" style=\"fill:#1f77b4;opacity:0.4;\"/>\r\n   </g>\r\n   <g id=\"patch_17\">\r\n    <path clip-path=\"url(#pf280c6a9fe)\" d=\"M 148.236395 224.64 \r\nL 153.669734 224.64 \r\nL 153.669734 224.64 \r\nL 148.236395 224.64 \r\nz\r\n\" style=\"fill:#1f77b4;opacity:0.4;\"/>\r\n   </g>\r\n   <g id=\"patch_18\">\r\n    <path clip-path=\"url(#pf280c6a9fe)\" d=\"M 153.669734 224.64 \r\nL 159.103073 224.64 \r\nL 159.103073 224.64 \r\nL 153.669734 224.64 \r\nz\r\n\" style=\"fill:#1f77b4;opacity:0.4;\"/>\r\n   </g>\r\n   <g id=\"patch_19\">\r\n    <path clip-path=\"url(#pf280c6a9fe)\" d=\"M 159.103073 224.64 \r\nL 164.536412 224.64 \r\nL 164.536412 224.64 \r\nL 159.103073 224.64 \r\nz\r\n\" style=\"fill:#1f77b4;opacity:0.4;\"/>\r\n   </g>\r\n   <g id=\"patch_20\">\r\n    <path clip-path=\"url(#pf280c6a9fe)\" d=\"M 164.536412 224.64 \r\nL 169.969751 224.64 \r\nL 169.969751 224.64 \r\nL 164.536412 224.64 \r\nz\r\n\" style=\"fill:#1f77b4;opacity:0.4;\"/>\r\n   </g>\r\n   <g id=\"patch_21\">\r\n    <path clip-path=\"url(#pf280c6a9fe)\" d=\"M 169.969751 224.64 \r\nL 175.40309 224.64 \r\nL 175.40309 224.64 \r\nL 169.969751 224.64 \r\nz\r\n\" style=\"fill:#1f77b4;opacity:0.4;\"/>\r\n   </g>\r\n   <g id=\"patch_22\">\r\n    <path clip-path=\"url(#pf280c6a9fe)\" d=\"M 175.40309 224.64 \r\nL 180.836429 224.64 \r\nL 180.836429 224.64 \r\nL 175.40309 224.64 \r\nz\r\n\" style=\"fill:#1f77b4;opacity:0.4;\"/>\r\n   </g>\r\n   <g id=\"patch_23\">\r\n    <path clip-path=\"url(#pf280c6a9fe)\" d=\"M 180.836429 224.64 \r\nL 186.269769 224.64 \r\nL 186.269769 224.64 \r\nL 180.836429 224.64 \r\nz\r\n\" style=\"fill:#1f77b4;opacity:0.4;\"/>\r\n   </g>\r\n   <g id=\"patch_24\">\r\n    <path clip-path=\"url(#pf280c6a9fe)\" d=\"M 186.269769 224.64 \r\nL 191.703108 224.64 \r\nL 191.703108 224.64 \r\nL 186.269769 224.64 \r\nz\r\n\" style=\"fill:#1f77b4;opacity:0.4;\"/>\r\n   </g>\r\n   <g id=\"patch_25\">\r\n    <path clip-path=\"url(#pf280c6a9fe)\" d=\"M 191.703108 224.64 \r\nL 197.136447 224.64 \r\nL 197.136447 224.64 \r\nL 191.703108 224.64 \r\nz\r\n\" style=\"fill:#1f77b4;opacity:0.4;\"/>\r\n   </g>\r\n   <g id=\"patch_26\">\r\n    <path clip-path=\"url(#pf280c6a9fe)\" d=\"M 197.136447 224.64 \r\nL 202.569786 224.64 \r\nL 202.569786 224.64 \r\nL 197.136447 224.64 \r\nz\r\n\" style=\"fill:#1f77b4;opacity:0.4;\"/>\r\n   </g>\r\n   <g id=\"patch_27\">\r\n    <path clip-path=\"url(#pf280c6a9fe)\" d=\"M 202.569786 224.64 \r\nL 208.003125 224.64 \r\nL 208.003125 224.64 \r\nL 202.569786 224.64 \r\nz\r\n\" style=\"fill:#1f77b4;opacity:0.4;\"/>\r\n   </g>\r\n   <g id=\"patch_28\">\r\n    <path clip-path=\"url(#pf280c6a9fe)\" d=\"M 208.003125 224.64 \r\nL 213.436464 224.64 \r\nL 213.436464 224.64 \r\nL 208.003125 224.64 \r\nz\r\n\" style=\"fill:#1f77b4;opacity:0.4;\"/>\r\n   </g>\r\n   <g id=\"patch_29\">\r\n    <path clip-path=\"url(#pf280c6a9fe)\" d=\"M 213.436464 224.64 \r\nL 218.869803 224.64 \r\nL 218.869803 224.64 \r\nL 213.436464 224.64 \r\nz\r\n\" style=\"fill:#1f77b4;opacity:0.4;\"/>\r\n   </g>\r\n   <g id=\"patch_30\">\r\n    <path clip-path=\"url(#pf280c6a9fe)\" d=\"M 218.869803 224.64 \r\nL 224.303142 224.64 \r\nL 224.303142 224.64 \r\nL 218.869803 224.64 \r\nz\r\n\" style=\"fill:#1f77b4;opacity:0.4;\"/>\r\n   </g>\r\n   <g id=\"patch_31\">\r\n    <path clip-path=\"url(#pf280c6a9fe)\" d=\"M 224.303142 224.64 \r\nL 229.736481 224.64 \r\nL 229.736481 224.64 \r\nL 224.303142 224.64 \r\nz\r\n\" style=\"fill:#1f77b4;opacity:0.4;\"/>\r\n   </g>\r\n   <g id=\"patch_32\">\r\n    <path clip-path=\"url(#pf280c6a9fe)\" d=\"M 229.736481 224.64 \r\nL 235.169821 224.64 \r\nL 235.169821 224.64 \r\nL 229.736481 224.64 \r\nz\r\n\" style=\"fill:#1f77b4;opacity:0.4;\"/>\r\n   </g>\r\n   <g id=\"patch_33\">\r\n    <path clip-path=\"url(#pf280c6a9fe)\" d=\"M 235.169821 224.64 \r\nL 240.60316 224.64 \r\nL 240.60316 224.64 \r\nL 235.169821 224.64 \r\nz\r\n\" style=\"fill:#1f77b4;opacity:0.4;\"/>\r\n   </g>\r\n   <g id=\"patch_34\">\r\n    <path clip-path=\"url(#pf280c6a9fe)\" d=\"M 240.60316 224.64 \r\nL 246.036499 224.64 \r\nL 246.036499 224.64 \r\nL 240.60316 224.64 \r\nz\r\n\" style=\"fill:#1f77b4;opacity:0.4;\"/>\r\n   </g>\r\n   <g id=\"patch_35\">\r\n    <path clip-path=\"url(#pf280c6a9fe)\" d=\"M 246.036499 224.64 \r\nL 251.469838 224.64 \r\nL 251.469838 224.64 \r\nL 246.036499 224.64 \r\nz\r\n\" style=\"fill:#1f77b4;opacity:0.4;\"/>\r\n   </g>\r\n   <g id=\"patch_36\">\r\n    <path clip-path=\"url(#pf280c6a9fe)\" d=\"M 251.469838 224.64 \r\nL 256.903177 224.64 \r\nL 256.903177 224.64 \r\nL 251.469838 224.64 \r\nz\r\n\" style=\"fill:#1f77b4;opacity:0.4;\"/>\r\n   </g>\r\n   <g id=\"patch_37\">\r\n    <path clip-path=\"url(#pf280c6a9fe)\" d=\"M 256.903177 224.64 \r\nL 262.336516 224.64 \r\nL 262.336516 224.64 \r\nL 256.903177 224.64 \r\nz\r\n\" style=\"fill:#1f77b4;opacity:0.4;\"/>\r\n   </g>\r\n   <g id=\"patch_38\">\r\n    <path clip-path=\"url(#pf280c6a9fe)\" d=\"M 262.336516 224.64 \r\nL 267.769855 224.64 \r\nL 267.769855 224.64 \r\nL 262.336516 224.64 \r\nz\r\n\" style=\"fill:#1f77b4;opacity:0.4;\"/>\r\n   </g>\r\n   <g id=\"patch_39\">\r\n    <path clip-path=\"url(#pf280c6a9fe)\" d=\"M 267.769855 224.64 \r\nL 273.203194 224.64 \r\nL 273.203194 224.64 \r\nL 267.769855 224.64 \r\nz\r\n\" style=\"fill:#1f77b4;opacity:0.4;\"/>\r\n   </g>\r\n   <g id=\"patch_40\">\r\n    <path clip-path=\"url(#pf280c6a9fe)\" d=\"M 273.203194 224.64 \r\nL 278.636533 224.64 \r\nL 278.636533 224.64 \r\nL 273.203194 224.64 \r\nz\r\n\" style=\"fill:#1f77b4;opacity:0.4;\"/>\r\n   </g>\r\n   <g id=\"patch_41\">\r\n    <path clip-path=\"url(#pf280c6a9fe)\" d=\"M 278.636533 224.64 \r\nL 284.069873 224.64 \r\nL 284.069873 224.64 \r\nL 278.636533 224.64 \r\nz\r\n\" style=\"fill:#1f77b4;opacity:0.4;\"/>\r\n   </g>\r\n   <g id=\"patch_42\">\r\n    <path clip-path=\"url(#pf280c6a9fe)\" d=\"M 284.069873 224.64 \r\nL 289.503212 224.64 \r\nL 289.503212 224.64 \r\nL 284.069873 224.64 \r\nz\r\n\" style=\"fill:#1f77b4;opacity:0.4;\"/>\r\n   </g>\r\n   <g id=\"patch_43\">\r\n    <path clip-path=\"url(#pf280c6a9fe)\" d=\"M 289.503212 224.64 \r\nL 294.936551 224.64 \r\nL 294.936551 224.64 \r\nL 289.503212 224.64 \r\nz\r\n\" style=\"fill:#1f77b4;opacity:0.4;\"/>\r\n   </g>\r\n   <g id=\"patch_44\">\r\n    <path clip-path=\"url(#pf280c6a9fe)\" d=\"M 294.936551 224.64 \r\nL 300.36989 224.64 \r\nL 300.36989 224.64 \r\nL 294.936551 224.64 \r\nz\r\n\" style=\"fill:#1f77b4;opacity:0.4;\"/>\r\n   </g>\r\n   <g id=\"patch_45\">\r\n    <path clip-path=\"url(#pf280c6a9fe)\" d=\"M 300.36989 224.64 \r\nL 305.803229 224.64 \r\nL 305.803229 224.64 \r\nL 300.36989 224.64 \r\nz\r\n\" style=\"fill:#1f77b4;opacity:0.4;\"/>\r\n   </g>\r\n   <g id=\"patch_46\">\r\n    <path clip-path=\"url(#pf280c6a9fe)\" d=\"M 305.803229 224.64 \r\nL 311.236568 224.64 \r\nL 311.236568 224.64 \r\nL 305.803229 224.64 \r\nz\r\n\" style=\"fill:#1f77b4;opacity:0.4;\"/>\r\n   </g>\r\n   <g id=\"patch_47\">\r\n    <path clip-path=\"url(#pf280c6a9fe)\" d=\"M 311.236568 224.64 \r\nL 316.669907 224.64 \r\nL 316.669907 224.64 \r\nL 311.236568 224.64 \r\nz\r\n\" style=\"fill:#1f77b4;opacity:0.4;\"/>\r\n   </g>\r\n   <g id=\"patch_48\">\r\n    <path clip-path=\"url(#pf280c6a9fe)\" d=\"M 316.669907 224.64 \r\nL 322.103246 224.64 \r\nL 322.103246 224.64 \r\nL 316.669907 224.64 \r\nz\r\n\" style=\"fill:#1f77b4;opacity:0.4;\"/>\r\n   </g>\r\n   <g id=\"patch_49\">\r\n    <path clip-path=\"url(#pf280c6a9fe)\" d=\"M 322.103246 224.64 \r\nL 327.536585 224.64 \r\nL 327.536585 224.64 \r\nL 322.103246 224.64 \r\nz\r\n\" style=\"fill:#1f77b4;opacity:0.4;\"/>\r\n   </g>\r\n   <g id=\"patch_50\">\r\n    <path clip-path=\"url(#pf280c6a9fe)\" d=\"M 327.536585 224.64 \r\nL 332.969924 224.64 \r\nL 332.969924 224.64 \r\nL 327.536585 224.64 \r\nz\r\n\" style=\"fill:#1f77b4;opacity:0.4;\"/>\r\n   </g>\r\n   <g id=\"patch_51\">\r\n    <path clip-path=\"url(#pf280c6a9fe)\" d=\"M 332.969924 224.64 \r\nL 338.403264 224.64 \r\nL 338.403264 224.64 \r\nL 332.969924 224.64 \r\nz\r\n\" style=\"fill:#1f77b4;opacity:0.4;\"/>\r\n   </g>\r\n   <g id=\"patch_52\">\r\n    <path clip-path=\"url(#pf280c6a9fe)\" d=\"M 338.403264 224.64 \r\nL 343.836603 224.64 \r\nL 343.836603 219.899285 \r\nL 338.403264 219.899285 \r\nz\r\n\" style=\"fill:#1f77b4;opacity:0.4;\"/>\r\n   </g>\r\n   <g id=\"matplotlib.axis_1\">\r\n    <g id=\"xtick_1\">\r\n     <g id=\"line2d_1\">\r\n      <defs>\r\n       <path d=\"M 0 0 \r\nL 0 3.5 \r\n\" id=\"mc862dd6e83\" style=\"stroke:#000000;stroke-width:0.8;\"/>\r\n      </defs>\r\n      <g>\r\n       <use style=\"stroke:#000000;stroke-width:0.8;\" x=\"72.169647\" xlink:href=\"#mc862dd6e83\" y=\"224.64\"/>\r\n      </g>\r\n     </g>\r\n     <g id=\"text_1\">\r\n      <!-- 0.0 -->\r\n      <g transform=\"translate(64.218085 239.238437)scale(0.1 -0.1)\">\r\n       <defs>\r\n        <path d=\"M 31.78125 66.40625 \r\nQ 24.171875 66.40625 20.328125 58.90625 \r\nQ 16.5 51.421875 16.5 36.375 \r\nQ 16.5 21.390625 20.328125 13.890625 \r\nQ 24.171875 6.390625 31.78125 6.390625 \r\nQ 39.453125 6.390625 43.28125 13.890625 \r\nQ 47.125 21.390625 47.125 36.375 \r\nQ 47.125 51.421875 43.28125 58.90625 \r\nQ 39.453125 66.40625 31.78125 66.40625 \r\nz\r\nM 31.78125 74.21875 \r\nQ 44.046875 74.21875 50.515625 64.515625 \r\nQ 56.984375 54.828125 56.984375 36.375 \r\nQ 56.984375 17.96875 50.515625 8.265625 \r\nQ 44.046875 -1.421875 31.78125 -1.421875 \r\nQ 19.53125 -1.421875 13.0625 8.265625 \r\nQ 6.59375 17.96875 6.59375 36.375 \r\nQ 6.59375 54.828125 13.0625 64.515625 \r\nQ 19.53125 74.21875 31.78125 74.21875 \r\nz\r\n\" id=\"DejaVuSans-48\"/>\r\n        <path d=\"M 10.6875 12.40625 \r\nL 21 12.40625 \r\nL 21 0 \r\nL 10.6875 0 \r\nz\r\n\" id=\"DejaVuSans-46\"/>\r\n       </defs>\r\n       <use xlink:href=\"#DejaVuSans-48\"/>\r\n       <use x=\"63.623047\" xlink:href=\"#DejaVuSans-46\"/>\r\n       <use x=\"95.410156\" xlink:href=\"#DejaVuSans-48\"/>\r\n      </g>\r\n     </g>\r\n    </g>\r\n    <g id=\"xtick_2\">\r\n     <g id=\"line2d_2\">\r\n      <g>\r\n       <use style=\"stroke:#000000;stroke-width:0.8;\" x=\"126.503038\" xlink:href=\"#mc862dd6e83\" y=\"224.64\"/>\r\n      </g>\r\n     </g>\r\n     <g id=\"text_2\">\r\n      <!-- 0.2 -->\r\n      <g transform=\"translate(118.551476 239.238437)scale(0.1 -0.1)\">\r\n       <defs>\r\n        <path d=\"M 19.1875 8.296875 \r\nL 53.609375 8.296875 \r\nL 53.609375 0 \r\nL 7.328125 0 \r\nL 7.328125 8.296875 \r\nQ 12.9375 14.109375 22.625 23.890625 \r\nQ 32.328125 33.6875 34.8125 36.53125 \r\nQ 39.546875 41.84375 41.421875 45.53125 \r\nQ 43.3125 49.21875 43.3125 52.78125 \r\nQ 43.3125 58.59375 39.234375 62.25 \r\nQ 35.15625 65.921875 28.609375 65.921875 \r\nQ 23.96875 65.921875 18.8125 64.3125 \r\nQ 13.671875 62.703125 7.8125 59.421875 \r\nL 7.8125 69.390625 \r\nQ 13.765625 71.78125 18.9375 73 \r\nQ 24.125 74.21875 28.421875 74.21875 \r\nQ 39.75 74.21875 46.484375 68.546875 \r\nQ 53.21875 62.890625 53.21875 53.421875 \r\nQ 53.21875 48.921875 51.53125 44.890625 \r\nQ 49.859375 40.875 45.40625 35.40625 \r\nQ 44.1875 33.984375 37.640625 27.21875 \r\nQ 31.109375 20.453125 19.1875 8.296875 \r\nz\r\n\" id=\"DejaVuSans-50\"/>\r\n       </defs>\r\n       <use xlink:href=\"#DejaVuSans-48\"/>\r\n       <use x=\"63.623047\" xlink:href=\"#DejaVuSans-46\"/>\r\n       <use x=\"95.410156\" xlink:href=\"#DejaVuSans-50\"/>\r\n      </g>\r\n     </g>\r\n    </g>\r\n    <g id=\"xtick_3\">\r\n     <g id=\"line2d_3\">\r\n      <g>\r\n       <use style=\"stroke:#000000;stroke-width:0.8;\" x=\"180.836429\" xlink:href=\"#mc862dd6e83\" y=\"224.64\"/>\r\n      </g>\r\n     </g>\r\n     <g id=\"text_3\">\r\n      <!-- 0.4 -->\r\n      <g transform=\"translate(172.884867 239.238437)scale(0.1 -0.1)\">\r\n       <defs>\r\n        <path d=\"M 37.796875 64.3125 \r\nL 12.890625 25.390625 \r\nL 37.796875 25.390625 \r\nz\r\nM 35.203125 72.90625 \r\nL 47.609375 72.90625 \r\nL 47.609375 25.390625 \r\nL 58.015625 25.390625 \r\nL 58.015625 17.1875 \r\nL 47.609375 17.1875 \r\nL 47.609375 0 \r\nL 37.796875 0 \r\nL 37.796875 17.1875 \r\nL 4.890625 17.1875 \r\nL 4.890625 26.703125 \r\nz\r\n\" id=\"DejaVuSans-52\"/>\r\n       </defs>\r\n       <use xlink:href=\"#DejaVuSans-48\"/>\r\n       <use x=\"63.623047\" xlink:href=\"#DejaVuSans-46\"/>\r\n       <use x=\"95.410156\" xlink:href=\"#DejaVuSans-52\"/>\r\n      </g>\r\n     </g>\r\n    </g>\r\n    <g id=\"xtick_4\">\r\n     <g id=\"line2d_4\">\r\n      <g>\r\n       <use style=\"stroke:#000000;stroke-width:0.8;\" x=\"235.169821\" xlink:href=\"#mc862dd6e83\" y=\"224.64\"/>\r\n      </g>\r\n     </g>\r\n     <g id=\"text_4\">\r\n      <!-- 0.6 -->\r\n      <g transform=\"translate(227.218258 239.238437)scale(0.1 -0.1)\">\r\n       <defs>\r\n        <path d=\"M 33.015625 40.375 \r\nQ 26.375 40.375 22.484375 35.828125 \r\nQ 18.609375 31.296875 18.609375 23.390625 \r\nQ 18.609375 15.53125 22.484375 10.953125 \r\nQ 26.375 6.390625 33.015625 6.390625 \r\nQ 39.65625 6.390625 43.53125 10.953125 \r\nQ 47.40625 15.53125 47.40625 23.390625 \r\nQ 47.40625 31.296875 43.53125 35.828125 \r\nQ 39.65625 40.375 33.015625 40.375 \r\nz\r\nM 52.59375 71.296875 \r\nL 52.59375 62.3125 \r\nQ 48.875 64.0625 45.09375 64.984375 \r\nQ 41.3125 65.921875 37.59375 65.921875 \r\nQ 27.828125 65.921875 22.671875 59.328125 \r\nQ 17.53125 52.734375 16.796875 39.40625 \r\nQ 19.671875 43.65625 24.015625 45.921875 \r\nQ 28.375 48.1875 33.59375 48.1875 \r\nQ 44.578125 48.1875 50.953125 41.515625 \r\nQ 57.328125 34.859375 57.328125 23.390625 \r\nQ 57.328125 12.15625 50.6875 5.359375 \r\nQ 44.046875 -1.421875 33.015625 -1.421875 \r\nQ 20.359375 -1.421875 13.671875 8.265625 \r\nQ 6.984375 17.96875 6.984375 36.375 \r\nQ 6.984375 53.65625 15.1875 63.9375 \r\nQ 23.390625 74.21875 37.203125 74.21875 \r\nQ 40.921875 74.21875 44.703125 73.484375 \r\nQ 48.484375 72.75 52.59375 71.296875 \r\nz\r\n\" id=\"DejaVuSans-54\"/>\r\n       </defs>\r\n       <use xlink:href=\"#DejaVuSans-48\"/>\r\n       <use x=\"63.623047\" xlink:href=\"#DejaVuSans-46\"/>\r\n       <use x=\"95.410156\" xlink:href=\"#DejaVuSans-54\"/>\r\n      </g>\r\n     </g>\r\n    </g>\r\n    <g id=\"xtick_5\">\r\n     <g id=\"line2d_5\">\r\n      <g>\r\n       <use style=\"stroke:#000000;stroke-width:0.8;\" x=\"289.503212\" xlink:href=\"#mc862dd6e83\" y=\"224.64\"/>\r\n      </g>\r\n     </g>\r\n     <g id=\"text_5\">\r\n      <!-- 0.8 -->\r\n      <g transform=\"translate(281.551649 239.238437)scale(0.1 -0.1)\">\r\n       <defs>\r\n        <path d=\"M 31.78125 34.625 \r\nQ 24.75 34.625 20.71875 30.859375 \r\nQ 16.703125 27.09375 16.703125 20.515625 \r\nQ 16.703125 13.921875 20.71875 10.15625 \r\nQ 24.75 6.390625 31.78125 6.390625 \r\nQ 38.8125 6.390625 42.859375 10.171875 \r\nQ 46.921875 13.96875 46.921875 20.515625 \r\nQ 46.921875 27.09375 42.890625 30.859375 \r\nQ 38.875 34.625 31.78125 34.625 \r\nz\r\nM 21.921875 38.8125 \r\nQ 15.578125 40.375 12.03125 44.71875 \r\nQ 8.5 49.078125 8.5 55.328125 \r\nQ 8.5 64.0625 14.71875 69.140625 \r\nQ 20.953125 74.21875 31.78125 74.21875 \r\nQ 42.671875 74.21875 48.875 69.140625 \r\nQ 55.078125 64.0625 55.078125 55.328125 \r\nQ 55.078125 49.078125 51.53125 44.71875 \r\nQ 48 40.375 41.703125 38.8125 \r\nQ 48.828125 37.15625 52.796875 32.3125 \r\nQ 56.78125 27.484375 56.78125 20.515625 \r\nQ 56.78125 9.90625 50.3125 4.234375 \r\nQ 43.84375 -1.421875 31.78125 -1.421875 \r\nQ 19.734375 -1.421875 13.25 4.234375 \r\nQ 6.78125 9.90625 6.78125 20.515625 \r\nQ 6.78125 27.484375 10.78125 32.3125 \r\nQ 14.796875 37.15625 21.921875 38.8125 \r\nz\r\nM 18.3125 54.390625 \r\nQ 18.3125 48.734375 21.84375 45.5625 \r\nQ 25.390625 42.390625 31.78125 42.390625 \r\nQ 38.140625 42.390625 41.71875 45.5625 \r\nQ 45.3125 48.734375 45.3125 54.390625 \r\nQ 45.3125 60.0625 41.71875 63.234375 \r\nQ 38.140625 66.40625 31.78125 66.40625 \r\nQ 25.390625 66.40625 21.84375 63.234375 \r\nQ 18.3125 60.0625 18.3125 54.390625 \r\nz\r\n\" id=\"DejaVuSans-56\"/>\r\n       </defs>\r\n       <use xlink:href=\"#DejaVuSans-48\"/>\r\n       <use x=\"63.623047\" xlink:href=\"#DejaVuSans-46\"/>\r\n       <use x=\"95.410156\" xlink:href=\"#DejaVuSans-56\"/>\r\n      </g>\r\n     </g>\r\n    </g>\r\n    <g id=\"xtick_6\">\r\n     <g id=\"line2d_6\">\r\n      <g>\r\n       <use style=\"stroke:#000000;stroke-width:0.8;\" x=\"343.836603\" xlink:href=\"#mc862dd6e83\" y=\"224.64\"/>\r\n      </g>\r\n     </g>\r\n     <g id=\"text_6\">\r\n      <!-- 1.0 -->\r\n      <g transform=\"translate(335.88504 239.238437)scale(0.1 -0.1)\">\r\n       <defs>\r\n        <path d=\"M 12.40625 8.296875 \r\nL 28.515625 8.296875 \r\nL 28.515625 63.921875 \r\nL 10.984375 60.40625 \r\nL 10.984375 69.390625 \r\nL 28.421875 72.90625 \r\nL 38.28125 72.90625 \r\nL 38.28125 8.296875 \r\nL 54.390625 8.296875 \r\nL 54.390625 0 \r\nL 12.40625 0 \r\nz\r\n\" id=\"DejaVuSans-49\"/>\r\n       </defs>\r\n       <use xlink:href=\"#DejaVuSans-49\"/>\r\n       <use x=\"63.623047\" xlink:href=\"#DejaVuSans-46\"/>\r\n       <use x=\"95.410156\" xlink:href=\"#DejaVuSans-48\"/>\r\n      </g>\r\n     </g>\r\n    </g>\r\n   </g>\r\n   <g id=\"matplotlib.axis_2\">\r\n    <g id=\"ytick_1\">\r\n     <g id=\"line2d_7\">\r\n      <defs>\r\n       <path d=\"M 0 0 \r\nL -3.5 0 \r\n\" id=\"mf41b430d5d\" style=\"stroke:#000000;stroke-width:0.8;\"/>\r\n      </defs>\r\n      <g>\r\n       <use style=\"stroke:#000000;stroke-width:0.8;\" x=\"40.603125\" xlink:href=\"#mf41b430d5d\" y=\"224.64\"/>\r\n      </g>\r\n     </g>\r\n     <g id=\"text_7\">\r\n      <!-- 0 -->\r\n      <g transform=\"translate(27.240625 228.439219)scale(0.1 -0.1)\">\r\n       <use xlink:href=\"#DejaVuSans-48\"/>\r\n      </g>\r\n     </g>\r\n    </g>\r\n    <g id=\"ytick_2\">\r\n     <g id=\"line2d_8\">\r\n      <g>\r\n       <use style=\"stroke:#000000;stroke-width:0.8;\" x=\"40.603125\" xlink:href=\"#mf41b430d5d\" y=\"182.274714\"/>\r\n      </g>\r\n     </g>\r\n     <g id=\"text_8\">\r\n      <!-- 10 -->\r\n      <g transform=\"translate(20.878125 186.073933)scale(0.1 -0.1)\">\r\n       <use xlink:href=\"#DejaVuSans-49\"/>\r\n       <use x=\"63.623047\" xlink:href=\"#DejaVuSans-48\"/>\r\n      </g>\r\n     </g>\r\n    </g>\r\n    <g id=\"ytick_3\">\r\n     <g id=\"line2d_9\">\r\n      <g>\r\n       <use style=\"stroke:#000000;stroke-width:0.8;\" x=\"40.603125\" xlink:href=\"#mf41b430d5d\" y=\"139.909428\"/>\r\n      </g>\r\n     </g>\r\n     <g id=\"text_9\">\r\n      <!-- 20 -->\r\n      <g transform=\"translate(20.878125 143.708647)scale(0.1 -0.1)\">\r\n       <use xlink:href=\"#DejaVuSans-50\"/>\r\n       <use x=\"63.623047\" xlink:href=\"#DejaVuSans-48\"/>\r\n      </g>\r\n     </g>\r\n    </g>\r\n    <g id=\"ytick_4\">\r\n     <g id=\"line2d_10\">\r\n      <g>\r\n       <use style=\"stroke:#000000;stroke-width:0.8;\" x=\"40.603125\" xlink:href=\"#mf41b430d5d\" y=\"97.544142\"/>\r\n      </g>\r\n     </g>\r\n     <g id=\"text_10\">\r\n      <!-- 30 -->\r\n      <g transform=\"translate(20.878125 101.343361)scale(0.1 -0.1)\">\r\n       <defs>\r\n        <path d=\"M 40.578125 39.3125 \r\nQ 47.65625 37.796875 51.625 33 \r\nQ 55.609375 28.21875 55.609375 21.1875 \r\nQ 55.609375 10.40625 48.1875 4.484375 \r\nQ 40.765625 -1.421875 27.09375 -1.421875 \r\nQ 22.515625 -1.421875 17.65625 -0.515625 \r\nQ 12.796875 0.390625 7.625 2.203125 \r\nL 7.625 11.71875 \r\nQ 11.71875 9.328125 16.59375 8.109375 \r\nQ 21.484375 6.890625 26.8125 6.890625 \r\nQ 36.078125 6.890625 40.9375 10.546875 \r\nQ 45.796875 14.203125 45.796875 21.1875 \r\nQ 45.796875 27.640625 41.28125 31.265625 \r\nQ 36.765625 34.90625 28.71875 34.90625 \r\nL 20.21875 34.90625 \r\nL 20.21875 43.015625 \r\nL 29.109375 43.015625 \r\nQ 36.375 43.015625 40.234375 45.921875 \r\nQ 44.09375 48.828125 44.09375 54.296875 \r\nQ 44.09375 59.90625 40.109375 62.90625 \r\nQ 36.140625 65.921875 28.71875 65.921875 \r\nQ 24.65625 65.921875 20.015625 65.03125 \r\nQ 15.375 64.15625 9.8125 62.3125 \r\nL 9.8125 71.09375 \r\nQ 15.4375 72.65625 20.34375 73.4375 \r\nQ 25.25 74.21875 29.59375 74.21875 \r\nQ 40.828125 74.21875 47.359375 69.109375 \r\nQ 53.90625 64.015625 53.90625 55.328125 \r\nQ 53.90625 49.265625 50.4375 45.09375 \r\nQ 46.96875 40.921875 40.578125 39.3125 \r\nz\r\n\" id=\"DejaVuSans-51\"/>\r\n       </defs>\r\n       <use xlink:href=\"#DejaVuSans-51\"/>\r\n       <use x=\"63.623047\" xlink:href=\"#DejaVuSans-48\"/>\r\n      </g>\r\n     </g>\r\n    </g>\r\n    <g id=\"ytick_5\">\r\n     <g id=\"line2d_11\">\r\n      <g>\r\n       <use style=\"stroke:#000000;stroke-width:0.8;\" x=\"40.603125\" xlink:href=\"#mf41b430d5d\" y=\"55.178856\"/>\r\n      </g>\r\n     </g>\r\n     <g id=\"text_11\">\r\n      <!-- 40 -->\r\n      <g transform=\"translate(20.878125 58.978075)scale(0.1 -0.1)\">\r\n       <use xlink:href=\"#DejaVuSans-52\"/>\r\n       <use x=\"63.623047\" xlink:href=\"#DejaVuSans-48\"/>\r\n      </g>\r\n     </g>\r\n    </g>\r\n    <g id=\"ytick_6\">\r\n     <g id=\"line2d_12\">\r\n      <g>\r\n       <use style=\"stroke:#000000;stroke-width:0.8;\" x=\"40.603125\" xlink:href=\"#mf41b430d5d\" y=\"12.81357\"/>\r\n      </g>\r\n     </g>\r\n     <g id=\"text_12\">\r\n      <!-- 50 -->\r\n      <g transform=\"translate(20.878125 16.612789)scale(0.1 -0.1)\">\r\n       <defs>\r\n        <path d=\"M 10.796875 72.90625 \r\nL 49.515625 72.90625 \r\nL 49.515625 64.59375 \r\nL 19.828125 64.59375 \r\nL 19.828125 46.734375 \r\nQ 21.96875 47.46875 24.109375 47.828125 \r\nQ 26.265625 48.1875 28.421875 48.1875 \r\nQ 40.625 48.1875 47.75 41.5 \r\nQ 54.890625 34.8125 54.890625 23.390625 \r\nQ 54.890625 11.625 47.5625 5.09375 \r\nQ 40.234375 -1.421875 26.90625 -1.421875 \r\nQ 22.3125 -1.421875 17.546875 -0.640625 \r\nQ 12.796875 0.140625 7.71875 1.703125 \r\nL 7.71875 11.625 \r\nQ 12.109375 9.234375 16.796875 8.0625 \r\nQ 21.484375 6.890625 26.703125 6.890625 \r\nQ 35.15625 6.890625 40.078125 11.328125 \r\nQ 45.015625 15.765625 45.015625 23.390625 \r\nQ 45.015625 31 40.078125 35.4375 \r\nQ 35.15625 39.890625 26.703125 39.890625 \r\nQ 22.75 39.890625 18.8125 39.015625 \r\nQ 14.890625 38.140625 10.796875 36.28125 \r\nz\r\n\" id=\"DejaVuSans-53\"/>\r\n       </defs>\r\n       <use xlink:href=\"#DejaVuSans-53\"/>\r\n       <use x=\"63.623047\" xlink:href=\"#DejaVuSans-48\"/>\r\n      </g>\r\n     </g>\r\n    </g>\r\n    <g id=\"text_13\">\r\n     <!-- Density -->\r\n     <g transform=\"translate(14.798438 134.928594)rotate(-90)scale(0.1 -0.1)\">\r\n      <defs>\r\n       <path d=\"M 19.671875 64.796875 \r\nL 19.671875 8.109375 \r\nL 31.59375 8.109375 \r\nQ 46.6875 8.109375 53.6875 14.9375 \r\nQ 60.6875 21.78125 60.6875 36.53125 \r\nQ 60.6875 51.171875 53.6875 57.984375 \r\nQ 46.6875 64.796875 31.59375 64.796875 \r\nz\r\nM 9.8125 72.90625 \r\nL 30.078125 72.90625 \r\nQ 51.265625 72.90625 61.171875 64.09375 \r\nQ 71.09375 55.28125 71.09375 36.53125 \r\nQ 71.09375 17.671875 61.125 8.828125 \r\nQ 51.171875 0 30.078125 0 \r\nL 9.8125 0 \r\nz\r\n\" id=\"DejaVuSans-68\"/>\r\n       <path d=\"M 56.203125 29.59375 \r\nL 56.203125 25.203125 \r\nL 14.890625 25.203125 \r\nQ 15.484375 15.921875 20.484375 11.0625 \r\nQ 25.484375 6.203125 34.421875 6.203125 \r\nQ 39.59375 6.203125 44.453125 7.46875 \r\nQ 49.3125 8.734375 54.109375 11.28125 \r\nL 54.109375 2.78125 \r\nQ 49.265625 0.734375 44.1875 -0.34375 \r\nQ 39.109375 -1.421875 33.890625 -1.421875 \r\nQ 20.796875 -1.421875 13.15625 6.1875 \r\nQ 5.515625 13.8125 5.515625 26.8125 \r\nQ 5.515625 40.234375 12.765625 48.109375 \r\nQ 20.015625 56 32.328125 56 \r\nQ 43.359375 56 49.78125 48.890625 \r\nQ 56.203125 41.796875 56.203125 29.59375 \r\nz\r\nM 47.21875 32.234375 \r\nQ 47.125 39.59375 43.09375 43.984375 \r\nQ 39.0625 48.390625 32.421875 48.390625 \r\nQ 24.90625 48.390625 20.390625 44.140625 \r\nQ 15.875 39.890625 15.1875 32.171875 \r\nz\r\n\" id=\"DejaVuSans-101\"/>\r\n       <path d=\"M 54.890625 33.015625 \r\nL 54.890625 0 \r\nL 45.90625 0 \r\nL 45.90625 32.71875 \r\nQ 45.90625 40.484375 42.875 44.328125 \r\nQ 39.84375 48.1875 33.796875 48.1875 \r\nQ 26.515625 48.1875 22.3125 43.546875 \r\nQ 18.109375 38.921875 18.109375 30.90625 \r\nL 18.109375 0 \r\nL 9.078125 0 \r\nL 9.078125 54.6875 \r\nL 18.109375 54.6875 \r\nL 18.109375 46.1875 \r\nQ 21.34375 51.125 25.703125 53.5625 \r\nQ 30.078125 56 35.796875 56 \r\nQ 45.21875 56 50.046875 50.171875 \r\nQ 54.890625 44.34375 54.890625 33.015625 \r\nz\r\n\" id=\"DejaVuSans-110\"/>\r\n       <path d=\"M 44.28125 53.078125 \r\nL 44.28125 44.578125 \r\nQ 40.484375 46.53125 36.375 47.5 \r\nQ 32.28125 48.484375 27.875 48.484375 \r\nQ 21.1875 48.484375 17.84375 46.4375 \r\nQ 14.5 44.390625 14.5 40.28125 \r\nQ 14.5 37.15625 16.890625 35.375 \r\nQ 19.28125 33.59375 26.515625 31.984375 \r\nL 29.59375 31.296875 \r\nQ 39.15625 29.25 43.1875 25.515625 \r\nQ 47.21875 21.78125 47.21875 15.09375 \r\nQ 47.21875 7.46875 41.1875 3.015625 \r\nQ 35.15625 -1.421875 24.609375 -1.421875 \r\nQ 20.21875 -1.421875 15.453125 -0.5625 \r\nQ 10.6875 0.296875 5.421875 2 \r\nL 5.421875 11.28125 \r\nQ 10.40625 8.6875 15.234375 7.390625 \r\nQ 20.0625 6.109375 24.8125 6.109375 \r\nQ 31.15625 6.109375 34.5625 8.28125 \r\nQ 37.984375 10.453125 37.984375 14.40625 \r\nQ 37.984375 18.0625 35.515625 20.015625 \r\nQ 33.0625 21.96875 24.703125 23.78125 \r\nL 21.578125 24.515625 \r\nQ 13.234375 26.265625 9.515625 29.90625 \r\nQ 5.8125 33.546875 5.8125 39.890625 \r\nQ 5.8125 47.609375 11.28125 51.796875 \r\nQ 16.75 56 26.8125 56 \r\nQ 31.78125 56 36.171875 55.265625 \r\nQ 40.578125 54.546875 44.28125 53.078125 \r\nz\r\n\" id=\"DejaVuSans-115\"/>\r\n       <path d=\"M 9.421875 54.6875 \r\nL 18.40625 54.6875 \r\nL 18.40625 0 \r\nL 9.421875 0 \r\nz\r\nM 9.421875 75.984375 \r\nL 18.40625 75.984375 \r\nL 18.40625 64.59375 \r\nL 9.421875 64.59375 \r\nz\r\n\" id=\"DejaVuSans-105\"/>\r\n       <path d=\"M 18.3125 70.21875 \r\nL 18.3125 54.6875 \r\nL 36.8125 54.6875 \r\nL 36.8125 47.703125 \r\nL 18.3125 47.703125 \r\nL 18.3125 18.015625 \r\nQ 18.3125 11.328125 20.140625 9.421875 \r\nQ 21.96875 7.515625 27.59375 7.515625 \r\nL 36.8125 7.515625 \r\nL 36.8125 0 \r\nL 27.59375 0 \r\nQ 17.1875 0 13.234375 3.875 \r\nQ 9.28125 7.765625 9.28125 18.015625 \r\nL 9.28125 47.703125 \r\nL 2.6875 47.703125 \r\nL 2.6875 54.6875 \r\nL 9.28125 54.6875 \r\nL 9.28125 70.21875 \r\nz\r\n\" id=\"DejaVuSans-116\"/>\r\n       <path d=\"M 32.171875 -5.078125 \r\nQ 28.375 -14.84375 24.75 -17.8125 \r\nQ 21.140625 -20.796875 15.09375 -20.796875 \r\nL 7.90625 -20.796875 \r\nL 7.90625 -13.28125 \r\nL 13.1875 -13.28125 \r\nQ 16.890625 -13.28125 18.9375 -11.515625 \r\nQ 21 -9.765625 23.484375 -3.21875 \r\nL 25.09375 0.875 \r\nL 2.984375 54.6875 \r\nL 12.5 54.6875 \r\nL 29.59375 11.921875 \r\nL 46.6875 54.6875 \r\nL 56.203125 54.6875 \r\nz\r\n\" id=\"DejaVuSans-121\"/>\r\n      </defs>\r\n      <use xlink:href=\"#DejaVuSans-68\"/>\r\n      <use x=\"77.001953\" xlink:href=\"#DejaVuSans-101\"/>\r\n      <use x=\"138.525391\" xlink:href=\"#DejaVuSans-110\"/>\r\n      <use x=\"201.904297\" xlink:href=\"#DejaVuSans-115\"/>\r\n      <use x=\"254.003906\" xlink:href=\"#DejaVuSans-105\"/>\r\n      <use x=\"281.787109\" xlink:href=\"#DejaVuSans-116\"/>\r\n      <use x=\"320.996094\" xlink:href=\"#DejaVuSans-121\"/>\r\n     </g>\r\n    </g>\r\n   </g>\r\n   <g id=\"line2d_13\">\r\n    <path clip-path=\"url(#pf280c6a9fe)\" d=\"M 55.821307 223.72494 \r\nL 57.350772 222.598181 \r\nL 58.880238 220.429105 \r\nL 60.409703 216.613592 \r\nL 61.939169 210.499734 \r\nL 63.468634 201.615856 \r\nL 64.9981 189.990343 \r\nL 68.057031 162.681846 \r\nL 69.586496 151.022248 \r\nL 71.115962 143.794439 \r\nL 72.645427 142.582297 \r\nL 74.174893 147.661034 \r\nL 75.704358 157.895676 \r\nL 80.292755 197.520705 \r\nL 81.82222 207.481519 \r\nL 83.351686 214.606122 \r\nL 84.881151 219.216891 \r\nL 86.410617 221.930947 \r\nL 87.940083 223.389234 \r\nL 89.469548 224.106267 \r\nL 90.999014 224.429495 \r\nL 94.057945 224.614147 \r\nL 104.764203 224.639999 \r\nL 329.595633 224.577983 \r\nL 332.654564 224.410299 \r\nL 335.713495 224.019171 \r\nL 341.831357 222.877757 \r\nL 343.360823 222.761492 \r\nL 344.890288 222.789241 \r\nL 347.949219 223.221621 \r\nL 352.537616 224.112919 \r\nL 355.596547 224.456255 \r\nL 360.184943 224.619052 \r\nL 360.184943 224.619052 \r\n\" style=\"fill:none;stroke:#1f77b4;stroke-linecap:square;stroke-width:1.5;\"/>\r\n   </g>\r\n   <g id=\"patch_53\">\r\n    <path d=\"M 40.603125 224.64 \r\nL 40.603125 7.2 \r\n\" style=\"fill:none;stroke:#000000;stroke-linecap:square;stroke-linejoin:miter;stroke-width:0.8;\"/>\r\n   </g>\r\n   <g id=\"patch_54\">\r\n    <path d=\"M 375.403125 224.64 \r\nL 375.403125 7.2 \r\n\" style=\"fill:none;stroke:#000000;stroke-linecap:square;stroke-linejoin:miter;stroke-width:0.8;\"/>\r\n   </g>\r\n   <g id=\"patch_55\">\r\n    <path d=\"M 40.603125 224.64 \r\nL 375.403125 224.64 \r\n\" style=\"fill:none;stroke:#000000;stroke-linecap:square;stroke-linejoin:miter;stroke-width:0.8;\"/>\r\n   </g>\r\n   <g id=\"patch_56\">\r\n    <path d=\"M 40.603125 7.2 \r\nL 375.403125 7.2 \r\n\" style=\"fill:none;stroke:#000000;stroke-linecap:square;stroke-linejoin:miter;stroke-width:0.8;\"/>\r\n   </g>\r\n  </g>\r\n </g>\r\n <defs>\r\n  <clipPath id=\"pf280c6a9fe\">\r\n   <rect height=\"217.44\" width=\"334.8\" x=\"40.603125\" y=\"7.2\"/>\r\n  </clipPath>\r\n </defs>\r\n</svg>\r\n",
      "image/png": "[encoded data removed]"
     },
     "metadata": {
      "needs_background": "light"
     }
    }
   ],
   "source": [
    "sns.distplot(tspredictions)"
   ]
  },
  {
   "cell_type": "code",
   "execution_count": null,
   "metadata": {},
   "outputs": [],
   "source": []
  },
  {
   "cell_type": "code",
   "execution_count": 156,
   "metadata": {},
   "outputs": [],
   "source": [
    "test_submit2=[]\n",
    "for i in tspredictions:\n",
    "    if i<0.5:\n",
    "        test_submit2.append(0)\n",
    "    else:\n",
    "        test_submit2.append(1)"
   ]
  },
  {
   "cell_type": "code",
   "execution_count": 157,
   "metadata": {},
   "outputs": [
    {
     "output_type": "execute_result",
     "data": {
      "text/plain": [
       "(21805,)"
      ]
     },
     "metadata": {},
     "execution_count": 157
    }
   ],
   "source": [
    "test_submit2=np.array(test_submit2)\n",
    "test_submit2.shape"
   ]
  },
  {
   "cell_type": "code",
   "execution_count": null,
   "metadata": {},
   "outputs": [],
   "source": []
  },
  {
   "cell_type": "code",
   "execution_count": 159,
   "metadata": {},
   "outputs": [],
   "source": [
    "dict={'ID':df_submit[\"ID\"],'Response':test_submit2}\n",
    "df_submit=pd.DataFrame(dict)\n",
    "df_submit.to_csv('catboost4.csv',index=False)"
   ]
  },
  {
   "cell_type": "code",
   "execution_count": 168,
   "metadata": {},
   "outputs": [
    {
     "output_type": "error",
     "ename": "NameError",
     "evalue": "name 'Pool' is not defined",
     "traceback": [
      "\u001b[1;31m---------------------------------------------------------------------------\u001b[0m",
      "\u001b[1;31mNameError\u001b[0m                                 Traceback (most recent call last)",
      "\u001b[1;32m<ipython-input-168-5f5f8cceb8e1>\u001b[0m in \u001b[0;36m<module>\u001b[1;34m\u001b[0m\n\u001b[1;32m----> 1\u001b[1;33m shap_values = model.get_feature_importance(Pool(X_test, label=y_test,cat_features=categorical_features_indices), \n\u001b[0m\u001b[0;32m      2\u001b[0m                                                                      type=\"ShapValues\")\n\u001b[0;32m      3\u001b[0m \u001b[0mexpected_value\u001b[0m \u001b[1;33m=\u001b[0m \u001b[0mshap_values\u001b[0m\u001b[1;33m[\u001b[0m\u001b[1;36m0\u001b[0m\u001b[1;33m,\u001b[0m\u001b[1;33m-\u001b[0m\u001b[1;36m1\u001b[0m\u001b[1;33m]\u001b[0m\u001b[1;33m\u001b[0m\u001b[1;33m\u001b[0m\u001b[0m\n\u001b[0;32m      4\u001b[0m \u001b[0mshap_values\u001b[0m \u001b[1;33m=\u001b[0m \u001b[0mshap_values\u001b[0m\u001b[1;33m[\u001b[0m\u001b[1;33m:\u001b[0m\u001b[1;33m,\u001b[0m\u001b[1;33m:\u001b[0m\u001b[1;33m-\u001b[0m\u001b[1;36m1\u001b[0m\u001b[1;33m]\u001b[0m\u001b[1;33m\u001b[0m\u001b[1;33m\u001b[0m\u001b[0m\n\u001b[0;32m      5\u001b[0m \u001b[1;33m\u001b[0m\u001b[0m\n",
      "\u001b[1;31mNameError\u001b[0m: name 'Pool' is not defined"
     ]
    }
   ],
   "source": [
    "shap_values = model.get_feature_importance(Pool(X_test, label=y_test,cat_features=categorical_features_indices), \n",
    "                                                                     type=\"ShapValues\")\n",
    "expected_value = shap_values[0,-1]\n",
    "shap_values = shap_values[:,:-1]\n",
    "\n",
    "shap.initjs()\n",
    "shap.force_plot(expected_value, shap_values[3,:], X_test.iloc[3,:])"
   ]
  },
  {
   "cell_type": "code",
   "execution_count": null,
   "metadata": {},
   "outputs": [],
   "source": []
  }
 ]
}